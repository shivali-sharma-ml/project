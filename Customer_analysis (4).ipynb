{
 "cells": [
  {
   "cell_type": "code",
   "execution_count": 1,
   "metadata": {},
   "outputs": [],
   "source": [
    "# Importing all the necessary libraries\n",
    "\n",
    "import numpy as np\n",
    "import os\n",
    "import pandas as pd\n",
    "import seaborn as sns\n",
    "import matplotlib.pyplot as plt\n",
    "%matplotlib inline\n",
    "\n",
    "from sklearn.preprocessing import StandardScaler, normalize\n",
    "import scipy.cluster.hierarchy as hc\n",
    "from sklearn.cluster import AgglomerativeClustering\n",
    "from sklearn.decomposition import PCA\n",
    "import warnings\n",
    "warnings.filterwarnings('ignore')\n",
    "\n",
    "from sklearn.preprocessing import LabelEncoder\n",
    "\n",
    "from sklearn.cluster import KMeans\n",
    "from sklearn.metrics import silhouette_score "
   ]
  },
  {
   "cell_type": "code",
   "execution_count": 2,
   "metadata": {},
   "outputs": [
    {
     "data": {
      "text/plain": [
       "['cleaned_df.csv', 'marketing_campaign.csv']"
      ]
     },
     "execution_count": 2,
     "metadata": {},
     "output_type": "execute_result"
    }
   ],
   "source": [
    "os.chdir('F:\\capstone project\\data')\n",
    "os.listdir()"
   ]
  },
  {
   "cell_type": "code",
   "execution_count": 3,
   "metadata": {},
   "outputs": [
    {
     "data": {
      "text/html": [
       "<div>\n",
       "<style scoped>\n",
       "    .dataframe tbody tr th:only-of-type {\n",
       "        vertical-align: middle;\n",
       "    }\n",
       "\n",
       "    .dataframe tbody tr th {\n",
       "        vertical-align: top;\n",
       "    }\n",
       "\n",
       "    .dataframe thead th {\n",
       "        text-align: right;\n",
       "    }\n",
       "</style>\n",
       "<table border=\"1\" class=\"dataframe\">\n",
       "  <thead>\n",
       "    <tr style=\"text-align: right;\">\n",
       "      <th></th>\n",
       "      <th>ID</th>\n",
       "      <th>Year_Birth</th>\n",
       "      <th>Education</th>\n",
       "      <th>Marital_Status</th>\n",
       "      <th>Income</th>\n",
       "      <th>Kidhome</th>\n",
       "      <th>Teenhome</th>\n",
       "      <th>Dt_Customer</th>\n",
       "      <th>Recency</th>\n",
       "      <th>MntWines</th>\n",
       "      <th>...</th>\n",
       "      <th>NumWebVisitsMonth</th>\n",
       "      <th>AcceptedCmp3</th>\n",
       "      <th>AcceptedCmp4</th>\n",
       "      <th>AcceptedCmp5</th>\n",
       "      <th>AcceptedCmp1</th>\n",
       "      <th>AcceptedCmp2</th>\n",
       "      <th>Complain</th>\n",
       "      <th>Z_CostContact</th>\n",
       "      <th>Z_Revenue</th>\n",
       "      <th>Response</th>\n",
       "    </tr>\n",
       "  </thead>\n",
       "  <tbody>\n",
       "    <tr>\n",
       "      <th>0</th>\n",
       "      <td>5524</td>\n",
       "      <td>1957</td>\n",
       "      <td>Graduation</td>\n",
       "      <td>Single</td>\n",
       "      <td>58138.0</td>\n",
       "      <td>0</td>\n",
       "      <td>0</td>\n",
       "      <td>04-09-2012</td>\n",
       "      <td>58</td>\n",
       "      <td>635</td>\n",
       "      <td>...</td>\n",
       "      <td>7</td>\n",
       "      <td>0</td>\n",
       "      <td>0</td>\n",
       "      <td>0</td>\n",
       "      <td>0</td>\n",
       "      <td>0</td>\n",
       "      <td>0</td>\n",
       "      <td>3</td>\n",
       "      <td>11</td>\n",
       "      <td>1</td>\n",
       "    </tr>\n",
       "    <tr>\n",
       "      <th>1</th>\n",
       "      <td>2174</td>\n",
       "      <td>1954</td>\n",
       "      <td>Graduation</td>\n",
       "      <td>Single</td>\n",
       "      <td>46344.0</td>\n",
       "      <td>1</td>\n",
       "      <td>1</td>\n",
       "      <td>08-03-2014</td>\n",
       "      <td>38</td>\n",
       "      <td>11</td>\n",
       "      <td>...</td>\n",
       "      <td>5</td>\n",
       "      <td>0</td>\n",
       "      <td>0</td>\n",
       "      <td>0</td>\n",
       "      <td>0</td>\n",
       "      <td>0</td>\n",
       "      <td>0</td>\n",
       "      <td>3</td>\n",
       "      <td>11</td>\n",
       "      <td>0</td>\n",
       "    </tr>\n",
       "    <tr>\n",
       "      <th>2</th>\n",
       "      <td>4141</td>\n",
       "      <td>1965</td>\n",
       "      <td>Graduation</td>\n",
       "      <td>Together</td>\n",
       "      <td>71613.0</td>\n",
       "      <td>0</td>\n",
       "      <td>0</td>\n",
       "      <td>21-08-2013</td>\n",
       "      <td>26</td>\n",
       "      <td>426</td>\n",
       "      <td>...</td>\n",
       "      <td>4</td>\n",
       "      <td>0</td>\n",
       "      <td>0</td>\n",
       "      <td>0</td>\n",
       "      <td>0</td>\n",
       "      <td>0</td>\n",
       "      <td>0</td>\n",
       "      <td>3</td>\n",
       "      <td>11</td>\n",
       "      <td>0</td>\n",
       "    </tr>\n",
       "    <tr>\n",
       "      <th>3</th>\n",
       "      <td>6182</td>\n",
       "      <td>1984</td>\n",
       "      <td>Graduation</td>\n",
       "      <td>Together</td>\n",
       "      <td>26646.0</td>\n",
       "      <td>1</td>\n",
       "      <td>0</td>\n",
       "      <td>10-02-2014</td>\n",
       "      <td>26</td>\n",
       "      <td>11</td>\n",
       "      <td>...</td>\n",
       "      <td>6</td>\n",
       "      <td>0</td>\n",
       "      <td>0</td>\n",
       "      <td>0</td>\n",
       "      <td>0</td>\n",
       "      <td>0</td>\n",
       "      <td>0</td>\n",
       "      <td>3</td>\n",
       "      <td>11</td>\n",
       "      <td>0</td>\n",
       "    </tr>\n",
       "    <tr>\n",
       "      <th>4</th>\n",
       "      <td>5324</td>\n",
       "      <td>1981</td>\n",
       "      <td>PhD</td>\n",
       "      <td>Married</td>\n",
       "      <td>58293.0</td>\n",
       "      <td>1</td>\n",
       "      <td>0</td>\n",
       "      <td>19-01-2014</td>\n",
       "      <td>94</td>\n",
       "      <td>173</td>\n",
       "      <td>...</td>\n",
       "      <td>5</td>\n",
       "      <td>0</td>\n",
       "      <td>0</td>\n",
       "      <td>0</td>\n",
       "      <td>0</td>\n",
       "      <td>0</td>\n",
       "      <td>0</td>\n",
       "      <td>3</td>\n",
       "      <td>11</td>\n",
       "      <td>0</td>\n",
       "    </tr>\n",
       "  </tbody>\n",
       "</table>\n",
       "<p>5 rows × 29 columns</p>\n",
       "</div>"
      ],
      "text/plain": [
       "     ID  Year_Birth   Education Marital_Status   Income  Kidhome  Teenhome  \\\n",
       "0  5524        1957  Graduation         Single  58138.0        0         0   \n",
       "1  2174        1954  Graduation         Single  46344.0        1         1   \n",
       "2  4141        1965  Graduation       Together  71613.0        0         0   \n",
       "3  6182        1984  Graduation       Together  26646.0        1         0   \n",
       "4  5324        1981         PhD        Married  58293.0        1         0   \n",
       "\n",
       "  Dt_Customer  Recency  MntWines  ...  NumWebVisitsMonth  AcceptedCmp3  \\\n",
       "0  04-09-2012       58       635  ...                  7             0   \n",
       "1  08-03-2014       38        11  ...                  5             0   \n",
       "2  21-08-2013       26       426  ...                  4             0   \n",
       "3  10-02-2014       26        11  ...                  6             0   \n",
       "4  19-01-2014       94       173  ...                  5             0   \n",
       "\n",
       "   AcceptedCmp4  AcceptedCmp5  AcceptedCmp1  AcceptedCmp2  Complain  \\\n",
       "0             0             0             0             0         0   \n",
       "1             0             0             0             0         0   \n",
       "2             0             0             0             0         0   \n",
       "3             0             0             0             0         0   \n",
       "4             0             0             0             0         0   \n",
       "\n",
       "   Z_CostContact  Z_Revenue  Response  \n",
       "0              3         11         1  \n",
       "1              3         11         0  \n",
       "2              3         11         0  \n",
       "3              3         11         0  \n",
       "4              3         11         0  \n",
       "\n",
       "[5 rows x 29 columns]"
      ]
     },
     "execution_count": 3,
     "metadata": {},
     "output_type": "execute_result"
    }
   ],
   "source": [
    "df = pd.read_csv('marketing_campaign.csv', sep=\"\\t\")\n",
    "df.head()"
   ]
  },
  {
   "cell_type": "code",
   "execution_count": 4,
   "metadata": {},
   "outputs": [
    {
     "name": "stdout",
     "output_type": "stream",
     "text": [
      "<class 'pandas.core.frame.DataFrame'>\n",
      "RangeIndex: 2240 entries, 0 to 2239\n",
      "Data columns (total 29 columns):\n",
      " #   Column               Non-Null Count  Dtype  \n",
      "---  ------               --------------  -----  \n",
      " 0   ID                   2240 non-null   int64  \n",
      " 1   Year_Birth           2240 non-null   int64  \n",
      " 2   Education            2240 non-null   object \n",
      " 3   Marital_Status       2240 non-null   object \n",
      " 4   Income               2216 non-null   float64\n",
      " 5   Kidhome              2240 non-null   int64  \n",
      " 6   Teenhome             2240 non-null   int64  \n",
      " 7   Dt_Customer          2240 non-null   object \n",
      " 8   Recency              2240 non-null   int64  \n",
      " 9   MntWines             2240 non-null   int64  \n",
      " 10  MntFruits            2240 non-null   int64  \n",
      " 11  MntMeatProducts      2240 non-null   int64  \n",
      " 12  MntFishProducts      2240 non-null   int64  \n",
      " 13  MntSweetProducts     2240 non-null   int64  \n",
      " 14  MntGoldProds         2240 non-null   int64  \n",
      " 15  NumDealsPurchases    2240 non-null   int64  \n",
      " 16  NumWebPurchases      2240 non-null   int64  \n",
      " 17  NumCatalogPurchases  2240 non-null   int64  \n",
      " 18  NumStorePurchases    2240 non-null   int64  \n",
      " 19  NumWebVisitsMonth    2240 non-null   int64  \n",
      " 20  AcceptedCmp3         2240 non-null   int64  \n",
      " 21  AcceptedCmp4         2240 non-null   int64  \n",
      " 22  AcceptedCmp5         2240 non-null   int64  \n",
      " 23  AcceptedCmp1         2240 non-null   int64  \n",
      " 24  AcceptedCmp2         2240 non-null   int64  \n",
      " 25  Complain             2240 non-null   int64  \n",
      " 26  Z_CostContact        2240 non-null   int64  \n",
      " 27  Z_Revenue            2240 non-null   int64  \n",
      " 28  Response             2240 non-null   int64  \n",
      "dtypes: float64(1), int64(25), object(3)\n",
      "memory usage: 507.6+ KB\n"
     ]
    }
   ],
   "source": [
    "df.info()"
   ]
  },
  {
   "cell_type": "markdown",
   "metadata": {},
   "source": [
    "Here we have only three columns i.e Education,Marital,Dt_customer which are of object data type all other are numeric"
   ]
  },
  {
   "cell_type": "code",
   "execution_count": 5,
   "metadata": {},
   "outputs": [
    {
     "data": {
      "text/plain": [
       "(2240, 29)"
      ]
     },
     "execution_count": 5,
     "metadata": {},
     "output_type": "execute_result"
    }
   ],
   "source": [
    "df.shape"
   ]
  },
  {
   "cell_type": "markdown",
   "metadata": {},
   "source": [
    "This data set consistsof 2240 number of rows and 29 columns"
   ]
  },
  {
   "cell_type": "markdown",
   "metadata": {},
   "source": [
    "To find the number of Unique entries in columns we make use of nunique function"
   ]
  },
  {
   "cell_type": "code",
   "execution_count": 6,
   "metadata": {},
   "outputs": [
    {
     "data": {
      "text/plain": [
       "ID                     2240\n",
       "Year_Birth               59\n",
       "Education                 5\n",
       "Marital_Status            8\n",
       "Income                 1974\n",
       "Kidhome                   3\n",
       "Teenhome                  3\n",
       "Dt_Customer             663\n",
       "Recency                 100\n",
       "MntWines                776\n",
       "MntFruits               158\n",
       "MntMeatProducts         558\n",
       "MntFishProducts         182\n",
       "MntSweetProducts        177\n",
       "MntGoldProds            213\n",
       "NumDealsPurchases        15\n",
       "NumWebPurchases          15\n",
       "NumCatalogPurchases      14\n",
       "NumStorePurchases        14\n",
       "NumWebVisitsMonth        16\n",
       "AcceptedCmp3              2\n",
       "AcceptedCmp4              2\n",
       "AcceptedCmp5              2\n",
       "AcceptedCmp1              2\n",
       "AcceptedCmp2              2\n",
       "Complain                  2\n",
       "Z_CostContact             1\n",
       "Z_Revenue                 1\n",
       "Response                  2\n",
       "dtype: int64"
      ]
     },
     "execution_count": 6,
     "metadata": {},
     "output_type": "execute_result"
    }
   ],
   "source": [
    "df.nunique()"
   ]
  },
  {
   "cell_type": "markdown",
   "metadata": {},
   "source": [
    "Since ID has 2240 unique items so we can say that it is a primary key and many of the \n",
    "columns have very less unique items so they basically are categorical variables"
   ]
  },
  {
   "cell_type": "markdown",
   "metadata": {},
   "source": [
    "Also since Z_CostContact and Z_Revenue both have only single value in all the cell and ID has all different values hence will not contribute in\n",
    "model building,so its better to remove them from data"
   ]
  },
  {
   "cell_type": "code",
   "execution_count": 7,
   "metadata": {},
   "outputs": [],
   "source": [
    "df.drop(columns=['ID','Z_Revenue','Z_CostContact'],inplace=True)"
   ]
  },
  {
   "cell_type": "markdown",
   "metadata": {},
   "source": [
    "Next we will check whether any mssing value present in the data and if yes in which column it is present"
   ]
  },
  {
   "cell_type": "code",
   "execution_count": 8,
   "metadata": {},
   "outputs": [
    {
     "data": {
      "text/plain": [
       "Year_Birth              0\n",
       "Education               0\n",
       "Marital_Status          0\n",
       "Income                 24\n",
       "Kidhome                 0\n",
       "Teenhome                0\n",
       "Dt_Customer             0\n",
       "Recency                 0\n",
       "MntWines                0\n",
       "MntFruits               0\n",
       "MntMeatProducts         0\n",
       "MntFishProducts         0\n",
       "MntSweetProducts        0\n",
       "MntGoldProds            0\n",
       "NumDealsPurchases       0\n",
       "NumWebPurchases         0\n",
       "NumCatalogPurchases     0\n",
       "NumStorePurchases       0\n",
       "NumWebVisitsMonth       0\n",
       "AcceptedCmp3            0\n",
       "AcceptedCmp4            0\n",
       "AcceptedCmp5            0\n",
       "AcceptedCmp1            0\n",
       "AcceptedCmp2            0\n",
       "Complain                0\n",
       "Response                0\n",
       "dtype: int64"
      ]
     },
     "execution_count": 8,
     "metadata": {},
     "output_type": "execute_result"
    }
   ],
   "source": [
    "df.isnull().sum()"
   ]
  },
  {
   "cell_type": "markdown",
   "metadata": {},
   "source": [
    "there are presence of missing values but only in the income column as people usually prefer to not answer this question"
   ]
  },
  {
   "cell_type": "code",
   "execution_count": 9,
   "metadata": {},
   "outputs": [],
   "source": [
    "df1=df[df[\"Income\"].isnull()]"
   ]
  },
  {
   "cell_type": "code",
   "execution_count": 10,
   "metadata": {},
   "outputs": [
    {
     "data": {
      "text/html": [
       "<div>\n",
       "<style scoped>\n",
       "    .dataframe tbody tr th:only-of-type {\n",
       "        vertical-align: middle;\n",
       "    }\n",
       "\n",
       "    .dataframe tbody tr th {\n",
       "        vertical-align: top;\n",
       "    }\n",
       "\n",
       "    .dataframe thead th {\n",
       "        text-align: right;\n",
       "    }\n",
       "</style>\n",
       "<table border=\"1\" class=\"dataframe\">\n",
       "  <thead>\n",
       "    <tr style=\"text-align: right;\">\n",
       "      <th></th>\n",
       "      <th>Year_Birth</th>\n",
       "      <th>Education</th>\n",
       "      <th>Marital_Status</th>\n",
       "      <th>Income</th>\n",
       "      <th>Kidhome</th>\n",
       "      <th>Teenhome</th>\n",
       "      <th>Dt_Customer</th>\n",
       "      <th>Recency</th>\n",
       "      <th>MntWines</th>\n",
       "      <th>MntFruits</th>\n",
       "      <th>...</th>\n",
       "      <th>NumCatalogPurchases</th>\n",
       "      <th>NumStorePurchases</th>\n",
       "      <th>NumWebVisitsMonth</th>\n",
       "      <th>AcceptedCmp3</th>\n",
       "      <th>AcceptedCmp4</th>\n",
       "      <th>AcceptedCmp5</th>\n",
       "      <th>AcceptedCmp1</th>\n",
       "      <th>AcceptedCmp2</th>\n",
       "      <th>Complain</th>\n",
       "      <th>Response</th>\n",
       "    </tr>\n",
       "  </thead>\n",
       "  <tbody>\n",
       "    <tr>\n",
       "      <th>10</th>\n",
       "      <td>1983</td>\n",
       "      <td>Graduation</td>\n",
       "      <td>Married</td>\n",
       "      <td>NaN</td>\n",
       "      <td>1</td>\n",
       "      <td>0</td>\n",
       "      <td>15-11-2013</td>\n",
       "      <td>11</td>\n",
       "      <td>5</td>\n",
       "      <td>5</td>\n",
       "      <td>...</td>\n",
       "      <td>0</td>\n",
       "      <td>2</td>\n",
       "      <td>7</td>\n",
       "      <td>0</td>\n",
       "      <td>0</td>\n",
       "      <td>0</td>\n",
       "      <td>0</td>\n",
       "      <td>0</td>\n",
       "      <td>0</td>\n",
       "      <td>0</td>\n",
       "    </tr>\n",
       "    <tr>\n",
       "      <th>27</th>\n",
       "      <td>1986</td>\n",
       "      <td>Graduation</td>\n",
       "      <td>Single</td>\n",
       "      <td>NaN</td>\n",
       "      <td>1</td>\n",
       "      <td>0</td>\n",
       "      <td>20-02-2013</td>\n",
       "      <td>19</td>\n",
       "      <td>5</td>\n",
       "      <td>1</td>\n",
       "      <td>...</td>\n",
       "      <td>0</td>\n",
       "      <td>0</td>\n",
       "      <td>1</td>\n",
       "      <td>0</td>\n",
       "      <td>0</td>\n",
       "      <td>0</td>\n",
       "      <td>0</td>\n",
       "      <td>0</td>\n",
       "      <td>0</td>\n",
       "      <td>0</td>\n",
       "    </tr>\n",
       "    <tr>\n",
       "      <th>43</th>\n",
       "      <td>1959</td>\n",
       "      <td>PhD</td>\n",
       "      <td>Single</td>\n",
       "      <td>NaN</td>\n",
       "      <td>0</td>\n",
       "      <td>0</td>\n",
       "      <td>05-11-2013</td>\n",
       "      <td>80</td>\n",
       "      <td>81</td>\n",
       "      <td>11</td>\n",
       "      <td>...</td>\n",
       "      <td>3</td>\n",
       "      <td>4</td>\n",
       "      <td>2</td>\n",
       "      <td>0</td>\n",
       "      <td>0</td>\n",
       "      <td>0</td>\n",
       "      <td>0</td>\n",
       "      <td>0</td>\n",
       "      <td>0</td>\n",
       "      <td>0</td>\n",
       "    </tr>\n",
       "    <tr>\n",
       "      <th>48</th>\n",
       "      <td>1951</td>\n",
       "      <td>Graduation</td>\n",
       "      <td>Single</td>\n",
       "      <td>NaN</td>\n",
       "      <td>2</td>\n",
       "      <td>1</td>\n",
       "      <td>01-01-2014</td>\n",
       "      <td>96</td>\n",
       "      <td>48</td>\n",
       "      <td>5</td>\n",
       "      <td>...</td>\n",
       "      <td>1</td>\n",
       "      <td>4</td>\n",
       "      <td>6</td>\n",
       "      <td>0</td>\n",
       "      <td>0</td>\n",
       "      <td>0</td>\n",
       "      <td>0</td>\n",
       "      <td>0</td>\n",
       "      <td>0</td>\n",
       "      <td>0</td>\n",
       "    </tr>\n",
       "    <tr>\n",
       "      <th>58</th>\n",
       "      <td>1982</td>\n",
       "      <td>Graduation</td>\n",
       "      <td>Single</td>\n",
       "      <td>NaN</td>\n",
       "      <td>1</td>\n",
       "      <td>0</td>\n",
       "      <td>17-06-2013</td>\n",
       "      <td>57</td>\n",
       "      <td>11</td>\n",
       "      <td>3</td>\n",
       "      <td>...</td>\n",
       "      <td>0</td>\n",
       "      <td>3</td>\n",
       "      <td>6</td>\n",
       "      <td>0</td>\n",
       "      <td>0</td>\n",
       "      <td>0</td>\n",
       "      <td>0</td>\n",
       "      <td>0</td>\n",
       "      <td>0</td>\n",
       "      <td>0</td>\n",
       "    </tr>\n",
       "    <tr>\n",
       "      <th>71</th>\n",
       "      <td>1973</td>\n",
       "      <td>2n Cycle</td>\n",
       "      <td>Married</td>\n",
       "      <td>NaN</td>\n",
       "      <td>1</td>\n",
       "      <td>0</td>\n",
       "      <td>14-09-2012</td>\n",
       "      <td>25</td>\n",
       "      <td>25</td>\n",
       "      <td>3</td>\n",
       "      <td>...</td>\n",
       "      <td>0</td>\n",
       "      <td>3</td>\n",
       "      <td>8</td>\n",
       "      <td>0</td>\n",
       "      <td>0</td>\n",
       "      <td>0</td>\n",
       "      <td>0</td>\n",
       "      <td>0</td>\n",
       "      <td>0</td>\n",
       "      <td>0</td>\n",
       "    </tr>\n",
       "    <tr>\n",
       "      <th>90</th>\n",
       "      <td>1957</td>\n",
       "      <td>PhD</td>\n",
       "      <td>Married</td>\n",
       "      <td>NaN</td>\n",
       "      <td>2</td>\n",
       "      <td>1</td>\n",
       "      <td>19-11-2012</td>\n",
       "      <td>4</td>\n",
       "      <td>230</td>\n",
       "      <td>42</td>\n",
       "      <td>...</td>\n",
       "      <td>2</td>\n",
       "      <td>8</td>\n",
       "      <td>9</td>\n",
       "      <td>0</td>\n",
       "      <td>0</td>\n",
       "      <td>0</td>\n",
       "      <td>0</td>\n",
       "      <td>0</td>\n",
       "      <td>0</td>\n",
       "      <td>0</td>\n",
       "    </tr>\n",
       "    <tr>\n",
       "      <th>91</th>\n",
       "      <td>1957</td>\n",
       "      <td>Graduation</td>\n",
       "      <td>Single</td>\n",
       "      <td>NaN</td>\n",
       "      <td>1</td>\n",
       "      <td>1</td>\n",
       "      <td>27-05-2014</td>\n",
       "      <td>45</td>\n",
       "      <td>7</td>\n",
       "      <td>0</td>\n",
       "      <td>...</td>\n",
       "      <td>0</td>\n",
       "      <td>2</td>\n",
       "      <td>7</td>\n",
       "      <td>0</td>\n",
       "      <td>0</td>\n",
       "      <td>0</td>\n",
       "      <td>0</td>\n",
       "      <td>0</td>\n",
       "      <td>0</td>\n",
       "      <td>0</td>\n",
       "    </tr>\n",
       "    <tr>\n",
       "      <th>92</th>\n",
       "      <td>1973</td>\n",
       "      <td>Master</td>\n",
       "      <td>Together</td>\n",
       "      <td>NaN</td>\n",
       "      <td>0</td>\n",
       "      <td>0</td>\n",
       "      <td>23-11-2013</td>\n",
       "      <td>87</td>\n",
       "      <td>445</td>\n",
       "      <td>37</td>\n",
       "      <td>...</td>\n",
       "      <td>4</td>\n",
       "      <td>8</td>\n",
       "      <td>1</td>\n",
       "      <td>0</td>\n",
       "      <td>0</td>\n",
       "      <td>0</td>\n",
       "      <td>0</td>\n",
       "      <td>0</td>\n",
       "      <td>0</td>\n",
       "      <td>0</td>\n",
       "    </tr>\n",
       "    <tr>\n",
       "      <th>128</th>\n",
       "      <td>1961</td>\n",
       "      <td>PhD</td>\n",
       "      <td>Married</td>\n",
       "      <td>NaN</td>\n",
       "      <td>0</td>\n",
       "      <td>1</td>\n",
       "      <td>11-07-2013</td>\n",
       "      <td>23</td>\n",
       "      <td>352</td>\n",
       "      <td>0</td>\n",
       "      <td>...</td>\n",
       "      <td>1</td>\n",
       "      <td>7</td>\n",
       "      <td>6</td>\n",
       "      <td>0</td>\n",
       "      <td>0</td>\n",
       "      <td>0</td>\n",
       "      <td>0</td>\n",
       "      <td>0</td>\n",
       "      <td>0</td>\n",
       "      <td>0</td>\n",
       "    </tr>\n",
       "    <tr>\n",
       "      <th>133</th>\n",
       "      <td>1963</td>\n",
       "      <td>Graduation</td>\n",
       "      <td>Married</td>\n",
       "      <td>NaN</td>\n",
       "      <td>0</td>\n",
       "      <td>1</td>\n",
       "      <td>11-08-2013</td>\n",
       "      <td>96</td>\n",
       "      <td>231</td>\n",
       "      <td>65</td>\n",
       "      <td>...</td>\n",
       "      <td>5</td>\n",
       "      <td>7</td>\n",
       "      <td>4</td>\n",
       "      <td>0</td>\n",
       "      <td>0</td>\n",
       "      <td>0</td>\n",
       "      <td>0</td>\n",
       "      <td>0</td>\n",
       "      <td>0</td>\n",
       "      <td>0</td>\n",
       "    </tr>\n",
       "    <tr>\n",
       "      <th>312</th>\n",
       "      <td>1989</td>\n",
       "      <td>Graduation</td>\n",
       "      <td>Married</td>\n",
       "      <td>NaN</td>\n",
       "      <td>0</td>\n",
       "      <td>0</td>\n",
       "      <td>03-06-2013</td>\n",
       "      <td>69</td>\n",
       "      <td>861</td>\n",
       "      <td>138</td>\n",
       "      <td>...</td>\n",
       "      <td>5</td>\n",
       "      <td>12</td>\n",
       "      <td>3</td>\n",
       "      <td>0</td>\n",
       "      <td>1</td>\n",
       "      <td>0</td>\n",
       "      <td>1</td>\n",
       "      <td>0</td>\n",
       "      <td>0</td>\n",
       "      <td>0</td>\n",
       "    </tr>\n",
       "    <tr>\n",
       "      <th>319</th>\n",
       "      <td>1970</td>\n",
       "      <td>Graduation</td>\n",
       "      <td>Single</td>\n",
       "      <td>NaN</td>\n",
       "      <td>1</td>\n",
       "      <td>2</td>\n",
       "      <td>23-08-2013</td>\n",
       "      <td>67</td>\n",
       "      <td>738</td>\n",
       "      <td>20</td>\n",
       "      <td>...</td>\n",
       "      <td>3</td>\n",
       "      <td>10</td>\n",
       "      <td>7</td>\n",
       "      <td>0</td>\n",
       "      <td>1</td>\n",
       "      <td>0</td>\n",
       "      <td>1</td>\n",
       "      <td>0</td>\n",
       "      <td>0</td>\n",
       "      <td>0</td>\n",
       "    </tr>\n",
       "    <tr>\n",
       "      <th>1379</th>\n",
       "      <td>1970</td>\n",
       "      <td>Master</td>\n",
       "      <td>Together</td>\n",
       "      <td>NaN</td>\n",
       "      <td>0</td>\n",
       "      <td>1</td>\n",
       "      <td>01-04-2013</td>\n",
       "      <td>39</td>\n",
       "      <td>187</td>\n",
       "      <td>5</td>\n",
       "      <td>...</td>\n",
       "      <td>2</td>\n",
       "      <td>6</td>\n",
       "      <td>5</td>\n",
       "      <td>0</td>\n",
       "      <td>0</td>\n",
       "      <td>0</td>\n",
       "      <td>0</td>\n",
       "      <td>0</td>\n",
       "      <td>0</td>\n",
       "      <td>0</td>\n",
       "    </tr>\n",
       "    <tr>\n",
       "      <th>1382</th>\n",
       "      <td>1958</td>\n",
       "      <td>Graduation</td>\n",
       "      <td>Together</td>\n",
       "      <td>NaN</td>\n",
       "      <td>1</td>\n",
       "      <td>1</td>\n",
       "      <td>03-09-2012</td>\n",
       "      <td>87</td>\n",
       "      <td>19</td>\n",
       "      <td>4</td>\n",
       "      <td>...</td>\n",
       "      <td>0</td>\n",
       "      <td>3</td>\n",
       "      <td>5</td>\n",
       "      <td>0</td>\n",
       "      <td>0</td>\n",
       "      <td>0</td>\n",
       "      <td>0</td>\n",
       "      <td>0</td>\n",
       "      <td>0</td>\n",
       "      <td>0</td>\n",
       "    </tr>\n",
       "    <tr>\n",
       "      <th>1383</th>\n",
       "      <td>1964</td>\n",
       "      <td>2n Cycle</td>\n",
       "      <td>Single</td>\n",
       "      <td>NaN</td>\n",
       "      <td>1</td>\n",
       "      <td>1</td>\n",
       "      <td>12-01-2014</td>\n",
       "      <td>49</td>\n",
       "      <td>5</td>\n",
       "      <td>1</td>\n",
       "      <td>...</td>\n",
       "      <td>0</td>\n",
       "      <td>2</td>\n",
       "      <td>7</td>\n",
       "      <td>0</td>\n",
       "      <td>0</td>\n",
       "      <td>0</td>\n",
       "      <td>0</td>\n",
       "      <td>0</td>\n",
       "      <td>0</td>\n",
       "      <td>0</td>\n",
       "    </tr>\n",
       "    <tr>\n",
       "      <th>1386</th>\n",
       "      <td>1972</td>\n",
       "      <td>PhD</td>\n",
       "      <td>Together</td>\n",
       "      <td>NaN</td>\n",
       "      <td>1</td>\n",
       "      <td>0</td>\n",
       "      <td>02-03-2014</td>\n",
       "      <td>17</td>\n",
       "      <td>25</td>\n",
       "      <td>1</td>\n",
       "      <td>...</td>\n",
       "      <td>0</td>\n",
       "      <td>3</td>\n",
       "      <td>7</td>\n",
       "      <td>0</td>\n",
       "      <td>0</td>\n",
       "      <td>0</td>\n",
       "      <td>0</td>\n",
       "      <td>0</td>\n",
       "      <td>0</td>\n",
       "      <td>0</td>\n",
       "    </tr>\n",
       "    <tr>\n",
       "      <th>2059</th>\n",
       "      <td>1969</td>\n",
       "      <td>Master</td>\n",
       "      <td>Together</td>\n",
       "      <td>NaN</td>\n",
       "      <td>1</td>\n",
       "      <td>1</td>\n",
       "      <td>18-05-2013</td>\n",
       "      <td>52</td>\n",
       "      <td>375</td>\n",
       "      <td>42</td>\n",
       "      <td>...</td>\n",
       "      <td>10</td>\n",
       "      <td>4</td>\n",
       "      <td>3</td>\n",
       "      <td>0</td>\n",
       "      <td>0</td>\n",
       "      <td>0</td>\n",
       "      <td>0</td>\n",
       "      <td>0</td>\n",
       "      <td>0</td>\n",
       "      <td>0</td>\n",
       "    </tr>\n",
       "    <tr>\n",
       "      <th>2061</th>\n",
       "      <td>1981</td>\n",
       "      <td>PhD</td>\n",
       "      <td>Single</td>\n",
       "      <td>NaN</td>\n",
       "      <td>1</td>\n",
       "      <td>0</td>\n",
       "      <td>31-05-2013</td>\n",
       "      <td>82</td>\n",
       "      <td>23</td>\n",
       "      <td>0</td>\n",
       "      <td>...</td>\n",
       "      <td>0</td>\n",
       "      <td>3</td>\n",
       "      <td>6</td>\n",
       "      <td>0</td>\n",
       "      <td>0</td>\n",
       "      <td>0</td>\n",
       "      <td>0</td>\n",
       "      <td>0</td>\n",
       "      <td>0</td>\n",
       "      <td>0</td>\n",
       "    </tr>\n",
       "    <tr>\n",
       "      <th>2078</th>\n",
       "      <td>1971</td>\n",
       "      <td>Graduation</td>\n",
       "      <td>Married</td>\n",
       "      <td>NaN</td>\n",
       "      <td>1</td>\n",
       "      <td>1</td>\n",
       "      <td>03-03-2013</td>\n",
       "      <td>82</td>\n",
       "      <td>71</td>\n",
       "      <td>1</td>\n",
       "      <td>...</td>\n",
       "      <td>1</td>\n",
       "      <td>3</td>\n",
       "      <td>8</td>\n",
       "      <td>0</td>\n",
       "      <td>0</td>\n",
       "      <td>0</td>\n",
       "      <td>0</td>\n",
       "      <td>0</td>\n",
       "      <td>0</td>\n",
       "      <td>0</td>\n",
       "    </tr>\n",
       "    <tr>\n",
       "      <th>2079</th>\n",
       "      <td>1954</td>\n",
       "      <td>Master</td>\n",
       "      <td>Together</td>\n",
       "      <td>NaN</td>\n",
       "      <td>0</td>\n",
       "      <td>1</td>\n",
       "      <td>23-06-2013</td>\n",
       "      <td>83</td>\n",
       "      <td>161</td>\n",
       "      <td>0</td>\n",
       "      <td>...</td>\n",
       "      <td>1</td>\n",
       "      <td>4</td>\n",
       "      <td>6</td>\n",
       "      <td>0</td>\n",
       "      <td>0</td>\n",
       "      <td>0</td>\n",
       "      <td>0</td>\n",
       "      <td>0</td>\n",
       "      <td>0</td>\n",
       "      <td>0</td>\n",
       "    </tr>\n",
       "    <tr>\n",
       "      <th>2081</th>\n",
       "      <td>1955</td>\n",
       "      <td>Graduation</td>\n",
       "      <td>Single</td>\n",
       "      <td>NaN</td>\n",
       "      <td>0</td>\n",
       "      <td>1</td>\n",
       "      <td>18-10-2013</td>\n",
       "      <td>95</td>\n",
       "      <td>264</td>\n",
       "      <td>0</td>\n",
       "      <td>...</td>\n",
       "      <td>1</td>\n",
       "      <td>5</td>\n",
       "      <td>7</td>\n",
       "      <td>0</td>\n",
       "      <td>0</td>\n",
       "      <td>0</td>\n",
       "      <td>0</td>\n",
       "      <td>0</td>\n",
       "      <td>0</td>\n",
       "      <td>0</td>\n",
       "    </tr>\n",
       "    <tr>\n",
       "      <th>2084</th>\n",
       "      <td>1943</td>\n",
       "      <td>Master</td>\n",
       "      <td>Widow</td>\n",
       "      <td>NaN</td>\n",
       "      <td>0</td>\n",
       "      <td>0</td>\n",
       "      <td>30-10-2013</td>\n",
       "      <td>75</td>\n",
       "      <td>532</td>\n",
       "      <td>126</td>\n",
       "      <td>...</td>\n",
       "      <td>5</td>\n",
       "      <td>11</td>\n",
       "      <td>1</td>\n",
       "      <td>0</td>\n",
       "      <td>0</td>\n",
       "      <td>1</td>\n",
       "      <td>0</td>\n",
       "      <td>0</td>\n",
       "      <td>0</td>\n",
       "      <td>1</td>\n",
       "    </tr>\n",
       "    <tr>\n",
       "      <th>2228</th>\n",
       "      <td>1978</td>\n",
       "      <td>2n Cycle</td>\n",
       "      <td>Together</td>\n",
       "      <td>NaN</td>\n",
       "      <td>0</td>\n",
       "      <td>0</td>\n",
       "      <td>12-08-2012</td>\n",
       "      <td>53</td>\n",
       "      <td>32</td>\n",
       "      <td>2</td>\n",
       "      <td>...</td>\n",
       "      <td>0</td>\n",
       "      <td>1</td>\n",
       "      <td>0</td>\n",
       "      <td>0</td>\n",
       "      <td>1</td>\n",
       "      <td>0</td>\n",
       "      <td>0</td>\n",
       "      <td>0</td>\n",
       "      <td>0</td>\n",
       "      <td>0</td>\n",
       "    </tr>\n",
       "  </tbody>\n",
       "</table>\n",
       "<p>24 rows × 26 columns</p>\n",
       "</div>"
      ],
      "text/plain": [
       "      Year_Birth   Education Marital_Status  Income  Kidhome  Teenhome  \\\n",
       "10          1983  Graduation        Married     NaN        1         0   \n",
       "27          1986  Graduation         Single     NaN        1         0   \n",
       "43          1959         PhD         Single     NaN        0         0   \n",
       "48          1951  Graduation         Single     NaN        2         1   \n",
       "58          1982  Graduation         Single     NaN        1         0   \n",
       "71          1973    2n Cycle        Married     NaN        1         0   \n",
       "90          1957         PhD        Married     NaN        2         1   \n",
       "91          1957  Graduation         Single     NaN        1         1   \n",
       "92          1973      Master       Together     NaN        0         0   \n",
       "128         1961         PhD        Married     NaN        0         1   \n",
       "133         1963  Graduation        Married     NaN        0         1   \n",
       "312         1989  Graduation        Married     NaN        0         0   \n",
       "319         1970  Graduation         Single     NaN        1         2   \n",
       "1379        1970      Master       Together     NaN        0         1   \n",
       "1382        1958  Graduation       Together     NaN        1         1   \n",
       "1383        1964    2n Cycle         Single     NaN        1         1   \n",
       "1386        1972         PhD       Together     NaN        1         0   \n",
       "2059        1969      Master       Together     NaN        1         1   \n",
       "2061        1981         PhD         Single     NaN        1         0   \n",
       "2078        1971  Graduation        Married     NaN        1         1   \n",
       "2079        1954      Master       Together     NaN        0         1   \n",
       "2081        1955  Graduation         Single     NaN        0         1   \n",
       "2084        1943      Master          Widow     NaN        0         0   \n",
       "2228        1978    2n Cycle       Together     NaN        0         0   \n",
       "\n",
       "     Dt_Customer  Recency  MntWines  MntFruits  ...  NumCatalogPurchases  \\\n",
       "10    15-11-2013       11         5          5  ...                    0   \n",
       "27    20-02-2013       19         5          1  ...                    0   \n",
       "43    05-11-2013       80        81         11  ...                    3   \n",
       "48    01-01-2014       96        48          5  ...                    1   \n",
       "58    17-06-2013       57        11          3  ...                    0   \n",
       "71    14-09-2012       25        25          3  ...                    0   \n",
       "90    19-11-2012        4       230         42  ...                    2   \n",
       "91    27-05-2014       45         7          0  ...                    0   \n",
       "92    23-11-2013       87       445         37  ...                    4   \n",
       "128   11-07-2013       23       352          0  ...                    1   \n",
       "133   11-08-2013       96       231         65  ...                    5   \n",
       "312   03-06-2013       69       861        138  ...                    5   \n",
       "319   23-08-2013       67       738         20  ...                    3   \n",
       "1379  01-04-2013       39       187          5  ...                    2   \n",
       "1382  03-09-2012       87        19          4  ...                    0   \n",
       "1383  12-01-2014       49         5          1  ...                    0   \n",
       "1386  02-03-2014       17        25          1  ...                    0   \n",
       "2059  18-05-2013       52       375         42  ...                   10   \n",
       "2061  31-05-2013       82        23          0  ...                    0   \n",
       "2078  03-03-2013       82        71          1  ...                    1   \n",
       "2079  23-06-2013       83       161          0  ...                    1   \n",
       "2081  18-10-2013       95       264          0  ...                    1   \n",
       "2084  30-10-2013       75       532        126  ...                    5   \n",
       "2228  12-08-2012       53        32          2  ...                    0   \n",
       "\n",
       "      NumStorePurchases  NumWebVisitsMonth  AcceptedCmp3  AcceptedCmp4  \\\n",
       "10                    2                  7             0             0   \n",
       "27                    0                  1             0             0   \n",
       "43                    4                  2             0             0   \n",
       "48                    4                  6             0             0   \n",
       "58                    3                  6             0             0   \n",
       "71                    3                  8             0             0   \n",
       "90                    8                  9             0             0   \n",
       "91                    2                  7             0             0   \n",
       "92                    8                  1             0             0   \n",
       "128                   7                  6             0             0   \n",
       "133                   7                  4             0             0   \n",
       "312                  12                  3             0             1   \n",
       "319                  10                  7             0             1   \n",
       "1379                  6                  5             0             0   \n",
       "1382                  3                  5             0             0   \n",
       "1383                  2                  7             0             0   \n",
       "1386                  3                  7             0             0   \n",
       "2059                  4                  3             0             0   \n",
       "2061                  3                  6             0             0   \n",
       "2078                  3                  8             0             0   \n",
       "2079                  4                  6             0             0   \n",
       "2081                  5                  7             0             0   \n",
       "2084                 11                  1             0             0   \n",
       "2228                  1                  0             0             1   \n",
       "\n",
       "      AcceptedCmp5  AcceptedCmp1  AcceptedCmp2  Complain  Response  \n",
       "10               0             0             0         0         0  \n",
       "27               0             0             0         0         0  \n",
       "43               0             0             0         0         0  \n",
       "48               0             0             0         0         0  \n",
       "58               0             0             0         0         0  \n",
       "71               0             0             0         0         0  \n",
       "90               0             0             0         0         0  \n",
       "91               0             0             0         0         0  \n",
       "92               0             0             0         0         0  \n",
       "128              0             0             0         0         0  \n",
       "133              0             0             0         0         0  \n",
       "312              0             1             0         0         0  \n",
       "319              0             1             0         0         0  \n",
       "1379             0             0             0         0         0  \n",
       "1382             0             0             0         0         0  \n",
       "1383             0             0             0         0         0  \n",
       "1386             0             0             0         0         0  \n",
       "2059             0             0             0         0         0  \n",
       "2061             0             0             0         0         0  \n",
       "2078             0             0             0         0         0  \n",
       "2079             0             0             0         0         0  \n",
       "2081             0             0             0         0         0  \n",
       "2084             1             0             0         0         1  \n",
       "2228             0             0             0         0         0  \n",
       "\n",
       "[24 rows x 26 columns]"
      ]
     },
     "execution_count": 10,
     "metadata": {},
     "output_type": "execute_result"
    }
   ],
   "source": [
    "df1"
   ]
  },
  {
   "cell_type": "markdown",
   "metadata": {},
   "source": [
    "From this we have analyzed that those person whose Income='Null ' are those which have Complain=0 for all and Response =0 \n",
    "so we can filter the data accordingly and fill the median value of that data inspite of comlete data to the missing values \n",
    "in income"
   ]
  },
  {
   "cell_type": "code",
   "execution_count": 11,
   "metadata": {},
   "outputs": [],
   "source": [
    "df2=df[df['Complain']==0]\n",
    "df3=df2[df2['Response']==0]"
   ]
  },
  {
   "cell_type": "code",
   "execution_count": 12,
   "metadata": {},
   "outputs": [
    {
     "data": {
      "text/plain": [
       "50272.0"
      ]
     },
     "execution_count": 12,
     "metadata": {},
     "output_type": "execute_result"
    }
   ],
   "source": [
    "df3['Income'].median()"
   ]
  },
  {
   "cell_type": "code",
   "execution_count": 13,
   "metadata": {},
   "outputs": [],
   "source": [
    "df['Income']=np.where(df[\"Income\"].isnull(),df3['Income'].median(),df[\"Income\"])"
   ]
  },
  {
   "cell_type": "code",
   "execution_count": 14,
   "metadata": {},
   "outputs": [
    {
     "data": {
      "text/plain": [
       "Year_Birth             0\n",
       "Education              0\n",
       "Marital_Status         0\n",
       "Income                 0\n",
       "Kidhome                0\n",
       "Teenhome               0\n",
       "Dt_Customer            0\n",
       "Recency                0\n",
       "MntWines               0\n",
       "MntFruits              0\n",
       "MntMeatProducts        0\n",
       "MntFishProducts        0\n",
       "MntSweetProducts       0\n",
       "MntGoldProds           0\n",
       "NumDealsPurchases      0\n",
       "NumWebPurchases        0\n",
       "NumCatalogPurchases    0\n",
       "NumStorePurchases      0\n",
       "NumWebVisitsMonth      0\n",
       "AcceptedCmp3           0\n",
       "AcceptedCmp4           0\n",
       "AcceptedCmp5           0\n",
       "AcceptedCmp1           0\n",
       "AcceptedCmp2           0\n",
       "Complain               0\n",
       "Response               0\n",
       "dtype: int64"
      ]
     },
     "execution_count": 14,
     "metadata": {},
     "output_type": "execute_result"
    }
   ],
   "source": [
    "df.isnull().sum()"
   ]
  },
  {
   "cell_type": "markdown",
   "metadata": {},
   "source": [
    "Hence the missing values are Treated"
   ]
  },
  {
   "cell_type": "code",
   "execution_count": 15,
   "metadata": {
    "scrolled": true
   },
   "outputs": [
    {
     "data": {
      "text/plain": [
       "Graduation    1127\n",
       "PhD            486\n",
       "Master         370\n",
       "2n Cycle       203\n",
       "Basic           54\n",
       "Name: Education, dtype: int64"
      ]
     },
     "execution_count": 15,
     "metadata": {},
     "output_type": "execute_result"
    }
   ],
   "source": [
    "# Univariate analysis\n",
    "\n",
    "#1.Education\n",
    "\n",
    "df['Education'].value_counts()\n"
   ]
  },
  {
   "cell_type": "code",
   "execution_count": 16,
   "metadata": {},
   "outputs": [],
   "source": [
    "# there are two categories like 2n Cycle and Basic ,i combined buth two as Under Graduate\n",
    "df['Education']=df['Education'].replace(['2n Cycle','Basic'],'Under Graduate')"
   ]
  },
  {
   "cell_type": "code",
   "execution_count": 17,
   "metadata": {},
   "outputs": [
    {
     "data": {
      "text/plain": [
       "Married     864\n",
       "Together    580\n",
       "Single      480\n",
       "Divorced    232\n",
       "Widow        77\n",
       "Alone         3\n",
       "YOLO          2\n",
       "Absurd        2\n",
       "Name: Marital_Status, dtype: int64"
      ]
     },
     "execution_count": 17,
     "metadata": {},
     "output_type": "execute_result"
    }
   ],
   "source": [
    "#2 Marital_Status\n",
    "\n",
    "df['Marital_Status'].value_counts()"
   ]
  },
  {
   "cell_type": "code",
   "execution_count": 18,
   "metadata": {},
   "outputs": [],
   "source": [
    "\n",
    "df['Marital_Status']=df['Marital_Status'].replace(['Widow','Alone','Yolo','Absurd'],'Miscellenious')"
   ]
  },
  {
   "cell_type": "code",
   "execution_count": 19,
   "metadata": {},
   "outputs": [
    {
     "data": {
      "text/plain": [
       "31-08-2012    12\n",
       "14-02-2013    11\n",
       "12-09-2012    11\n",
       "12-05-2014    11\n",
       "22-05-2014    10\n",
       "              ..\n",
       "29-01-2014     1\n",
       "14-08-2013     1\n",
       "13-09-2013     1\n",
       "26-04-2014     1\n",
       "08-02-2014     1\n",
       "Name: Dt_Customer, Length: 663, dtype: int64"
      ]
     },
     "execution_count": 19,
     "metadata": {},
     "output_type": "execute_result"
    }
   ],
   "source": [
    "#3 Dt_customer\n",
    "\n",
    "df['Dt_Customer'].value_counts()"
   ]
  },
  {
   "cell_type": "markdown",
   "metadata": {},
   "source": [
    "as this a Date column so i preferrable should not do any changes in this column"
   ]
  },
  {
   "cell_type": "code",
   "execution_count": 20,
   "metadata": {},
   "outputs": [],
   "source": [
    "df['Dt_Customer']=pd.to_datetime(df['Dt_Customer'])"
   ]
  },
  {
   "cell_type": "code",
   "execution_count": 21,
   "metadata": {
    "scrolled": true
   },
   "outputs": [
    {
     "name": "stdout",
     "output_type": "stream",
     "text": [
      "<class 'pandas.core.frame.DataFrame'>\n",
      "RangeIndex: 2240 entries, 0 to 2239\n",
      "Data columns (total 26 columns):\n",
      " #   Column               Non-Null Count  Dtype         \n",
      "---  ------               --------------  -----         \n",
      " 0   Year_Birth           2240 non-null   int64         \n",
      " 1   Education            2240 non-null   object        \n",
      " 2   Marital_Status       2240 non-null   object        \n",
      " 3   Income               2240 non-null   float64       \n",
      " 4   Kidhome              2240 non-null   int64         \n",
      " 5   Teenhome             2240 non-null   int64         \n",
      " 6   Dt_Customer          2240 non-null   datetime64[ns]\n",
      " 7   Recency              2240 non-null   int64         \n",
      " 8   MntWines             2240 non-null   int64         \n",
      " 9   MntFruits            2240 non-null   int64         \n",
      " 10  MntMeatProducts      2240 non-null   int64         \n",
      " 11  MntFishProducts      2240 non-null   int64         \n",
      " 12  MntSweetProducts     2240 non-null   int64         \n",
      " 13  MntGoldProds         2240 non-null   int64         \n",
      " 14  NumDealsPurchases    2240 non-null   int64         \n",
      " 15  NumWebPurchases      2240 non-null   int64         \n",
      " 16  NumCatalogPurchases  2240 non-null   int64         \n",
      " 17  NumStorePurchases    2240 non-null   int64         \n",
      " 18  NumWebVisitsMonth    2240 non-null   int64         \n",
      " 19  AcceptedCmp3         2240 non-null   int64         \n",
      " 20  AcceptedCmp4         2240 non-null   int64         \n",
      " 21  AcceptedCmp5         2240 non-null   int64         \n",
      " 22  AcceptedCmp1         2240 non-null   int64         \n",
      " 23  AcceptedCmp2         2240 non-null   int64         \n",
      " 24  Complain             2240 non-null   int64         \n",
      " 25  Response             2240 non-null   int64         \n",
      "dtypes: datetime64[ns](1), float64(1), int64(22), object(2)\n",
      "memory usage: 455.1+ KB\n"
     ]
    }
   ],
   "source": [
    "df.info()"
   ]
  },
  {
   "cell_type": "code",
   "execution_count": 22,
   "metadata": {},
   "outputs": [],
   "source": [
    "df['Dt_year'] =pd.DatetimeIndex(df['Dt_Customer']).year\n",
    "df['Dt_month'] = pd.DatetimeIndex(df['Dt_Customer']).month\n",
    "df['Dt_day'] = pd.DatetimeIndex(df['Dt_Customer']).day"
   ]
  },
  {
   "cell_type": "code",
   "execution_count": 23,
   "metadata": {},
   "outputs": [
    {
     "data": {
      "text/plain": [
       "0        9\n",
       "1        3\n",
       "2       21\n",
       "3        2\n",
       "4       19\n",
       "        ..\n",
       "2235    13\n",
       "2236     6\n",
       "2237    25\n",
       "2238    24\n",
       "2239    15\n",
       "Name: Dt_day, Length: 2240, dtype: int64"
      ]
     },
     "execution_count": 23,
     "metadata": {},
     "output_type": "execute_result"
    }
   ],
   "source": [
    "df['Dt_day']"
   ]
  },
  {
   "cell_type": "code",
   "execution_count": 24,
   "metadata": {},
   "outputs": [],
   "source": [
    "import calendar"
   ]
  },
  {
   "cell_type": "code",
   "execution_count": 25,
   "metadata": {},
   "outputs": [],
   "source": [
    "df['Dt_month'] = df['Dt_month'].apply(lambda x : calendar.month_abbr[x])"
   ]
  },
  {
   "cell_type": "markdown",
   "metadata": {},
   "source": [
    "Feature Engineering"
   ]
  },
  {
   "cell_type": "code",
   "execution_count": 26,
   "metadata": {},
   "outputs": [
    {
     "data": {
      "text/plain": [
       "Index(['Year_Birth', 'Education', 'Marital_Status', 'Income', 'Kidhome',\n",
       "       'Teenhome', 'Dt_Customer', 'Recency', 'MntWines', 'MntFruits',\n",
       "       'MntMeatProducts', 'MntFishProducts', 'MntSweetProducts',\n",
       "       'MntGoldProds', 'NumDealsPurchases', 'NumWebPurchases',\n",
       "       'NumCatalogPurchases', 'NumStorePurchases', 'NumWebVisitsMonth',\n",
       "       'AcceptedCmp3', 'AcceptedCmp4', 'AcceptedCmp5', 'AcceptedCmp1',\n",
       "       'AcceptedCmp2', 'Complain', 'Response', 'Dt_year', 'Dt_month',\n",
       "       'Dt_day'],\n",
       "      dtype='object')"
      ]
     },
     "execution_count": 26,
     "metadata": {},
     "output_type": "execute_result"
    }
   ],
   "source": [
    "df.columns"
   ]
  },
  {
   "cell_type": "code",
   "execution_count": 27,
   "metadata": {},
   "outputs": [
    {
     "data": {
      "text/plain": [
       "0    1957\n",
       "1    1954\n",
       "2    1965\n",
       "3    1984\n",
       "4    1981\n",
       "Name: Year_Birth, dtype: int64"
      ]
     },
     "execution_count": 27,
     "metadata": {},
     "output_type": "execute_result"
    }
   ],
   "source": [
    "df['Year_Birth'].head()"
   ]
  },
  {
   "cell_type": "markdown",
   "metadata": {},
   "source": [
    "## Feature Engineering"
   ]
  },
  {
   "cell_type": "markdown",
   "metadata": {},
   "source": [
    "\n",
    "To Find the current Age of Customer we subtract the Year_Birth from 2021"
   ]
  },
  {
   "cell_type": "code",
   "execution_count": 28,
   "metadata": {},
   "outputs": [],
   "source": [
    "df['Age'] = 2021-df['Year_Birth']"
   ]
  },
  {
   "cell_type": "code",
   "execution_count": 29,
   "metadata": {},
   "outputs": [
    {
     "data": {
      "text/plain": [
       "0    64\n",
       "1    67\n",
       "2    56\n",
       "3    37\n",
       "4    40\n",
       "Name: Age, dtype: int64"
      ]
     },
     "execution_count": 29,
     "metadata": {},
     "output_type": "execute_result"
    }
   ],
   "source": [
    "df['Age'].head()"
   ]
  },
  {
   "cell_type": "code",
   "execution_count": 30,
   "metadata": {},
   "outputs": [
    {
     "data": {
      "text/plain": [
       "Index(['Year_Birth', 'Education', 'Marital_Status', 'Income', 'Kidhome',\n",
       "       'Teenhome', 'Dt_Customer', 'Recency', 'MntWines', 'MntFruits',\n",
       "       'MntMeatProducts', 'MntFishProducts', 'MntSweetProducts',\n",
       "       'MntGoldProds', 'NumDealsPurchases', 'NumWebPurchases',\n",
       "       'NumCatalogPurchases', 'NumStorePurchases', 'NumWebVisitsMonth',\n",
       "       'AcceptedCmp3', 'AcceptedCmp4', 'AcceptedCmp5', 'AcceptedCmp1',\n",
       "       'AcceptedCmp2', 'Complain', 'Response', 'Dt_year', 'Dt_month', 'Dt_day',\n",
       "       'Age'],\n",
       "      dtype='object')"
      ]
     },
     "execution_count": 30,
     "metadata": {},
     "output_type": "execute_result"
    }
   ],
   "source": [
    "df.columns"
   ]
  },
  {
   "cell_type": "code",
   "execution_count": 31,
   "metadata": {},
   "outputs": [],
   "source": [
    "df['Total_expences'] = df['MntWines']+df['MntFruits']+df['MntMeatProducts']+df['MntFishProducts']+df['MntGoldProds']+df['MntSweetProducts']"
   ]
  },
  {
   "cell_type": "code",
   "execution_count": 32,
   "metadata": {},
   "outputs": [
    {
     "data": {
      "text/plain": [
       "0    1617\n",
       "1      27\n",
       "2     776\n",
       "3      53\n",
       "4     422\n",
       "Name: Total_expences, dtype: int64"
      ]
     },
     "execution_count": 32,
     "metadata": {},
     "output_type": "execute_result"
    }
   ],
   "source": [
    "df['Total_expences'].head()"
   ]
  },
  {
   "cell_type": "code",
   "execution_count": 33,
   "metadata": {},
   "outputs": [],
   "source": [
    "df['Total_Purchase'] =df['NumDealsPurchases']+df['NumWebPurchases']+df['NumCatalogPurchases']+df['NumStorePurchases']"
   ]
  },
  {
   "cell_type": "code",
   "execution_count": 34,
   "metadata": {},
   "outputs": [
    {
     "data": {
      "text/plain": [
       "0    25\n",
       "1     6\n",
       "2    21\n",
       "3     8\n",
       "4    19\n",
       "Name: Total_Purchase, dtype: int64"
      ]
     },
     "execution_count": 34,
     "metadata": {},
     "output_type": "execute_result"
    }
   ],
   "source": [
    "df['Total_Purchase'].head()"
   ]
  },
  {
   "cell_type": "code",
   "execution_count": 35,
   "metadata": {},
   "outputs": [],
   "source": [
    "corr=df.corr()"
   ]
  },
  {
   "cell_type": "code",
   "execution_count": 36,
   "metadata": {},
   "outputs": [
    {
     "data": {
      "text/html": [
       "<div>\n",
       "<style scoped>\n",
       "    .dataframe tbody tr th:only-of-type {\n",
       "        vertical-align: middle;\n",
       "    }\n",
       "\n",
       "    .dataframe tbody tr th {\n",
       "        vertical-align: top;\n",
       "    }\n",
       "\n",
       "    .dataframe thead th {\n",
       "        text-align: right;\n",
       "    }\n",
       "</style>\n",
       "<table border=\"1\" class=\"dataframe\">\n",
       "  <thead>\n",
       "    <tr style=\"text-align: right;\">\n",
       "      <th></th>\n",
       "      <th>Year_Birth</th>\n",
       "      <th>Income</th>\n",
       "      <th>Kidhome</th>\n",
       "      <th>Teenhome</th>\n",
       "      <th>Recency</th>\n",
       "      <th>MntWines</th>\n",
       "      <th>MntFruits</th>\n",
       "      <th>MntMeatProducts</th>\n",
       "      <th>MntFishProducts</th>\n",
       "      <th>MntSweetProducts</th>\n",
       "      <th>...</th>\n",
       "      <th>AcceptedCmp5</th>\n",
       "      <th>AcceptedCmp1</th>\n",
       "      <th>AcceptedCmp2</th>\n",
       "      <th>Complain</th>\n",
       "      <th>Response</th>\n",
       "      <th>Dt_year</th>\n",
       "      <th>Dt_day</th>\n",
       "      <th>Age</th>\n",
       "      <th>Total_expences</th>\n",
       "      <th>Total_Purchase</th>\n",
       "    </tr>\n",
       "  </thead>\n",
       "  <tbody>\n",
       "    <tr>\n",
       "      <th>Year_Birth</th>\n",
       "      <td>1.000000</td>\n",
       "      <td>-0.160842</td>\n",
       "      <td>0.230176</td>\n",
       "      <td>-0.352111</td>\n",
       "      <td>-0.019871</td>\n",
       "      <td>-0.157773</td>\n",
       "      <td>-0.017917</td>\n",
       "      <td>-0.030872</td>\n",
       "      <td>-0.041625</td>\n",
       "      <td>-0.018133</td>\n",
       "      <td>...</td>\n",
       "      <td>0.007123</td>\n",
       "      <td>-0.005930</td>\n",
       "      <td>-0.006539</td>\n",
       "      <td>-0.030128</td>\n",
       "      <td>0.021325</td>\n",
       "      <td>-0.028188</td>\n",
       "      <td>-0.001520</td>\n",
       "      <td>-1.000000</td>\n",
       "      <td>-0.111306</td>\n",
       "      <td>-0.168304</td>\n",
       "    </tr>\n",
       "    <tr>\n",
       "      <th>Income</th>\n",
       "      <td>-0.160842</td>\n",
       "      <td>1.000000</td>\n",
       "      <td>-0.425511</td>\n",
       "      <td>0.018898</td>\n",
       "      <td>-0.004207</td>\n",
       "      <td>0.577038</td>\n",
       "      <td>0.428839</td>\n",
       "      <td>0.577799</td>\n",
       "      <td>0.437642</td>\n",
       "      <td>0.436083</td>\n",
       "      <td>...</td>\n",
       "      <td>0.334941</td>\n",
       "      <td>0.274846</td>\n",
       "      <td>0.087634</td>\n",
       "      <td>-0.027140</td>\n",
       "      <td>0.133007</td>\n",
       "      <td>0.022400</td>\n",
       "      <td>-0.031150</td>\n",
       "      <td>0.160842</td>\n",
       "      <td>0.664850</td>\n",
       "      <td>0.563543</td>\n",
       "    </tr>\n",
       "    <tr>\n",
       "      <th>Kidhome</th>\n",
       "      <td>0.230176</td>\n",
       "      <td>-0.425511</td>\n",
       "      <td>1.000000</td>\n",
       "      <td>-0.036133</td>\n",
       "      <td>0.008827</td>\n",
       "      <td>-0.496297</td>\n",
       "      <td>-0.372581</td>\n",
       "      <td>-0.437129</td>\n",
       "      <td>-0.387644</td>\n",
       "      <td>-0.370673</td>\n",
       "      <td>...</td>\n",
       "      <td>-0.205634</td>\n",
       "      <td>-0.172339</td>\n",
       "      <td>-0.081716</td>\n",
       "      <td>0.040207</td>\n",
       "      <td>-0.080008</td>\n",
       "      <td>0.053339</td>\n",
       "      <td>-0.010121</td>\n",
       "      <td>-0.230176</td>\n",
       "      <td>-0.556669</td>\n",
       "      <td>-0.477895</td>\n",
       "    </tr>\n",
       "    <tr>\n",
       "      <th>Teenhome</th>\n",
       "      <td>-0.352111</td>\n",
       "      <td>0.018898</td>\n",
       "      <td>-0.036133</td>\n",
       "      <td>1.000000</td>\n",
       "      <td>0.016198</td>\n",
       "      <td>0.004846</td>\n",
       "      <td>-0.176764</td>\n",
       "      <td>-0.261160</td>\n",
       "      <td>-0.204187</td>\n",
       "      <td>-0.162475</td>\n",
       "      <td>...</td>\n",
       "      <td>-0.191050</td>\n",
       "      <td>-0.140090</td>\n",
       "      <td>-0.015605</td>\n",
       "      <td>0.003138</td>\n",
       "      <td>-0.154446</td>\n",
       "      <td>-0.008260</td>\n",
       "      <td>-0.001597</td>\n",
       "      <td>0.352111</td>\n",
       "      <td>-0.138384</td>\n",
       "      <td>0.133163</td>\n",
       "    </tr>\n",
       "    <tr>\n",
       "      <th>Recency</th>\n",
       "      <td>-0.019871</td>\n",
       "      <td>-0.004207</td>\n",
       "      <td>0.008827</td>\n",
       "      <td>0.016198</td>\n",
       "      <td>1.000000</td>\n",
       "      <td>0.016064</td>\n",
       "      <td>-0.004306</td>\n",
       "      <td>0.023056</td>\n",
       "      <td>0.001079</td>\n",
       "      <td>0.022670</td>\n",
       "      <td>...</td>\n",
       "      <td>0.000129</td>\n",
       "      <td>-0.019283</td>\n",
       "      <td>-0.001781</td>\n",
       "      <td>0.013231</td>\n",
       "      <td>-0.198437</td>\n",
       "      <td>-0.026084</td>\n",
       "      <td>0.018702</td>\n",
       "      <td>0.019871</td>\n",
       "      <td>0.020433</td>\n",
       "      <td>0.005740</td>\n",
       "    </tr>\n",
       "    <tr>\n",
       "      <th>MntWines</th>\n",
       "      <td>-0.157773</td>\n",
       "      <td>0.577038</td>\n",
       "      <td>-0.496297</td>\n",
       "      <td>0.004846</td>\n",
       "      <td>0.016064</td>\n",
       "      <td>1.000000</td>\n",
       "      <td>0.389637</td>\n",
       "      <td>0.562667</td>\n",
       "      <td>0.399753</td>\n",
       "      <td>0.386581</td>\n",
       "      <td>...</td>\n",
       "      <td>0.472613</td>\n",
       "      <td>0.354133</td>\n",
       "      <td>0.205907</td>\n",
       "      <td>-0.039007</td>\n",
       "      <td>0.247254</td>\n",
       "      <td>-0.154188</td>\n",
       "      <td>0.002036</td>\n",
       "      <td>0.157773</td>\n",
       "      <td>0.891839</td>\n",
       "      <td>0.712789</td>\n",
       "    </tr>\n",
       "    <tr>\n",
       "      <th>MntFruits</th>\n",
       "      <td>-0.017917</td>\n",
       "      <td>0.428839</td>\n",
       "      <td>-0.372581</td>\n",
       "      <td>-0.176764</td>\n",
       "      <td>-0.004306</td>\n",
       "      <td>0.389637</td>\n",
       "      <td>1.000000</td>\n",
       "      <td>0.543105</td>\n",
       "      <td>0.594804</td>\n",
       "      <td>0.567164</td>\n",
       "      <td>...</td>\n",
       "      <td>0.215833</td>\n",
       "      <td>0.194748</td>\n",
       "      <td>-0.009773</td>\n",
       "      <td>-0.005166</td>\n",
       "      <td>0.125289</td>\n",
       "      <td>-0.055150</td>\n",
       "      <td>-0.020009</td>\n",
       "      <td>0.017917</td>\n",
       "      <td>0.614229</td>\n",
       "      <td>0.455461</td>\n",
       "    </tr>\n",
       "    <tr>\n",
       "      <th>MntMeatProducts</th>\n",
       "      <td>-0.030872</td>\n",
       "      <td>0.577799</td>\n",
       "      <td>-0.437129</td>\n",
       "      <td>-0.261160</td>\n",
       "      <td>0.023056</td>\n",
       "      <td>0.562667</td>\n",
       "      <td>0.543105</td>\n",
       "      <td>1.000000</td>\n",
       "      <td>0.568402</td>\n",
       "      <td>0.523846</td>\n",
       "      <td>...</td>\n",
       "      <td>0.373769</td>\n",
       "      <td>0.309761</td>\n",
       "      <td>0.043033</td>\n",
       "      <td>-0.023483</td>\n",
       "      <td>0.236335</td>\n",
       "      <td>-0.082472</td>\n",
       "      <td>-0.019410</td>\n",
       "      <td>0.030872</td>\n",
       "      <td>0.842965</td>\n",
       "      <td>0.554229</td>\n",
       "    </tr>\n",
       "    <tr>\n",
       "      <th>MntFishProducts</th>\n",
       "      <td>-0.041625</td>\n",
       "      <td>0.437642</td>\n",
       "      <td>-0.387644</td>\n",
       "      <td>-0.204187</td>\n",
       "      <td>0.001079</td>\n",
       "      <td>0.399753</td>\n",
       "      <td>0.594804</td>\n",
       "      <td>0.568402</td>\n",
       "      <td>1.000000</td>\n",
       "      <td>0.579870</td>\n",
       "      <td>...</td>\n",
       "      <td>0.199578</td>\n",
       "      <td>0.260762</td>\n",
       "      <td>0.002577</td>\n",
       "      <td>-0.020953</td>\n",
       "      <td>0.111331</td>\n",
       "      <td>-0.067611</td>\n",
       "      <td>-0.012385</td>\n",
       "      <td>0.041625</td>\n",
       "      <td>0.642818</td>\n",
       "      <td>0.469454</td>\n",
       "    </tr>\n",
       "    <tr>\n",
       "      <th>MntSweetProducts</th>\n",
       "      <td>-0.018133</td>\n",
       "      <td>0.436083</td>\n",
       "      <td>-0.370673</td>\n",
       "      <td>-0.162475</td>\n",
       "      <td>0.022670</td>\n",
       "      <td>0.386581</td>\n",
       "      <td>0.567164</td>\n",
       "      <td>0.523846</td>\n",
       "      <td>0.579870</td>\n",
       "      <td>1.000000</td>\n",
       "      <td>...</td>\n",
       "      <td>0.259590</td>\n",
       "      <td>0.241818</td>\n",
       "      <td>0.009985</td>\n",
       "      <td>-0.022485</td>\n",
       "      <td>0.117372</td>\n",
       "      <td>-0.073366</td>\n",
       "      <td>0.005675</td>\n",
       "      <td>0.018133</td>\n",
       "      <td>0.603016</td>\n",
       "      <td>0.472876</td>\n",
       "    </tr>\n",
       "    <tr>\n",
       "      <th>MntGoldProds</th>\n",
       "      <td>-0.061818</td>\n",
       "      <td>0.321882</td>\n",
       "      <td>-0.349595</td>\n",
       "      <td>-0.021725</td>\n",
       "      <td>0.016693</td>\n",
       "      <td>0.387516</td>\n",
       "      <td>0.392995</td>\n",
       "      <td>0.350609</td>\n",
       "      <td>0.422875</td>\n",
       "      <td>0.369724</td>\n",
       "      <td>...</td>\n",
       "      <td>0.181021</td>\n",
       "      <td>0.166396</td>\n",
       "      <td>0.049990</td>\n",
       "      <td>-0.030861</td>\n",
       "      <td>0.139850</td>\n",
       "      <td>-0.142530</td>\n",
       "      <td>0.005125</td>\n",
       "      <td>0.061818</td>\n",
       "      <td>0.524262</td>\n",
       "      <td>0.493314</td>\n",
       "    </tr>\n",
       "    <tr>\n",
       "      <th>NumDealsPurchases</th>\n",
       "      <td>-0.060846</td>\n",
       "      <td>-0.082345</td>\n",
       "      <td>0.221798</td>\n",
       "      <td>0.387741</td>\n",
       "      <td>-0.001098</td>\n",
       "      <td>0.010940</td>\n",
       "      <td>-0.132114</td>\n",
       "      <td>-0.122415</td>\n",
       "      <td>-0.139361</td>\n",
       "      <td>-0.120100</td>\n",
       "      <td>...</td>\n",
       "      <td>-0.183248</td>\n",
       "      <td>-0.123244</td>\n",
       "      <td>-0.037695</td>\n",
       "      <td>0.000420</td>\n",
       "      <td>0.002238</td>\n",
       "      <td>-0.186210</td>\n",
       "      <td>-0.000874</td>\n",
       "      <td>0.060846</td>\n",
       "      <td>-0.065112</td>\n",
       "      <td>0.362334</td>\n",
       "    </tr>\n",
       "    <tr>\n",
       "      <th>NumWebPurchases</th>\n",
       "      <td>-0.145040</td>\n",
       "      <td>0.380551</td>\n",
       "      <td>-0.361647</td>\n",
       "      <td>0.155500</td>\n",
       "      <td>-0.010726</td>\n",
       "      <td>0.542265</td>\n",
       "      <td>0.296735</td>\n",
       "      <td>0.293761</td>\n",
       "      <td>0.293681</td>\n",
       "      <td>0.348544</td>\n",
       "      <td>...</td>\n",
       "      <td>0.138684</td>\n",
       "      <td>0.155143</td>\n",
       "      <td>0.034188</td>\n",
       "      <td>-0.016310</td>\n",
       "      <td>0.148730</td>\n",
       "      <td>-0.167257</td>\n",
       "      <td>0.011475</td>\n",
       "      <td>0.145040</td>\n",
       "      <td>0.519837</td>\n",
       "      <td>0.777831</td>\n",
       "    </tr>\n",
       "    <tr>\n",
       "      <th>NumCatalogPurchases</th>\n",
       "      <td>-0.121275</td>\n",
       "      <td>0.586945</td>\n",
       "      <td>-0.502237</td>\n",
       "      <td>-0.110769</td>\n",
       "      <td>0.025110</td>\n",
       "      <td>0.635226</td>\n",
       "      <td>0.487917</td>\n",
       "      <td>0.723827</td>\n",
       "      <td>0.534478</td>\n",
       "      <td>0.490924</td>\n",
       "      <td>...</td>\n",
       "      <td>0.322321</td>\n",
       "      <td>0.308097</td>\n",
       "      <td>0.099852</td>\n",
       "      <td>-0.020453</td>\n",
       "      <td>0.220810</td>\n",
       "      <td>-0.085421</td>\n",
       "      <td>-0.019899</td>\n",
       "      <td>0.121275</td>\n",
       "      <td>0.778577</td>\n",
       "      <td>0.735198</td>\n",
       "    </tr>\n",
       "    <tr>\n",
       "      <th>NumStorePurchases</th>\n",
       "      <td>-0.128272</td>\n",
       "      <td>0.526732</td>\n",
       "      <td>-0.499683</td>\n",
       "      <td>0.050695</td>\n",
       "      <td>0.000799</td>\n",
       "      <td>0.642100</td>\n",
       "      <td>0.461758</td>\n",
       "      <td>0.479659</td>\n",
       "      <td>0.459855</td>\n",
       "      <td>0.448756</td>\n",
       "      <td>...</td>\n",
       "      <td>0.214790</td>\n",
       "      <td>0.183249</td>\n",
       "      <td>0.085189</td>\n",
       "      <td>-0.016524</td>\n",
       "      <td>0.039363</td>\n",
       "      <td>-0.097291</td>\n",
       "      <td>0.002275</td>\n",
       "      <td>0.128272</td>\n",
       "      <td>0.674669</td>\n",
       "      <td>0.820259</td>\n",
       "    </tr>\n",
       "    <tr>\n",
       "      <th>NumWebVisitsMonth</th>\n",
       "      <td>0.121139</td>\n",
       "      <td>-0.549725</td>\n",
       "      <td>0.447846</td>\n",
       "      <td>0.134884</td>\n",
       "      <td>-0.021445</td>\n",
       "      <td>-0.320653</td>\n",
       "      <td>-0.418383</td>\n",
       "      <td>-0.539470</td>\n",
       "      <td>-0.446003</td>\n",
       "      <td>-0.423294</td>\n",
       "      <td>...</td>\n",
       "      <td>-0.278113</td>\n",
       "      <td>-0.192502</td>\n",
       "      <td>-0.007196</td>\n",
       "      <td>0.019769</td>\n",
       "      <td>-0.003987</td>\n",
       "      <td>-0.249489</td>\n",
       "      <td>0.037993</td>\n",
       "      <td>-0.121139</td>\n",
       "      <td>-0.500218</td>\n",
       "      <td>-0.312288</td>\n",
       "    </tr>\n",
       "    <tr>\n",
       "      <th>AcceptedCmp3</th>\n",
       "      <td>0.061774</td>\n",
       "      <td>-0.015930</td>\n",
       "      <td>0.014674</td>\n",
       "      <td>-0.042677</td>\n",
       "      <td>-0.032991</td>\n",
       "      <td>0.062202</td>\n",
       "      <td>0.014727</td>\n",
       "      <td>0.018272</td>\n",
       "      <td>0.000357</td>\n",
       "      <td>0.001530</td>\n",
       "      <td>...</td>\n",
       "      <td>0.080316</td>\n",
       "      <td>0.094751</td>\n",
       "      <td>0.072020</td>\n",
       "      <td>0.008415</td>\n",
       "      <td>0.254258</td>\n",
       "      <td>0.011088</td>\n",
       "      <td>-0.003205</td>\n",
       "      <td>-0.061774</td>\n",
       "      <td>0.053385</td>\n",
       "      <td>0.020709</td>\n",
       "    </tr>\n",
       "    <tr>\n",
       "      <th>AcceptedCmp4</th>\n",
       "      <td>-0.060510</td>\n",
       "      <td>0.182622</td>\n",
       "      <td>-0.161600</td>\n",
       "      <td>0.038886</td>\n",
       "      <td>0.018826</td>\n",
       "      <td>0.373286</td>\n",
       "      <td>0.010152</td>\n",
       "      <td>0.102912</td>\n",
       "      <td>0.016843</td>\n",
       "      <td>0.028641</td>\n",
       "      <td>...</td>\n",
       "      <td>0.306526</td>\n",
       "      <td>0.251300</td>\n",
       "      <td>0.292210</td>\n",
       "      <td>-0.027611</td>\n",
       "      <td>0.177019</td>\n",
       "      <td>-0.011664</td>\n",
       "      <td>0.004461</td>\n",
       "      <td>0.060510</td>\n",
       "      <td>0.253290</td>\n",
       "      <td>0.189331</td>\n",
       "    </tr>\n",
       "    <tr>\n",
       "      <th>AcceptedCmp5</th>\n",
       "      <td>0.007123</td>\n",
       "      <td>0.334941</td>\n",
       "      <td>-0.205634</td>\n",
       "      <td>-0.191050</td>\n",
       "      <td>0.000129</td>\n",
       "      <td>0.472613</td>\n",
       "      <td>0.215833</td>\n",
       "      <td>0.373769</td>\n",
       "      <td>0.199578</td>\n",
       "      <td>0.259590</td>\n",
       "      <td>...</td>\n",
       "      <td>1.000000</td>\n",
       "      <td>0.403078</td>\n",
       "      <td>0.221533</td>\n",
       "      <td>-0.009419</td>\n",
       "      <td>0.326634</td>\n",
       "      <td>0.021133</td>\n",
       "      <td>-0.040368</td>\n",
       "      <td>-0.007123</td>\n",
       "      <td>0.470058</td>\n",
       "      <td>0.217754</td>\n",
       "    </tr>\n",
       "    <tr>\n",
       "      <th>AcceptedCmp1</th>\n",
       "      <td>-0.005930</td>\n",
       "      <td>0.274846</td>\n",
       "      <td>-0.172339</td>\n",
       "      <td>-0.140090</td>\n",
       "      <td>-0.019283</td>\n",
       "      <td>0.354133</td>\n",
       "      <td>0.194748</td>\n",
       "      <td>0.309761</td>\n",
       "      <td>0.260762</td>\n",
       "      <td>0.241818</td>\n",
       "      <td>...</td>\n",
       "      <td>0.403078</td>\n",
       "      <td>1.000000</td>\n",
       "      <td>0.175315</td>\n",
       "      <td>-0.025499</td>\n",
       "      <td>0.293982</td>\n",
       "      <td>0.037101</td>\n",
       "      <td>0.001784</td>\n",
       "      <td>0.005930</td>\n",
       "      <td>0.381523</td>\n",
       "      <td>0.220041</td>\n",
       "    </tr>\n",
       "    <tr>\n",
       "      <th>AcceptedCmp2</th>\n",
       "      <td>-0.006539</td>\n",
       "      <td>0.087634</td>\n",
       "      <td>-0.081716</td>\n",
       "      <td>-0.015605</td>\n",
       "      <td>-0.001781</td>\n",
       "      <td>0.205907</td>\n",
       "      <td>-0.009773</td>\n",
       "      <td>0.043033</td>\n",
       "      <td>0.002577</td>\n",
       "      <td>0.009985</td>\n",
       "      <td>...</td>\n",
       "      <td>0.221533</td>\n",
       "      <td>0.175315</td>\n",
       "      <td>1.000000</td>\n",
       "      <td>-0.011334</td>\n",
       "      <td>0.169293</td>\n",
       "      <td>0.000887</td>\n",
       "      <td>0.025250</td>\n",
       "      <td>0.006539</td>\n",
       "      <td>0.135813</td>\n",
       "      <td>0.076980</td>\n",
       "    </tr>\n",
       "    <tr>\n",
       "      <th>Complain</th>\n",
       "      <td>-0.030128</td>\n",
       "      <td>-0.027140</td>\n",
       "      <td>0.040207</td>\n",
       "      <td>0.003138</td>\n",
       "      <td>0.013231</td>\n",
       "      <td>-0.039007</td>\n",
       "      <td>-0.005166</td>\n",
       "      <td>-0.023483</td>\n",
       "      <td>-0.020953</td>\n",
       "      <td>-0.022485</td>\n",
       "      <td>...</td>\n",
       "      <td>-0.009419</td>\n",
       "      <td>-0.025499</td>\n",
       "      <td>-0.011334</td>\n",
       "      <td>1.000000</td>\n",
       "      <td>-0.001707</td>\n",
       "      <td>-0.024304</td>\n",
       "      <td>-0.002780</td>\n",
       "      <td>0.030128</td>\n",
       "      <td>-0.037058</td>\n",
       "      <td>-0.020583</td>\n",
       "    </tr>\n",
       "    <tr>\n",
       "      <th>Response</th>\n",
       "      <td>0.021325</td>\n",
       "      <td>0.133007</td>\n",
       "      <td>-0.080008</td>\n",
       "      <td>-0.154446</td>\n",
       "      <td>-0.198437</td>\n",
       "      <td>0.247254</td>\n",
       "      <td>0.125289</td>\n",
       "      <td>0.236335</td>\n",
       "      <td>0.111331</td>\n",
       "      <td>0.117372</td>\n",
       "      <td>...</td>\n",
       "      <td>0.326634</td>\n",
       "      <td>0.293982</td>\n",
       "      <td>0.169293</td>\n",
       "      <td>-0.001707</td>\n",
       "      <td>1.000000</td>\n",
       "      <td>-0.171030</td>\n",
       "      <td>-0.004488</td>\n",
       "      <td>-0.021325</td>\n",
       "      <td>0.265298</td>\n",
       "      <td>0.155138</td>\n",
       "    </tr>\n",
       "    <tr>\n",
       "      <th>Dt_year</th>\n",
       "      <td>-0.028188</td>\n",
       "      <td>0.022400</td>\n",
       "      <td>0.053339</td>\n",
       "      <td>-0.008260</td>\n",
       "      <td>-0.026084</td>\n",
       "      <td>-0.154188</td>\n",
       "      <td>-0.055150</td>\n",
       "      <td>-0.082472</td>\n",
       "      <td>-0.067611</td>\n",
       "      <td>-0.073366</td>\n",
       "      <td>...</td>\n",
       "      <td>0.021133</td>\n",
       "      <td>0.037101</td>\n",
       "      <td>0.000887</td>\n",
       "      <td>-0.024304</td>\n",
       "      <td>-0.171030</td>\n",
       "      <td>1.000000</td>\n",
       "      <td>-0.087945</td>\n",
       "      <td>0.028188</td>\n",
       "      <td>-0.144235</td>\n",
       "      <td>-0.181127</td>\n",
       "    </tr>\n",
       "    <tr>\n",
       "      <th>Dt_day</th>\n",
       "      <td>-0.001520</td>\n",
       "      <td>-0.031150</td>\n",
       "      <td>-0.010121</td>\n",
       "      <td>-0.001597</td>\n",
       "      <td>0.018702</td>\n",
       "      <td>0.002036</td>\n",
       "      <td>-0.020009</td>\n",
       "      <td>-0.019410</td>\n",
       "      <td>-0.012385</td>\n",
       "      <td>0.005675</td>\n",
       "      <td>...</td>\n",
       "      <td>-0.040368</td>\n",
       "      <td>0.001784</td>\n",
       "      <td>0.025250</td>\n",
       "      <td>-0.002780</td>\n",
       "      <td>-0.004488</td>\n",
       "      <td>-0.087945</td>\n",
       "      <td>1.000000</td>\n",
       "      <td>0.001520</td>\n",
       "      <td>-0.007749</td>\n",
       "      <td>-0.002680</td>\n",
       "    </tr>\n",
       "    <tr>\n",
       "      <th>Age</th>\n",
       "      <td>-1.000000</td>\n",
       "      <td>0.160842</td>\n",
       "      <td>-0.230176</td>\n",
       "      <td>0.352111</td>\n",
       "      <td>0.019871</td>\n",
       "      <td>0.157773</td>\n",
       "      <td>0.017917</td>\n",
       "      <td>0.030872</td>\n",
       "      <td>0.041625</td>\n",
       "      <td>0.018133</td>\n",
       "      <td>...</td>\n",
       "      <td>-0.007123</td>\n",
       "      <td>0.005930</td>\n",
       "      <td>0.006539</td>\n",
       "      <td>0.030128</td>\n",
       "      <td>-0.021325</td>\n",
       "      <td>0.028188</td>\n",
       "      <td>0.001520</td>\n",
       "      <td>1.000000</td>\n",
       "      <td>0.111306</td>\n",
       "      <td>0.168304</td>\n",
       "    </tr>\n",
       "    <tr>\n",
       "      <th>Total_expences</th>\n",
       "      <td>-0.111306</td>\n",
       "      <td>0.664850</td>\n",
       "      <td>-0.556669</td>\n",
       "      <td>-0.138384</td>\n",
       "      <td>0.020433</td>\n",
       "      <td>0.891839</td>\n",
       "      <td>0.614229</td>\n",
       "      <td>0.842965</td>\n",
       "      <td>0.642818</td>\n",
       "      <td>0.603016</td>\n",
       "      <td>...</td>\n",
       "      <td>0.470058</td>\n",
       "      <td>0.381523</td>\n",
       "      <td>0.135813</td>\n",
       "      <td>-0.037058</td>\n",
       "      <td>0.265298</td>\n",
       "      <td>-0.144235</td>\n",
       "      <td>-0.007749</td>\n",
       "      <td>0.111306</td>\n",
       "      <td>1.000000</td>\n",
       "      <td>0.753903</td>\n",
       "    </tr>\n",
       "    <tr>\n",
       "      <th>Total_Purchase</th>\n",
       "      <td>-0.168304</td>\n",
       "      <td>0.563543</td>\n",
       "      <td>-0.477895</td>\n",
       "      <td>0.133163</td>\n",
       "      <td>0.005740</td>\n",
       "      <td>0.712789</td>\n",
       "      <td>0.455461</td>\n",
       "      <td>0.554229</td>\n",
       "      <td>0.469454</td>\n",
       "      <td>0.472876</td>\n",
       "      <td>...</td>\n",
       "      <td>0.217754</td>\n",
       "      <td>0.220041</td>\n",
       "      <td>0.076980</td>\n",
       "      <td>-0.020583</td>\n",
       "      <td>0.155138</td>\n",
       "      <td>-0.181127</td>\n",
       "      <td>-0.002680</td>\n",
       "      <td>0.168304</td>\n",
       "      <td>0.753903</td>\n",
       "      <td>1.000000</td>\n",
       "    </tr>\n",
       "  </tbody>\n",
       "</table>\n",
       "<p>28 rows × 28 columns</p>\n",
       "</div>"
      ],
      "text/plain": [
       "                     Year_Birth    Income   Kidhome  Teenhome   Recency  \\\n",
       "Year_Birth             1.000000 -0.160842  0.230176 -0.352111 -0.019871   \n",
       "Income                -0.160842  1.000000 -0.425511  0.018898 -0.004207   \n",
       "Kidhome                0.230176 -0.425511  1.000000 -0.036133  0.008827   \n",
       "Teenhome              -0.352111  0.018898 -0.036133  1.000000  0.016198   \n",
       "Recency               -0.019871 -0.004207  0.008827  0.016198  1.000000   \n",
       "MntWines              -0.157773  0.577038 -0.496297  0.004846  0.016064   \n",
       "MntFruits             -0.017917  0.428839 -0.372581 -0.176764 -0.004306   \n",
       "MntMeatProducts       -0.030872  0.577799 -0.437129 -0.261160  0.023056   \n",
       "MntFishProducts       -0.041625  0.437642 -0.387644 -0.204187  0.001079   \n",
       "MntSweetProducts      -0.018133  0.436083 -0.370673 -0.162475  0.022670   \n",
       "MntGoldProds          -0.061818  0.321882 -0.349595 -0.021725  0.016693   \n",
       "NumDealsPurchases     -0.060846 -0.082345  0.221798  0.387741 -0.001098   \n",
       "NumWebPurchases       -0.145040  0.380551 -0.361647  0.155500 -0.010726   \n",
       "NumCatalogPurchases   -0.121275  0.586945 -0.502237 -0.110769  0.025110   \n",
       "NumStorePurchases     -0.128272  0.526732 -0.499683  0.050695  0.000799   \n",
       "NumWebVisitsMonth      0.121139 -0.549725  0.447846  0.134884 -0.021445   \n",
       "AcceptedCmp3           0.061774 -0.015930  0.014674 -0.042677 -0.032991   \n",
       "AcceptedCmp4          -0.060510  0.182622 -0.161600  0.038886  0.018826   \n",
       "AcceptedCmp5           0.007123  0.334941 -0.205634 -0.191050  0.000129   \n",
       "AcceptedCmp1          -0.005930  0.274846 -0.172339 -0.140090 -0.019283   \n",
       "AcceptedCmp2          -0.006539  0.087634 -0.081716 -0.015605 -0.001781   \n",
       "Complain              -0.030128 -0.027140  0.040207  0.003138  0.013231   \n",
       "Response               0.021325  0.133007 -0.080008 -0.154446 -0.198437   \n",
       "Dt_year               -0.028188  0.022400  0.053339 -0.008260 -0.026084   \n",
       "Dt_day                -0.001520 -0.031150 -0.010121 -0.001597  0.018702   \n",
       "Age                   -1.000000  0.160842 -0.230176  0.352111  0.019871   \n",
       "Total_expences        -0.111306  0.664850 -0.556669 -0.138384  0.020433   \n",
       "Total_Purchase        -0.168304  0.563543 -0.477895  0.133163  0.005740   \n",
       "\n",
       "                     MntWines  MntFruits  MntMeatProducts  MntFishProducts  \\\n",
       "Year_Birth          -0.157773  -0.017917        -0.030872        -0.041625   \n",
       "Income               0.577038   0.428839         0.577799         0.437642   \n",
       "Kidhome             -0.496297  -0.372581        -0.437129        -0.387644   \n",
       "Teenhome             0.004846  -0.176764        -0.261160        -0.204187   \n",
       "Recency              0.016064  -0.004306         0.023056         0.001079   \n",
       "MntWines             1.000000   0.389637         0.562667         0.399753   \n",
       "MntFruits            0.389637   1.000000         0.543105         0.594804   \n",
       "MntMeatProducts      0.562667   0.543105         1.000000         0.568402   \n",
       "MntFishProducts      0.399753   0.594804         0.568402         1.000000   \n",
       "MntSweetProducts     0.386581   0.567164         0.523846         0.579870   \n",
       "MntGoldProds         0.387516   0.392995         0.350609         0.422875   \n",
       "NumDealsPurchases    0.010940  -0.132114        -0.122415        -0.139361   \n",
       "NumWebPurchases      0.542265   0.296735         0.293761         0.293681   \n",
       "NumCatalogPurchases  0.635226   0.487917         0.723827         0.534478   \n",
       "NumStorePurchases    0.642100   0.461758         0.479659         0.459855   \n",
       "NumWebVisitsMonth   -0.320653  -0.418383        -0.539470        -0.446003   \n",
       "AcceptedCmp3         0.062202   0.014727         0.018272         0.000357   \n",
       "AcceptedCmp4         0.373286   0.010152         0.102912         0.016843   \n",
       "AcceptedCmp5         0.472613   0.215833         0.373769         0.199578   \n",
       "AcceptedCmp1         0.354133   0.194748         0.309761         0.260762   \n",
       "AcceptedCmp2         0.205907  -0.009773         0.043033         0.002577   \n",
       "Complain            -0.039007  -0.005166        -0.023483        -0.020953   \n",
       "Response             0.247254   0.125289         0.236335         0.111331   \n",
       "Dt_year             -0.154188  -0.055150        -0.082472        -0.067611   \n",
       "Dt_day               0.002036  -0.020009        -0.019410        -0.012385   \n",
       "Age                  0.157773   0.017917         0.030872         0.041625   \n",
       "Total_expences       0.891839   0.614229         0.842965         0.642818   \n",
       "Total_Purchase       0.712789   0.455461         0.554229         0.469454   \n",
       "\n",
       "                     MntSweetProducts  ...  AcceptedCmp5  AcceptedCmp1  \\\n",
       "Year_Birth                  -0.018133  ...      0.007123     -0.005930   \n",
       "Income                       0.436083  ...      0.334941      0.274846   \n",
       "Kidhome                     -0.370673  ...     -0.205634     -0.172339   \n",
       "Teenhome                    -0.162475  ...     -0.191050     -0.140090   \n",
       "Recency                      0.022670  ...      0.000129     -0.019283   \n",
       "MntWines                     0.386581  ...      0.472613      0.354133   \n",
       "MntFruits                    0.567164  ...      0.215833      0.194748   \n",
       "MntMeatProducts              0.523846  ...      0.373769      0.309761   \n",
       "MntFishProducts              0.579870  ...      0.199578      0.260762   \n",
       "MntSweetProducts             1.000000  ...      0.259590      0.241818   \n",
       "MntGoldProds                 0.369724  ...      0.181021      0.166396   \n",
       "NumDealsPurchases           -0.120100  ...     -0.183248     -0.123244   \n",
       "NumWebPurchases              0.348544  ...      0.138684      0.155143   \n",
       "NumCatalogPurchases          0.490924  ...      0.322321      0.308097   \n",
       "NumStorePurchases            0.448756  ...      0.214790      0.183249   \n",
       "NumWebVisitsMonth           -0.423294  ...     -0.278113     -0.192502   \n",
       "AcceptedCmp3                 0.001530  ...      0.080316      0.094751   \n",
       "AcceptedCmp4                 0.028641  ...      0.306526      0.251300   \n",
       "AcceptedCmp5                 0.259590  ...      1.000000      0.403078   \n",
       "AcceptedCmp1                 0.241818  ...      0.403078      1.000000   \n",
       "AcceptedCmp2                 0.009985  ...      0.221533      0.175315   \n",
       "Complain                    -0.022485  ...     -0.009419     -0.025499   \n",
       "Response                     0.117372  ...      0.326634      0.293982   \n",
       "Dt_year                     -0.073366  ...      0.021133      0.037101   \n",
       "Dt_day                       0.005675  ...     -0.040368      0.001784   \n",
       "Age                          0.018133  ...     -0.007123      0.005930   \n",
       "Total_expences               0.603016  ...      0.470058      0.381523   \n",
       "Total_Purchase               0.472876  ...      0.217754      0.220041   \n",
       "\n",
       "                     AcceptedCmp2  Complain  Response   Dt_year    Dt_day  \\\n",
       "Year_Birth              -0.006539 -0.030128  0.021325 -0.028188 -0.001520   \n",
       "Income                   0.087634 -0.027140  0.133007  0.022400 -0.031150   \n",
       "Kidhome                 -0.081716  0.040207 -0.080008  0.053339 -0.010121   \n",
       "Teenhome                -0.015605  0.003138 -0.154446 -0.008260 -0.001597   \n",
       "Recency                 -0.001781  0.013231 -0.198437 -0.026084  0.018702   \n",
       "MntWines                 0.205907 -0.039007  0.247254 -0.154188  0.002036   \n",
       "MntFruits               -0.009773 -0.005166  0.125289 -0.055150 -0.020009   \n",
       "MntMeatProducts          0.043033 -0.023483  0.236335 -0.082472 -0.019410   \n",
       "MntFishProducts          0.002577 -0.020953  0.111331 -0.067611 -0.012385   \n",
       "MntSweetProducts         0.009985 -0.022485  0.117372 -0.073366  0.005675   \n",
       "MntGoldProds             0.049990 -0.030861  0.139850 -0.142530  0.005125   \n",
       "NumDealsPurchases       -0.037695  0.000420  0.002238 -0.186210 -0.000874   \n",
       "NumWebPurchases          0.034188 -0.016310  0.148730 -0.167257  0.011475   \n",
       "NumCatalogPurchases      0.099852 -0.020453  0.220810 -0.085421 -0.019899   \n",
       "NumStorePurchases        0.085189 -0.016524  0.039363 -0.097291  0.002275   \n",
       "NumWebVisitsMonth       -0.007196  0.019769 -0.003987 -0.249489  0.037993   \n",
       "AcceptedCmp3             0.072020  0.008415  0.254258  0.011088 -0.003205   \n",
       "AcceptedCmp4             0.292210 -0.027611  0.177019 -0.011664  0.004461   \n",
       "AcceptedCmp5             0.221533 -0.009419  0.326634  0.021133 -0.040368   \n",
       "AcceptedCmp1             0.175315 -0.025499  0.293982  0.037101  0.001784   \n",
       "AcceptedCmp2             1.000000 -0.011334  0.169293  0.000887  0.025250   \n",
       "Complain                -0.011334  1.000000 -0.001707 -0.024304 -0.002780   \n",
       "Response                 0.169293 -0.001707  1.000000 -0.171030 -0.004488   \n",
       "Dt_year                  0.000887 -0.024304 -0.171030  1.000000 -0.087945   \n",
       "Dt_day                   0.025250 -0.002780 -0.004488 -0.087945  1.000000   \n",
       "Age                      0.006539  0.030128 -0.021325  0.028188  0.001520   \n",
       "Total_expences           0.135813 -0.037058  0.265298 -0.144235 -0.007749   \n",
       "Total_Purchase           0.076980 -0.020583  0.155138 -0.181127 -0.002680   \n",
       "\n",
       "                          Age  Total_expences  Total_Purchase  \n",
       "Year_Birth          -1.000000       -0.111306       -0.168304  \n",
       "Income               0.160842        0.664850        0.563543  \n",
       "Kidhome             -0.230176       -0.556669       -0.477895  \n",
       "Teenhome             0.352111       -0.138384        0.133163  \n",
       "Recency              0.019871        0.020433        0.005740  \n",
       "MntWines             0.157773        0.891839        0.712789  \n",
       "MntFruits            0.017917        0.614229        0.455461  \n",
       "MntMeatProducts      0.030872        0.842965        0.554229  \n",
       "MntFishProducts      0.041625        0.642818        0.469454  \n",
       "MntSweetProducts     0.018133        0.603016        0.472876  \n",
       "MntGoldProds         0.061818        0.524262        0.493314  \n",
       "NumDealsPurchases    0.060846       -0.065112        0.362334  \n",
       "NumWebPurchases      0.145040        0.519837        0.777831  \n",
       "NumCatalogPurchases  0.121275        0.778577        0.735198  \n",
       "NumStorePurchases    0.128272        0.674669        0.820259  \n",
       "NumWebVisitsMonth   -0.121139       -0.500218       -0.312288  \n",
       "AcceptedCmp3        -0.061774        0.053385        0.020709  \n",
       "AcceptedCmp4         0.060510        0.253290        0.189331  \n",
       "AcceptedCmp5        -0.007123        0.470058        0.217754  \n",
       "AcceptedCmp1         0.005930        0.381523        0.220041  \n",
       "AcceptedCmp2         0.006539        0.135813        0.076980  \n",
       "Complain             0.030128       -0.037058       -0.020583  \n",
       "Response            -0.021325        0.265298        0.155138  \n",
       "Dt_year              0.028188       -0.144235       -0.181127  \n",
       "Dt_day               0.001520       -0.007749       -0.002680  \n",
       "Age                  1.000000        0.111306        0.168304  \n",
       "Total_expences       0.111306        1.000000        0.753903  \n",
       "Total_Purchase       0.168304        0.753903        1.000000  \n",
       "\n",
       "[28 rows x 28 columns]"
      ]
     },
     "execution_count": 36,
     "metadata": {},
     "output_type": "execute_result"
    }
   ],
   "source": [
    "corr"
   ]
  },
  {
   "cell_type": "code",
   "execution_count": 37,
   "metadata": {},
   "outputs": [
    {
     "data": {
      "image/png": "[encoded data removed]",
      "text/plain": [
       "<Figure size 1440x1440 with 2 Axes>"
      ]
     },
     "metadata": {
      "needs_background": "light"
     },
     "output_type": "display_data"
    }
   ],
   "source": [
    "# Finding the correlation between the feature column\n",
    "\n",
    "plt.figure(figsize=(20,20))\n",
    "sns.heatmap(corr, annot=True)\n",
    "plt.show()"
   ]
  },
  {
   "cell_type": "code",
   "execution_count": 38,
   "metadata": {},
   "outputs": [
    {
     "data": {
      "text/plain": [
       "(2240, 32)"
      ]
     },
     "execution_count": 38,
     "metadata": {},
     "output_type": "execute_result"
    }
   ],
   "source": [
    "df.shape"
   ]
  },
  {
   "cell_type": "code",
   "execution_count": 39,
   "metadata": {},
   "outputs": [
    {
     "data": {
      "text/plain": [
       "Total_expences       MntMeatProducts        0.842965\n",
       "Total_Purchase       NumStorePurchases      0.820259\n",
       "NumStorePurchases    Total_Purchase         0.820259\n",
       "Total_expences       NumCatalogPurchases    0.778577\n",
       "NumCatalogPurchases  Total_expences         0.778577\n",
       "NumWebPurchases      Total_Purchase         0.777831\n",
       "Total_Purchase       NumWebPurchases        0.777831\n",
       "Total_expences       Total_Purchase         0.753903\n",
       "Total_Purchase       Total_expences         0.753903\n",
       "                     NumCatalogPurchases    0.735198\n",
       "NumCatalogPurchases  Total_Purchase         0.735198\n",
       "MntMeatProducts      NumCatalogPurchases    0.723827\n",
       "NumCatalogPurchases  MntMeatProducts        0.723827\n",
       "Total_Purchase       MntWines               0.712789\n",
       "MntWines             Total_Purchase         0.712789\n",
       "Total_expences       NumStorePurchases      0.674669\n",
       "NumStorePurchases    Total_expences         0.674669\n",
       "Total_expences       Income                 0.664850\n",
       "Income               Total_expences         0.664850\n",
       "Total_expences       MntFishProducts        0.642818\n",
       "MntFishProducts      Total_expences         0.642818\n",
       "MntWines             NumStorePurchases      0.642100\n",
       "dtype: float64"
      ]
     },
     "execution_count": 39,
     "metadata": {},
     "output_type": "execute_result"
    }
   ],
   "source": [
    "# Checking for correlation by unstacking data and get the values between range[33:60] since we have 33 columns so first \n",
    "#33 values will be 1 only\n",
    "c1 = corr.abs().unstack()\n",
    "c1.sort_values(ascending = False)[33:55]"
   ]
  },
  {
   "cell_type": "code",
   "execution_count": 40,
   "metadata": {},
   "outputs": [],
   "source": [
    "high_correlated_feature=[['MntWines','MntMeatProducts','NumStorePurchases','NumCatalogPurchases','NumWebPurchases']]"
   ]
  },
  {
   "cell_type": "code",
   "execution_count": 41,
   "metadata": {},
   "outputs": [],
   "source": [
    "df.drop(columns=['MntWines','MntMeatProducts','NumStorePurchases','NumCatalogPurchases','NumWebPurchases','Total_Purchase'],inplace=True)"
   ]
  },
  {
   "cell_type": "code",
   "execution_count": 42,
   "metadata": {},
   "outputs": [
    {
     "data": {
      "text/plain": [
       "Index(['Year_Birth', 'Education', 'Marital_Status', 'Income', 'Kidhome',\n",
       "       'Teenhome', 'Dt_Customer', 'Recency', 'MntFruits', 'MntFishProducts',\n",
       "       'MntSweetProducts', 'MntGoldProds', 'NumDealsPurchases',\n",
       "       'NumWebVisitsMonth', 'AcceptedCmp3', 'AcceptedCmp4', 'AcceptedCmp5',\n",
       "       'AcceptedCmp1', 'AcceptedCmp2', 'Complain', 'Response', 'Dt_year',\n",
       "       'Dt_month', 'Dt_day', 'Age', 'Total_expences'],\n",
       "      dtype='object')"
      ]
     },
     "execution_count": 42,
     "metadata": {},
     "output_type": "execute_result"
    }
   ],
   "source": [
    "df.columns"
   ]
  },
  {
   "cell_type": "code",
   "execution_count": 43,
   "metadata": {},
   "outputs": [
    {
     "data": {
      "text/plain": [
       "Age                Year_Birth           1.000000\n",
       "Income             Total_expences       0.664850\n",
       "Total_expences     Income               0.664850\n",
       "MntFishProducts    Total_expences       0.642818\n",
       "Total_expences     MntFishProducts      0.642818\n",
       "                   MntFruits            0.614229\n",
       "MntFruits          Total_expences       0.614229\n",
       "Total_expences     MntSweetProducts     0.603016\n",
       "MntSweetProducts   Total_expences       0.603016\n",
       "MntFruits          MntFishProducts      0.594804\n",
       "MntFishProducts    MntFruits            0.594804\n",
       "                   MntSweetProducts     0.579870\n",
       "MntSweetProducts   MntFishProducts      0.579870\n",
       "MntFruits          MntSweetProducts     0.567164\n",
       "MntSweetProducts   MntFruits            0.567164\n",
       "Total_expences     Kidhome              0.556669\n",
       "Kidhome            Total_expences       0.556669\n",
       "NumWebVisitsMonth  Income               0.549725\n",
       "Income             NumWebVisitsMonth    0.549725\n",
       "Total_expences     MntGoldProds         0.524262\n",
       "MntGoldProds       Total_expences       0.524262\n",
       "Total_expences     NumWebVisitsMonth    0.500218\n",
       "NumWebVisitsMonth  Total_expences       0.500218\n",
       "Total_expences     AcceptedCmp5         0.470058\n",
       "AcceptedCmp5       Total_expences       0.470058\n",
       "Kidhome            NumWebVisitsMonth    0.447846\n",
       "NumWebVisitsMonth  Kidhome              0.447846\n",
       "MntFishProducts    NumWebVisitsMonth    0.446003\n",
       "NumWebVisitsMonth  MntFishProducts      0.446003\n",
       "MntFishProducts    Income               0.437642\n",
       "Income             MntFishProducts      0.437642\n",
       "                   MntSweetProducts     0.436083\n",
       "dtype: float64"
      ]
     },
     "execution_count": 43,
     "metadata": {},
     "output_type": "execute_result"
    }
   ],
   "source": [
    "corr=df.corr()\n",
    "c1 = corr.abs().unstack()\n",
    "c1.sort_values(ascending = False)[23:55]"
   ]
  },
  {
   "cell_type": "code",
   "execution_count": 44,
   "metadata": {},
   "outputs": [],
   "source": [
    "df.to_csv('cleaned_df.csv')"
   ]
  },
  {
   "cell_type": "code",
   "execution_count": 45,
   "metadata": {},
   "outputs": [
    {
     "data": {
      "text/plain": [
       "Graduation        1127\n",
       "PhD                486\n",
       "Master             370\n",
       "Under Graduate     257\n",
       "Name: Education, dtype: int64"
      ]
     },
     "execution_count": 45,
     "metadata": {},
     "output_type": "execute_result"
    }
   ],
   "source": [
    "df['Education'].value_counts()"
   ]
  },
  {
   "cell_type": "code",
   "execution_count": 46,
   "metadata": {},
   "outputs": [],
   "source": [
    "le=LabelEncoder()"
   ]
  },
  {
   "cell_type": "code",
   "execution_count": 47,
   "metadata": {},
   "outputs": [],
   "source": [
    "df['Education']=le.fit_transform(df['Education'])\n",
    "df['Marital_Status']=le.fit_transform(df['Marital_Status'])\n",
    "df['Dt_month']=le.fit_transform(df[\"Dt_month\"])"
   ]
  },
  {
   "cell_type": "code",
   "execution_count": 48,
   "metadata": {},
   "outputs": [
    {
     "name": "stdout",
     "output_type": "stream",
     "text": [
      "<class 'pandas.core.frame.DataFrame'>\n",
      "RangeIndex: 2240 entries, 0 to 2239\n",
      "Data columns (total 26 columns):\n",
      " #   Column             Non-Null Count  Dtype         \n",
      "---  ------             --------------  -----         \n",
      " 0   Year_Birth         2240 non-null   int64         \n",
      " 1   Education          2240 non-null   int32         \n",
      " 2   Marital_Status     2240 non-null   int32         \n",
      " 3   Income             2240 non-null   float64       \n",
      " 4   Kidhome            2240 non-null   int64         \n",
      " 5   Teenhome           2240 non-null   int64         \n",
      " 6   Dt_Customer        2240 non-null   datetime64[ns]\n",
      " 7   Recency            2240 non-null   int64         \n",
      " 8   MntFruits          2240 non-null   int64         \n",
      " 9   MntFishProducts    2240 non-null   int64         \n",
      " 10  MntSweetProducts   2240 non-null   int64         \n",
      " 11  MntGoldProds       2240 non-null   int64         \n",
      " 12  NumDealsPurchases  2240 non-null   int64         \n",
      " 13  NumWebVisitsMonth  2240 non-null   int64         \n",
      " 14  AcceptedCmp3       2240 non-null   int64         \n",
      " 15  AcceptedCmp4       2240 non-null   int64         \n",
      " 16  AcceptedCmp5       2240 non-null   int64         \n",
      " 17  AcceptedCmp1       2240 non-null   int64         \n",
      " 18  AcceptedCmp2       2240 non-null   int64         \n",
      " 19  Complain           2240 non-null   int64         \n",
      " 20  Response           2240 non-null   int64         \n",
      " 21  Dt_year            2240 non-null   int64         \n",
      " 22  Dt_month           2240 non-null   int32         \n",
      " 23  Dt_day             2240 non-null   int64         \n",
      " 24  Age                2240 non-null   int64         \n",
      " 25  Total_expences     2240 non-null   int64         \n",
      "dtypes: datetime64[ns](1), float64(1), int32(3), int64(21)\n",
      "memory usage: 428.9 KB\n"
     ]
    }
   ],
   "source": [
    "df.info()"
   ]
  },
  {
   "cell_type": "code",
   "execution_count": 49,
   "metadata": {},
   "outputs": [],
   "source": [
    "df.drop(columns=['Dt_Customer'],inplace=True)"
   ]
  },
  {
   "cell_type": "code",
   "execution_count": 50,
   "metadata": {},
   "outputs": [],
   "source": [
    "# Scale the data and normalize\n",
    "sc = StandardScaler()"
   ]
  },
  {
   "cell_type": "code",
   "execution_count": 51,
   "metadata": {},
   "outputs": [],
   "source": [
    "df_scaled=sc.fit_transform(df)"
   ]
  },
  {
   "cell_type": "code",
   "execution_count": 52,
   "metadata": {},
   "outputs": [
    {
     "data": {
      "text/plain": [
       "array([[-0.98534473, -0.86992964,  0.60105728, ..., -0.74558814,\n",
       "         0.98534473,  1.67941681],\n",
       "       [-1.23573295, -0.86992964,  0.60105728, ..., -1.42486583,\n",
       "         1.23573295, -0.96127545],\n",
       "       [-0.3176428 , -0.86992964,  1.30156109, ...,  0.61296725,\n",
       "         0.3176428 ,  0.28267329],\n",
       "       ...,\n",
       "       [ 1.01776106, -0.86992964, -1.50045413, ...,  1.06581905,\n",
       "        -1.01776106,  1.05495122],\n",
       "       [-1.06880747,  0.05228635,  1.30156109, ...,  0.9526061 ,\n",
       "         1.06880747,  0.39394775],\n",
       "       [-1.23573295,  0.97450235, -0.79995033, ..., -0.06631044,\n",
       "         1.23573295, -0.7204576 ]])"
      ]
     },
     "execution_count": 52,
     "metadata": {},
     "output_type": "execute_result"
    }
   ],
   "source": [
    "df_scaled"
   ]
  },
  {
   "cell_type": "code",
   "execution_count": 53,
   "metadata": {},
   "outputs": [],
   "source": [
    "scaled_data = StandardScaler().fit_transform(df.values)\n",
    "scaled_df = pd.DataFrame(scaled_data, index=df.index, columns=df.columns)"
   ]
  },
  {
   "cell_type": "code",
   "execution_count": 54,
   "metadata": {},
   "outputs": [
    {
     "data": {
      "text/html": [
       "<div>\n",
       "<style scoped>\n",
       "    .dataframe tbody tr th:only-of-type {\n",
       "        vertical-align: middle;\n",
       "    }\n",
       "\n",
       "    .dataframe tbody tr th {\n",
       "        vertical-align: top;\n",
       "    }\n",
       "\n",
       "    .dataframe thead th {\n",
       "        text-align: right;\n",
       "    }\n",
       "</style>\n",
       "<table border=\"1\" class=\"dataframe\">\n",
       "  <thead>\n",
       "    <tr style=\"text-align: right;\">\n",
       "      <th></th>\n",
       "      <th>Year_Birth</th>\n",
       "      <th>Education</th>\n",
       "      <th>Marital_Status</th>\n",
       "      <th>Income</th>\n",
       "      <th>Kidhome</th>\n",
       "      <th>Teenhome</th>\n",
       "      <th>Recency</th>\n",
       "      <th>MntFruits</th>\n",
       "      <th>MntFishProducts</th>\n",
       "      <th>MntSweetProducts</th>\n",
       "      <th>...</th>\n",
       "      <th>AcceptedCmp5</th>\n",
       "      <th>AcceptedCmp1</th>\n",
       "      <th>AcceptedCmp2</th>\n",
       "      <th>Complain</th>\n",
       "      <th>Response</th>\n",
       "      <th>Dt_year</th>\n",
       "      <th>Dt_month</th>\n",
       "      <th>Dt_day</th>\n",
       "      <th>Age</th>\n",
       "      <th>Total_expences</th>\n",
       "    </tr>\n",
       "  </thead>\n",
       "  <tbody>\n",
       "    <tr>\n",
       "      <th>0</th>\n",
       "      <td>-0.985345</td>\n",
       "      <td>-0.869930</td>\n",
       "      <td>0.601057</td>\n",
       "      <td>0.236164</td>\n",
       "      <td>-0.825218</td>\n",
       "      <td>-0.929894</td>\n",
       "      <td>0.307039</td>\n",
       "      <td>1.551577</td>\n",
       "      <td>2.462147</td>\n",
       "      <td>1.476500</td>\n",
       "      <td>...</td>\n",
       "      <td>-0.28014</td>\n",
       "      <td>-0.262111</td>\n",
       "      <td>-0.11651</td>\n",
       "      <td>-0.097282</td>\n",
       "      <td>2.388846</td>\n",
       "      <td>-1.502225</td>\n",
       "      <td>-1.563693</td>\n",
       "      <td>-0.745588</td>\n",
       "      <td>0.985345</td>\n",
       "      <td>1.679417</td>\n",
       "    </tr>\n",
       "    <tr>\n",
       "      <th>1</th>\n",
       "      <td>-1.235733</td>\n",
       "      <td>-0.869930</td>\n",
       "      <td>0.601057</td>\n",
       "      <td>-0.234973</td>\n",
       "      <td>1.032559</td>\n",
       "      <td>0.906934</td>\n",
       "      <td>-0.383664</td>\n",
       "      <td>-0.636301</td>\n",
       "      <td>-0.650449</td>\n",
       "      <td>-0.631503</td>\n",
       "      <td>...</td>\n",
       "      <td>-0.28014</td>\n",
       "      <td>-0.262111</td>\n",
       "      <td>-0.11651</td>\n",
       "      <td>-0.097282</td>\n",
       "      <td>-0.418612</td>\n",
       "      <td>1.420036</td>\n",
       "      <td>-1.276494</td>\n",
       "      <td>-1.424866</td>\n",
       "      <td>1.235733</td>\n",
       "      <td>-0.961275</td>\n",
       "    </tr>\n",
       "    <tr>\n",
       "      <th>2</th>\n",
       "      <td>-0.317643</td>\n",
       "      <td>-0.869930</td>\n",
       "      <td>1.301561</td>\n",
       "      <td>0.774453</td>\n",
       "      <td>-0.825218</td>\n",
       "      <td>-0.929894</td>\n",
       "      <td>-0.798086</td>\n",
       "      <td>0.570804</td>\n",
       "      <td>1.345274</td>\n",
       "      <td>-0.146905</td>\n",
       "      <td>...</td>\n",
       "      <td>-0.28014</td>\n",
       "      <td>-0.262111</td>\n",
       "      <td>-0.11651</td>\n",
       "      <td>-0.097282</td>\n",
       "      <td>-0.418612</td>\n",
       "      <td>-0.041094</td>\n",
       "      <td>-1.276494</td>\n",
       "      <td>0.612967</td>\n",
       "      <td>0.317643</td>\n",
       "      <td>0.282673</td>\n",
       "    </tr>\n",
       "    <tr>\n",
       "      <th>3</th>\n",
       "      <td>1.268149</td>\n",
       "      <td>-0.869930</td>\n",
       "      <td>1.301561</td>\n",
       "      <td>-1.021853</td>\n",
       "      <td>1.032559</td>\n",
       "      <td>-0.929894</td>\n",
       "      <td>-0.798086</td>\n",
       "      <td>-0.560857</td>\n",
       "      <td>-0.503974</td>\n",
       "      <td>-0.583043</td>\n",
       "      <td>...</td>\n",
       "      <td>-0.28014</td>\n",
       "      <td>-0.262111</td>\n",
       "      <td>-0.11651</td>\n",
       "      <td>-0.097282</td>\n",
       "      <td>-0.418612</td>\n",
       "      <td>1.420036</td>\n",
       "      <td>1.308291</td>\n",
       "      <td>-1.538079</td>\n",
       "      <td>-1.268149</td>\n",
       "      <td>-0.918094</td>\n",
       "    </tr>\n",
       "    <tr>\n",
       "      <th>4</th>\n",
       "      <td>1.017761</td>\n",
       "      <td>0.974502</td>\n",
       "      <td>-0.799950</td>\n",
       "      <td>0.242356</td>\n",
       "      <td>1.032559</td>\n",
       "      <td>-0.929894</td>\n",
       "      <td>1.550305</td>\n",
       "      <td>0.419916</td>\n",
       "      <td>0.155164</td>\n",
       "      <td>-0.001525</td>\n",
       "      <td>...</td>\n",
       "      <td>-0.28014</td>\n",
       "      <td>-0.262111</td>\n",
       "      <td>-0.11651</td>\n",
       "      <td>-0.097282</td>\n",
       "      <td>-0.418612</td>\n",
       "      <td>1.420036</td>\n",
       "      <td>-0.414899</td>\n",
       "      <td>0.386541</td>\n",
       "      <td>-1.017761</td>\n",
       "      <td>-0.305254</td>\n",
       "    </tr>\n",
       "    <tr>\n",
       "      <th>...</th>\n",
       "      <td>...</td>\n",
       "      <td>...</td>\n",
       "      <td>...</td>\n",
       "      <td>...</td>\n",
       "      <td>...</td>\n",
       "      <td>...</td>\n",
       "      <td>...</td>\n",
       "      <td>...</td>\n",
       "      <td>...</td>\n",
       "      <td>...</td>\n",
       "      <td>...</td>\n",
       "      <td>...</td>\n",
       "      <td>...</td>\n",
       "      <td>...</td>\n",
       "      <td>...</td>\n",
       "      <td>...</td>\n",
       "      <td>...</td>\n",
       "      <td>...</td>\n",
       "      <td>...</td>\n",
       "      <td>...</td>\n",
       "      <td>...</td>\n",
       "    </tr>\n",
       "    <tr>\n",
       "      <th>2235</th>\n",
       "      <td>-0.150717</td>\n",
       "      <td>-0.869930</td>\n",
       "      <td>-0.799950</td>\n",
       "      <td>0.359402</td>\n",
       "      <td>-0.825218</td>\n",
       "      <td>0.906934</td>\n",
       "      <td>-0.107383</td>\n",
       "      <td>0.419916</td>\n",
       "      <td>0.081926</td>\n",
       "      <td>2.203398</td>\n",
       "      <td>...</td>\n",
       "      <td>-0.28014</td>\n",
       "      <td>-0.262111</td>\n",
       "      <td>-0.11651</td>\n",
       "      <td>-0.097282</td>\n",
       "      <td>-0.418612</td>\n",
       "      <td>-0.041094</td>\n",
       "      <td>0.159498</td>\n",
       "      <td>-0.292736</td>\n",
       "      <td>0.150717</td>\n",
       "      <td>1.221032</td>\n",
       "    </tr>\n",
       "    <tr>\n",
       "      <th>2236</th>\n",
       "      <td>-1.903435</td>\n",
       "      <td>0.974502</td>\n",
       "      <td>1.301561</td>\n",
       "      <td>0.470894</td>\n",
       "      <td>2.890335</td>\n",
       "      <td>0.906934</td>\n",
       "      <td>0.237969</td>\n",
       "      <td>-0.661449</td>\n",
       "      <td>-0.687068</td>\n",
       "      <td>-0.655733</td>\n",
       "      <td>...</td>\n",
       "      <td>-0.28014</td>\n",
       "      <td>3.815174</td>\n",
       "      <td>-0.11651</td>\n",
       "      <td>-0.097282</td>\n",
       "      <td>-0.418612</td>\n",
       "      <td>1.420036</td>\n",
       "      <td>1.308291</td>\n",
       "      <td>-1.085227</td>\n",
       "      <td>1.903435</td>\n",
       "      <td>-0.268717</td>\n",
       "    </tr>\n",
       "    <tr>\n",
       "      <th>2237</th>\n",
       "      <td>1.017761</td>\n",
       "      <td>-0.869930</td>\n",
       "      <td>-1.500454</td>\n",
       "      <td>0.189945</td>\n",
       "      <td>-0.825218</td>\n",
       "      <td>-0.929894</td>\n",
       "      <td>1.446700</td>\n",
       "      <td>0.545656</td>\n",
       "      <td>-0.101168</td>\n",
       "      <td>-0.364974</td>\n",
       "      <td>...</td>\n",
       "      <td>-0.28014</td>\n",
       "      <td>-0.262111</td>\n",
       "      <td>-0.11651</td>\n",
       "      <td>-0.097282</td>\n",
       "      <td>-0.418612</td>\n",
       "      <td>1.420036</td>\n",
       "      <td>-0.414899</td>\n",
       "      <td>1.065819</td>\n",
       "      <td>-1.017761</td>\n",
       "      <td>1.054951</td>\n",
       "    </tr>\n",
       "    <tr>\n",
       "      <th>2238</th>\n",
       "      <td>-1.068807</td>\n",
       "      <td>0.052286</td>\n",
       "      <td>1.301561</td>\n",
       "      <td>0.679858</td>\n",
       "      <td>-0.825218</td>\n",
       "      <td>0.906934</td>\n",
       "      <td>-1.419719</td>\n",
       "      <td>0.092992</td>\n",
       "      <td>0.777683</td>\n",
       "      <td>0.071165</td>\n",
       "      <td>...</td>\n",
       "      <td>-0.28014</td>\n",
       "      <td>-0.262111</td>\n",
       "      <td>-0.11651</td>\n",
       "      <td>-0.097282</td>\n",
       "      <td>-0.418612</td>\n",
       "      <td>1.420036</td>\n",
       "      <td>-0.414899</td>\n",
       "      <td>0.952606</td>\n",
       "      <td>1.068807</td>\n",
       "      <td>0.393948</td>\n",
       "    </tr>\n",
       "    <tr>\n",
       "      <th>2239</th>\n",
       "      <td>-1.235733</td>\n",
       "      <td>0.974502</td>\n",
       "      <td>-0.799950</td>\n",
       "      <td>0.025683</td>\n",
       "      <td>1.032559</td>\n",
       "      <td>0.906934</td>\n",
       "      <td>-0.314594</td>\n",
       "      <td>-0.586005</td>\n",
       "      <td>-0.650449</td>\n",
       "      <td>-0.631503</td>\n",
       "      <td>...</td>\n",
       "      <td>-0.28014</td>\n",
       "      <td>-0.262111</td>\n",
       "      <td>-0.11651</td>\n",
       "      <td>-0.097282</td>\n",
       "      <td>2.388846</td>\n",
       "      <td>-1.502225</td>\n",
       "      <td>1.308291</td>\n",
       "      <td>-0.066310</td>\n",
       "      <td>1.235733</td>\n",
       "      <td>-0.720458</td>\n",
       "    </tr>\n",
       "  </tbody>\n",
       "</table>\n",
       "<p>2240 rows × 25 columns</p>\n",
       "</div>"
      ],
      "text/plain": [
       "      Year_Birth  Education  Marital_Status    Income   Kidhome  Teenhome  \\\n",
       "0      -0.985345  -0.869930        0.601057  0.236164 -0.825218 -0.929894   \n",
       "1      -1.235733  -0.869930        0.601057 -0.234973  1.032559  0.906934   \n",
       "2      -0.317643  -0.869930        1.301561  0.774453 -0.825218 -0.929894   \n",
       "3       1.268149  -0.869930        1.301561 -1.021853  1.032559 -0.929894   \n",
       "4       1.017761   0.974502       -0.799950  0.242356  1.032559 -0.929894   \n",
       "...          ...        ...             ...       ...       ...       ...   \n",
       "2235   -0.150717  -0.869930       -0.799950  0.359402 -0.825218  0.906934   \n",
       "2236   -1.903435   0.974502        1.301561  0.470894  2.890335  0.906934   \n",
       "2237    1.017761  -0.869930       -1.500454  0.189945 -0.825218 -0.929894   \n",
       "2238   -1.068807   0.052286        1.301561  0.679858 -0.825218  0.906934   \n",
       "2239   -1.235733   0.974502       -0.799950  0.025683  1.032559  0.906934   \n",
       "\n",
       "       Recency  MntFruits  MntFishProducts  MntSweetProducts  ...  \\\n",
       "0     0.307039   1.551577         2.462147          1.476500  ...   \n",
       "1    -0.383664  -0.636301        -0.650449         -0.631503  ...   \n",
       "2    -0.798086   0.570804         1.345274         -0.146905  ...   \n",
       "3    -0.798086  -0.560857        -0.503974         -0.583043  ...   \n",
       "4     1.550305   0.419916         0.155164         -0.001525  ...   \n",
       "...        ...        ...              ...               ...  ...   \n",
       "2235 -0.107383   0.419916         0.081926          2.203398  ...   \n",
       "2236  0.237969  -0.661449        -0.687068         -0.655733  ...   \n",
       "2237  1.446700   0.545656        -0.101168         -0.364974  ...   \n",
       "2238 -1.419719   0.092992         0.777683          0.071165  ...   \n",
       "2239 -0.314594  -0.586005        -0.650449         -0.631503  ...   \n",
       "\n",
       "      AcceptedCmp5  AcceptedCmp1  AcceptedCmp2  Complain  Response   Dt_year  \\\n",
       "0         -0.28014     -0.262111      -0.11651 -0.097282  2.388846 -1.502225   \n",
       "1         -0.28014     -0.262111      -0.11651 -0.097282 -0.418612  1.420036   \n",
       "2         -0.28014     -0.262111      -0.11651 -0.097282 -0.418612 -0.041094   \n",
       "3         -0.28014     -0.262111      -0.11651 -0.097282 -0.418612  1.420036   \n",
       "4         -0.28014     -0.262111      -0.11651 -0.097282 -0.418612  1.420036   \n",
       "...            ...           ...           ...       ...       ...       ...   \n",
       "2235      -0.28014     -0.262111      -0.11651 -0.097282 -0.418612 -0.041094   \n",
       "2236      -0.28014      3.815174      -0.11651 -0.097282 -0.418612  1.420036   \n",
       "2237      -0.28014     -0.262111      -0.11651 -0.097282 -0.418612  1.420036   \n",
       "2238      -0.28014     -0.262111      -0.11651 -0.097282 -0.418612  1.420036   \n",
       "2239      -0.28014     -0.262111      -0.11651 -0.097282  2.388846 -1.502225   \n",
       "\n",
       "      Dt_month    Dt_day       Age  Total_expences  \n",
       "0    -1.563693 -0.745588  0.985345        1.679417  \n",
       "1    -1.276494 -1.424866  1.235733       -0.961275  \n",
       "2    -1.276494  0.612967  0.317643        0.282673  \n",
       "3     1.308291 -1.538079 -1.268149       -0.918094  \n",
       "4    -0.414899  0.386541 -1.017761       -0.305254  \n",
       "...        ...       ...       ...             ...  \n",
       "2235  0.159498 -0.292736  0.150717        1.221032  \n",
       "2236  1.308291 -1.085227  1.903435       -0.268717  \n",
       "2237 -0.414899  1.065819 -1.017761        1.054951  \n",
       "2238 -0.414899  0.952606  1.068807        0.393948  \n",
       "2239  1.308291 -0.066310  1.235733       -0.720458  \n",
       "\n",
       "[2240 rows x 25 columns]"
      ]
     },
     "execution_count": 54,
     "metadata": {},
     "output_type": "execute_result"
    }
   ],
   "source": [
    "scaled_df"
   ]
  },
  {
   "cell_type": "code",
   "execution_count": 55,
   "metadata": {},
   "outputs": [],
   "source": [
    "\n",
    "pca = PCA(n_components=3)\n",
    "df_pca = pca.fit_transform(scaled_df)\n",
    "df_pca = pd.DataFrame(df_pca)\n",
    "df_pca.columns = ['P1', 'P2', 'P3']\n"
   ]
  },
  {
   "cell_type": "code",
   "execution_count": 56,
   "metadata": {
    "scrolled": true
   },
   "outputs": [
    {
     "data": {
      "image/png": "[encoded data removed]",
      "text/plain": [
       "<Figure size 576x576 with 1 Axes>"
      ]
     },
     "metadata": {
      "needs_background": "light"
     },
     "output_type": "display_data"
    }
   ],
   "source": [
    "# Create the Dendogram plot\n",
    "#\n",
    "plt.figure(figsize =(8, 8))\n",
    "plt.title('Visualising the data')\n",
    "dendrogram = hc.dendrogram((hc.linkage(df_pca, method ='ward')))"
   ]
  },
  {
   "cell_type": "code",
   "execution_count": 57,
   "metadata": {},
   "outputs": [
    {
     "data": {
      "text/plain": [
       "<Figure size 576x576 with 0 Axes>"
      ]
     },
     "metadata": {},
     "output_type": "display_data"
    },
    {
     "data": {
      "text/plain": [
       "<Figure size 576x576 with 0 Axes>"
      ]
     },
     "metadata": {},
     "output_type": "display_data"
    },
    {
     "data": {
      "image/png": "[encoded data removed]",
      "text/plain": [
       "<Figure size 576x576 with 1 Axes>"
      ]
     },
     "metadata": {
      "needs_background": "light"
     },
     "output_type": "display_data"
    }
   ],
   "source": [
    "# Create the clusters using Agglomerative hierarchical clustering\n",
    "for i in range (1,4):\n",
    "    agc = AgglomerativeClustering(n_clusters = 2)\n",
    "    plt.figure(figsize =(8, 8))\n",
    "    \n",
    "plt.scatter(df_pca['P1'],df_pca['P2'], c = agc.fit_predict(scaled_df), cmap ='rainbow')\n",
    "plt.title(\"Agglomerative Hierarchical Clusters - Scatter Plot\")\n",
    "plt.show()\n"
   ]
  },
  {
   "cell_type": "code",
   "execution_count": 58,
   "metadata": {},
   "outputs": [
    {
     "data": {
      "text/plain": [
       "<Figure size 576x576 with 0 Axes>"
      ]
     },
     "metadata": {},
     "output_type": "display_data"
    },
    {
     "data": {
      "text/plain": [
       "<Figure size 576x576 with 0 Axes>"
      ]
     },
     "metadata": {},
     "output_type": "display_data"
    },
    {
     "data": {
      "image/png": "[encoded data removed]",
      "text/plain": [
       "<Figure size 576x576 with 1 Axes>"
      ]
     },
     "metadata": {
      "needs_background": "light"
     },
     "output_type": "display_data"
    }
   ],
   "source": [
    "# Create the clusters using Agglomerative hierarchical clustering\n",
    "for i in range (1,4):\n",
    "    agc = AgglomerativeClustering(n_clusters = 3)\n",
    "    plt.figure(figsize =(8, 8))\n",
    "    \n",
    "plt.scatter(df_pca['P1'],df_pca['P2'], c = agc.fit_predict(scaled_df), cmap ='rainbow')\n",
    "plt.title(\"Agglomerative Hierarchical Clusters - Scatter Plot\")\n",
    "plt.show()\n"
   ]
  },
  {
   "cell_type": "code",
   "execution_count": 59,
   "metadata": {},
   "outputs": [
    {
     "data": {
      "image/png": "[encoded data removed]",
      "text/plain": [
       "<Figure size 1152x576 with 1 Axes>"
      ]
     },
     "metadata": {
      "needs_background": "light"
     },
     "output_type": "display_data"
    }
   ],
   "source": [
    "wcss=[]\n",
    "for i in range (1,11):\n",
    " kmeans=KMeans(n_clusters=i,init='k-means++',random_state=42)\n",
    " kmeans.fit(scaled_df)\n",
    " wcss.append(kmeans.inertia_)\n",
    "plt.figure(figsize=(16,8))\n",
    "plt.plot(range(1,11),wcss, 'bx-')\n",
    "plt.title('The Elbow Method')\n",
    "plt.xlabel('Number of clusters')\n",
    "plt.ylabel('WCSS')\n",
    "plt.show()"
   ]
  },
  {
   "cell_type": "code",
   "execution_count": 60,
   "metadata": {},
   "outputs": [
    {
     "data": {
      "image/png": "[encoded data removed]",
      "text/plain": [
       "<Figure size 432x288 with 1 Axes>"
      ]
     },
     "metadata": {
      "needs_background": "light"
     },
     "output_type": "display_data"
    }
   ],
   "source": [
    "silhouette_scores = []\n",
    "for i in range(2,10):\n",
    "    m1=KMeans(n_clusters=i, random_state=0)\n",
    "    c = m1.fit_predict(df_pca)\n",
    "    silhouette_scores.append(silhouette_score(df_pca, m1.fit_predict(df_pca))) \n",
    "plt.bar(range(2,10), silhouette_scores) \n",
    "plt.xlabel('Number of clusters', fontsize = 20) \n",
    "plt.ylabel('S(i)', fontsize = 20) \n",
    "plt.show()"
   ]
  },
  {
   "cell_type": "code",
   "execution_count": 61,
   "metadata": {},
   "outputs": [],
   "source": [
    "\n",
    "kmeans=KMeans(n_clusters=2, random_state=42).fit(df_pca)\n",
    "pred=kmeans.predict(df_pca)\n",
    "\n",
    "\n",
    "# Appending those cluster value into main dataframe (without standard-scalar)\n",
    "df1=df.copy()\n",
    "df1['cluster'] = pred + 1\n"
   ]
  },
  {
   "cell_type": "code",
   "execution_count": 62,
   "metadata": {},
   "outputs": [
    {
     "data": {
      "image/png": "[encoded data removed]",
      "text/plain": [
       "<Figure size 432x288 with 1 Axes>"
      ]
     },
     "metadata": {
      "needs_background": "light"
     },
     "output_type": "display_data"
    }
   ],
   "source": [
    "pl = sns.countplot(x=df1[\"cluster\"])\n",
    "pl.set_title(\"Distribution Of The Clusters\")\n",
    "plt.show()"
   ]
  },
  {
   "cell_type": "code",
   "execution_count": 63,
   "metadata": {},
   "outputs": [
    {
     "data": {
      "text/html": [
       "<div>\n",
       "<style scoped>\n",
       "    .dataframe tbody tr th:only-of-type {\n",
       "        vertical-align: middle;\n",
       "    }\n",
       "\n",
       "    .dataframe tbody tr th {\n",
       "        vertical-align: top;\n",
       "    }\n",
       "\n",
       "    .dataframe thead th {\n",
       "        text-align: right;\n",
       "    }\n",
       "</style>\n",
       "<table border=\"1\" class=\"dataframe\">\n",
       "  <thead>\n",
       "    <tr style=\"text-align: right;\">\n",
       "      <th></th>\n",
       "      <th>Year_Birth</th>\n",
       "      <th>Education</th>\n",
       "      <th>Marital_Status</th>\n",
       "      <th>Income</th>\n",
       "      <th>Kidhome</th>\n",
       "      <th>Teenhome</th>\n",
       "      <th>Recency</th>\n",
       "      <th>MntFruits</th>\n",
       "      <th>MntFishProducts</th>\n",
       "      <th>MntSweetProducts</th>\n",
       "      <th>...</th>\n",
       "      <th>AcceptedCmp1</th>\n",
       "      <th>AcceptedCmp2</th>\n",
       "      <th>Complain</th>\n",
       "      <th>Response</th>\n",
       "      <th>Dt_year</th>\n",
       "      <th>Dt_month</th>\n",
       "      <th>Dt_day</th>\n",
       "      <th>Age</th>\n",
       "      <th>Total_expences</th>\n",
       "      <th>cluster</th>\n",
       "    </tr>\n",
       "  </thead>\n",
       "  <tbody>\n",
       "    <tr>\n",
       "      <th>0</th>\n",
       "      <td>1957</td>\n",
       "      <td>0</td>\n",
       "      <td>3</td>\n",
       "      <td>58138.0</td>\n",
       "      <td>0</td>\n",
       "      <td>0</td>\n",
       "      <td>58</td>\n",
       "      <td>88</td>\n",
       "      <td>172</td>\n",
       "      <td>88</td>\n",
       "      <td>...</td>\n",
       "      <td>0</td>\n",
       "      <td>0</td>\n",
       "      <td>0</td>\n",
       "      <td>1</td>\n",
       "      <td>2012</td>\n",
       "      <td>0</td>\n",
       "      <td>9</td>\n",
       "      <td>64</td>\n",
       "      <td>1617</td>\n",
       "      <td>2</td>\n",
       "    </tr>\n",
       "    <tr>\n",
       "      <th>1</th>\n",
       "      <td>1954</td>\n",
       "      <td>0</td>\n",
       "      <td>3</td>\n",
       "      <td>46344.0</td>\n",
       "      <td>1</td>\n",
       "      <td>1</td>\n",
       "      <td>38</td>\n",
       "      <td>1</td>\n",
       "      <td>2</td>\n",
       "      <td>1</td>\n",
       "      <td>...</td>\n",
       "      <td>0</td>\n",
       "      <td>0</td>\n",
       "      <td>0</td>\n",
       "      <td>0</td>\n",
       "      <td>2014</td>\n",
       "      <td>1</td>\n",
       "      <td>3</td>\n",
       "      <td>67</td>\n",
       "      <td>27</td>\n",
       "      <td>1</td>\n",
       "    </tr>\n",
       "    <tr>\n",
       "      <th>2</th>\n",
       "      <td>1965</td>\n",
       "      <td>0</td>\n",
       "      <td>4</td>\n",
       "      <td>71613.0</td>\n",
       "      <td>0</td>\n",
       "      <td>0</td>\n",
       "      <td>26</td>\n",
       "      <td>49</td>\n",
       "      <td>111</td>\n",
       "      <td>21</td>\n",
       "      <td>...</td>\n",
       "      <td>0</td>\n",
       "      <td>0</td>\n",
       "      <td>0</td>\n",
       "      <td>0</td>\n",
       "      <td>2013</td>\n",
       "      <td>1</td>\n",
       "      <td>21</td>\n",
       "      <td>56</td>\n",
       "      <td>776</td>\n",
       "      <td>2</td>\n",
       "    </tr>\n",
       "    <tr>\n",
       "      <th>3</th>\n",
       "      <td>1984</td>\n",
       "      <td>0</td>\n",
       "      <td>4</td>\n",
       "      <td>26646.0</td>\n",
       "      <td>1</td>\n",
       "      <td>0</td>\n",
       "      <td>26</td>\n",
       "      <td>4</td>\n",
       "      <td>10</td>\n",
       "      <td>3</td>\n",
       "      <td>...</td>\n",
       "      <td>0</td>\n",
       "      <td>0</td>\n",
       "      <td>0</td>\n",
       "      <td>0</td>\n",
       "      <td>2014</td>\n",
       "      <td>10</td>\n",
       "      <td>2</td>\n",
       "      <td>37</td>\n",
       "      <td>53</td>\n",
       "      <td>1</td>\n",
       "    </tr>\n",
       "    <tr>\n",
       "      <th>4</th>\n",
       "      <td>1981</td>\n",
       "      <td>2</td>\n",
       "      <td>1</td>\n",
       "      <td>58293.0</td>\n",
       "      <td>1</td>\n",
       "      <td>0</td>\n",
       "      <td>94</td>\n",
       "      <td>43</td>\n",
       "      <td>46</td>\n",
       "      <td>27</td>\n",
       "      <td>...</td>\n",
       "      <td>0</td>\n",
       "      <td>0</td>\n",
       "      <td>0</td>\n",
       "      <td>0</td>\n",
       "      <td>2014</td>\n",
       "      <td>4</td>\n",
       "      <td>19</td>\n",
       "      <td>40</td>\n",
       "      <td>422</td>\n",
       "      <td>1</td>\n",
       "    </tr>\n",
       "  </tbody>\n",
       "</table>\n",
       "<p>5 rows × 26 columns</p>\n",
       "</div>"
      ],
      "text/plain": [
       "   Year_Birth  Education  Marital_Status   Income  Kidhome  Teenhome  Recency  \\\n",
       "0        1957          0               3  58138.0        0         0       58   \n",
       "1        1954          0               3  46344.0        1         1       38   \n",
       "2        1965          0               4  71613.0        0         0       26   \n",
       "3        1984          0               4  26646.0        1         0       26   \n",
       "4        1981          2               1  58293.0        1         0       94   \n",
       "\n",
       "   MntFruits  MntFishProducts  MntSweetProducts  ...  AcceptedCmp1  \\\n",
       "0         88              172                88  ...             0   \n",
       "1          1                2                 1  ...             0   \n",
       "2         49              111                21  ...             0   \n",
       "3          4               10                 3  ...             0   \n",
       "4         43               46                27  ...             0   \n",
       "\n",
       "   AcceptedCmp2  Complain  Response  Dt_year  Dt_month  Dt_day  Age  \\\n",
       "0             0         0         1     2012         0       9   64   \n",
       "1             0         0         0     2014         1       3   67   \n",
       "2             0         0         0     2013         1      21   56   \n",
       "3             0         0         0     2014        10       2   37   \n",
       "4             0         0         0     2014         4      19   40   \n",
       "\n",
       "   Total_expences  cluster  \n",
       "0            1617        2  \n",
       "1              27        1  \n",
       "2             776        2  \n",
       "3              53        1  \n",
       "4             422        1  \n",
       "\n",
       "[5 rows x 26 columns]"
      ]
     },
     "execution_count": 63,
     "metadata": {},
     "output_type": "execute_result"
    }
   ],
   "source": [
    "df1.head()"
   ]
  },
  {
   "cell_type": "code",
   "execution_count": 64,
   "metadata": {},
   "outputs": [],
   "source": [
    "df_cluster1=df1.loc[df1['cluster']==1]"
   ]
  },
  {
   "cell_type": "code",
   "execution_count": 65,
   "metadata": {},
   "outputs": [
    {
     "data": {
      "text/html": [
       "<div>\n",
       "<style scoped>\n",
       "    .dataframe tbody tr th:only-of-type {\n",
       "        vertical-align: middle;\n",
       "    }\n",
       "\n",
       "    .dataframe tbody tr th {\n",
       "        vertical-align: top;\n",
       "    }\n",
       "\n",
       "    .dataframe thead th {\n",
       "        text-align: right;\n",
       "    }\n",
       "</style>\n",
       "<table border=\"1\" class=\"dataframe\">\n",
       "  <thead>\n",
       "    <tr style=\"text-align: right;\">\n",
       "      <th></th>\n",
       "      <th>Year_Birth</th>\n",
       "      <th>Education</th>\n",
       "      <th>Marital_Status</th>\n",
       "      <th>Income</th>\n",
       "      <th>Kidhome</th>\n",
       "      <th>Teenhome</th>\n",
       "      <th>Recency</th>\n",
       "      <th>MntFruits</th>\n",
       "      <th>MntFishProducts</th>\n",
       "      <th>MntSweetProducts</th>\n",
       "      <th>...</th>\n",
       "      <th>AcceptedCmp1</th>\n",
       "      <th>AcceptedCmp2</th>\n",
       "      <th>Complain</th>\n",
       "      <th>Response</th>\n",
       "      <th>Dt_year</th>\n",
       "      <th>Dt_month</th>\n",
       "      <th>Dt_day</th>\n",
       "      <th>Age</th>\n",
       "      <th>Total_expences</th>\n",
       "      <th>cluster</th>\n",
       "    </tr>\n",
       "  </thead>\n",
       "  <tbody>\n",
       "    <tr>\n",
       "      <th>1</th>\n",
       "      <td>1954</td>\n",
       "      <td>0</td>\n",
       "      <td>3</td>\n",
       "      <td>46344.0</td>\n",
       "      <td>1</td>\n",
       "      <td>1</td>\n",
       "      <td>38</td>\n",
       "      <td>1</td>\n",
       "      <td>2</td>\n",
       "      <td>1</td>\n",
       "      <td>...</td>\n",
       "      <td>0</td>\n",
       "      <td>0</td>\n",
       "      <td>0</td>\n",
       "      <td>0</td>\n",
       "      <td>2014</td>\n",
       "      <td>1</td>\n",
       "      <td>3</td>\n",
       "      <td>67</td>\n",
       "      <td>27</td>\n",
       "      <td>1</td>\n",
       "    </tr>\n",
       "    <tr>\n",
       "      <th>3</th>\n",
       "      <td>1984</td>\n",
       "      <td>0</td>\n",
       "      <td>4</td>\n",
       "      <td>26646.0</td>\n",
       "      <td>1</td>\n",
       "      <td>0</td>\n",
       "      <td>26</td>\n",
       "      <td>4</td>\n",
       "      <td>10</td>\n",
       "      <td>3</td>\n",
       "      <td>...</td>\n",
       "      <td>0</td>\n",
       "      <td>0</td>\n",
       "      <td>0</td>\n",
       "      <td>0</td>\n",
       "      <td>2014</td>\n",
       "      <td>10</td>\n",
       "      <td>2</td>\n",
       "      <td>37</td>\n",
       "      <td>53</td>\n",
       "      <td>1</td>\n",
       "    </tr>\n",
       "    <tr>\n",
       "      <th>4</th>\n",
       "      <td>1981</td>\n",
       "      <td>2</td>\n",
       "      <td>1</td>\n",
       "      <td>58293.0</td>\n",
       "      <td>1</td>\n",
       "      <td>0</td>\n",
       "      <td>94</td>\n",
       "      <td>43</td>\n",
       "      <td>46</td>\n",
       "      <td>27</td>\n",
       "      <td>...</td>\n",
       "      <td>0</td>\n",
       "      <td>0</td>\n",
       "      <td>0</td>\n",
       "      <td>0</td>\n",
       "      <td>2014</td>\n",
       "      <td>4</td>\n",
       "      <td>19</td>\n",
       "      <td>40</td>\n",
       "      <td>422</td>\n",
       "      <td>1</td>\n",
       "    </tr>\n",
       "    <tr>\n",
       "      <th>5</th>\n",
       "      <td>1967</td>\n",
       "      <td>1</td>\n",
       "      <td>4</td>\n",
       "      <td>62513.0</td>\n",
       "      <td>0</td>\n",
       "      <td>1</td>\n",
       "      <td>16</td>\n",
       "      <td>42</td>\n",
       "      <td>0</td>\n",
       "      <td>42</td>\n",
       "      <td>...</td>\n",
       "      <td>0</td>\n",
       "      <td>0</td>\n",
       "      <td>0</td>\n",
       "      <td>0</td>\n",
       "      <td>2013</td>\n",
       "      <td>11</td>\n",
       "      <td>9</td>\n",
       "      <td>54</td>\n",
       "      <td>716</td>\n",
       "      <td>1</td>\n",
       "    </tr>\n",
       "    <tr>\n",
       "      <th>6</th>\n",
       "      <td>1971</td>\n",
       "      <td>0</td>\n",
       "      <td>0</td>\n",
       "      <td>55635.0</td>\n",
       "      <td>0</td>\n",
       "      <td>1</td>\n",
       "      <td>34</td>\n",
       "      <td>65</td>\n",
       "      <td>50</td>\n",
       "      <td>49</td>\n",
       "      <td>...</td>\n",
       "      <td>0</td>\n",
       "      <td>0</td>\n",
       "      <td>0</td>\n",
       "      <td>0</td>\n",
       "      <td>2012</td>\n",
       "      <td>9</td>\n",
       "      <td>13</td>\n",
       "      <td>50</td>\n",
       "      <td>590</td>\n",
       "      <td>1</td>\n",
       "    </tr>\n",
       "  </tbody>\n",
       "</table>\n",
       "<p>5 rows × 26 columns</p>\n",
       "</div>"
      ],
      "text/plain": [
       "   Year_Birth  Education  Marital_Status   Income  Kidhome  Teenhome  Recency  \\\n",
       "1        1954          0               3  46344.0        1         1       38   \n",
       "3        1984          0               4  26646.0        1         0       26   \n",
       "4        1981          2               1  58293.0        1         0       94   \n",
       "5        1967          1               4  62513.0        0         1       16   \n",
       "6        1971          0               0  55635.0        0         1       34   \n",
       "\n",
       "   MntFruits  MntFishProducts  MntSweetProducts  ...  AcceptedCmp1  \\\n",
       "1          1                2                 1  ...             0   \n",
       "3          4               10                 3  ...             0   \n",
       "4         43               46                27  ...             0   \n",
       "5         42                0                42  ...             0   \n",
       "6         65               50                49  ...             0   \n",
       "\n",
       "   AcceptedCmp2  Complain  Response  Dt_year  Dt_month  Dt_day  Age  \\\n",
       "1             0         0         0     2014         1       3   67   \n",
       "3             0         0         0     2014        10       2   37   \n",
       "4             0         0         0     2014         4      19   40   \n",
       "5             0         0         0     2013        11       9   54   \n",
       "6             0         0         0     2012         9      13   50   \n",
       "\n",
       "   Total_expences  cluster  \n",
       "1              27        1  \n",
       "3              53        1  \n",
       "4             422        1  \n",
       "5             716        1  \n",
       "6             590        1  \n",
       "\n",
       "[5 rows x 26 columns]"
      ]
     },
     "execution_count": 65,
     "metadata": {},
     "output_type": "execute_result"
    }
   ],
   "source": [
    "df_cluster1.head()"
   ]
  },
  {
   "cell_type": "code",
   "execution_count": 66,
   "metadata": {},
   "outputs": [],
   "source": [
    "df_cluster2=df1.loc[df1['cluster']==2]"
   ]
  },
  {
   "cell_type": "markdown",
   "metadata": {},
   "source": [
    "Next analysis we decide to do it for Income to check the impact of expenditure through different means on Income"
   ]
  },
  {
   "cell_type": "code",
   "execution_count": 67,
   "metadata": {},
   "outputs": [],
   "source": [
    "df_reg = df.copy()"
   ]
  },
  {
   "cell_type": "code",
   "execution_count": 68,
   "metadata": {},
   "outputs": [],
   "source": [
    "df_reg.drop(columns=['Income'],inplace=True)"
   ]
  },
  {
   "cell_type": "code",
   "execution_count": 69,
   "metadata": {},
   "outputs": [
    {
     "data": {
      "text/html": [
       "<div>\n",
       "<style scoped>\n",
       "    .dataframe tbody tr th:only-of-type {\n",
       "        vertical-align: middle;\n",
       "    }\n",
       "\n",
       "    .dataframe tbody tr th {\n",
       "        vertical-align: top;\n",
       "    }\n",
       "\n",
       "    .dataframe thead th {\n",
       "        text-align: right;\n",
       "    }\n",
       "</style>\n",
       "<table border=\"1\" class=\"dataframe\">\n",
       "  <thead>\n",
       "    <tr style=\"text-align: right;\">\n",
       "      <th></th>\n",
       "      <th>Year_Birth</th>\n",
       "      <th>Education</th>\n",
       "      <th>Marital_Status</th>\n",
       "      <th>Kidhome</th>\n",
       "      <th>Teenhome</th>\n",
       "      <th>Recency</th>\n",
       "      <th>MntFruits</th>\n",
       "      <th>MntFishProducts</th>\n",
       "      <th>MntSweetProducts</th>\n",
       "      <th>MntGoldProds</th>\n",
       "      <th>...</th>\n",
       "      <th>AcceptedCmp5</th>\n",
       "      <th>AcceptedCmp1</th>\n",
       "      <th>AcceptedCmp2</th>\n",
       "      <th>Complain</th>\n",
       "      <th>Response</th>\n",
       "      <th>Dt_year</th>\n",
       "      <th>Dt_month</th>\n",
       "      <th>Dt_day</th>\n",
       "      <th>Age</th>\n",
       "      <th>Total_expences</th>\n",
       "    </tr>\n",
       "  </thead>\n",
       "  <tbody>\n",
       "    <tr>\n",
       "      <th>0</th>\n",
       "      <td>1957</td>\n",
       "      <td>0</td>\n",
       "      <td>3</td>\n",
       "      <td>0</td>\n",
       "      <td>0</td>\n",
       "      <td>58</td>\n",
       "      <td>88</td>\n",
       "      <td>172</td>\n",
       "      <td>88</td>\n",
       "      <td>88</td>\n",
       "      <td>...</td>\n",
       "      <td>0</td>\n",
       "      <td>0</td>\n",
       "      <td>0</td>\n",
       "      <td>0</td>\n",
       "      <td>1</td>\n",
       "      <td>2012</td>\n",
       "      <td>0</td>\n",
       "      <td>9</td>\n",
       "      <td>64</td>\n",
       "      <td>1617</td>\n",
       "    </tr>\n",
       "    <tr>\n",
       "      <th>1</th>\n",
       "      <td>1954</td>\n",
       "      <td>0</td>\n",
       "      <td>3</td>\n",
       "      <td>1</td>\n",
       "      <td>1</td>\n",
       "      <td>38</td>\n",
       "      <td>1</td>\n",
       "      <td>2</td>\n",
       "      <td>1</td>\n",
       "      <td>6</td>\n",
       "      <td>...</td>\n",
       "      <td>0</td>\n",
       "      <td>0</td>\n",
       "      <td>0</td>\n",
       "      <td>0</td>\n",
       "      <td>0</td>\n",
       "      <td>2014</td>\n",
       "      <td>1</td>\n",
       "      <td>3</td>\n",
       "      <td>67</td>\n",
       "      <td>27</td>\n",
       "    </tr>\n",
       "    <tr>\n",
       "      <th>2</th>\n",
       "      <td>1965</td>\n",
       "      <td>0</td>\n",
       "      <td>4</td>\n",
       "      <td>0</td>\n",
       "      <td>0</td>\n",
       "      <td>26</td>\n",
       "      <td>49</td>\n",
       "      <td>111</td>\n",
       "      <td>21</td>\n",
       "      <td>42</td>\n",
       "      <td>...</td>\n",
       "      <td>0</td>\n",
       "      <td>0</td>\n",
       "      <td>0</td>\n",
       "      <td>0</td>\n",
       "      <td>0</td>\n",
       "      <td>2013</td>\n",
       "      <td>1</td>\n",
       "      <td>21</td>\n",
       "      <td>56</td>\n",
       "      <td>776</td>\n",
       "    </tr>\n",
       "    <tr>\n",
       "      <th>3</th>\n",
       "      <td>1984</td>\n",
       "      <td>0</td>\n",
       "      <td>4</td>\n",
       "      <td>1</td>\n",
       "      <td>0</td>\n",
       "      <td>26</td>\n",
       "      <td>4</td>\n",
       "      <td>10</td>\n",
       "      <td>3</td>\n",
       "      <td>5</td>\n",
       "      <td>...</td>\n",
       "      <td>0</td>\n",
       "      <td>0</td>\n",
       "      <td>0</td>\n",
       "      <td>0</td>\n",
       "      <td>0</td>\n",
       "      <td>2014</td>\n",
       "      <td>10</td>\n",
       "      <td>2</td>\n",
       "      <td>37</td>\n",
       "      <td>53</td>\n",
       "    </tr>\n",
       "    <tr>\n",
       "      <th>4</th>\n",
       "      <td>1981</td>\n",
       "      <td>2</td>\n",
       "      <td>1</td>\n",
       "      <td>1</td>\n",
       "      <td>0</td>\n",
       "      <td>94</td>\n",
       "      <td>43</td>\n",
       "      <td>46</td>\n",
       "      <td>27</td>\n",
       "      <td>15</td>\n",
       "      <td>...</td>\n",
       "      <td>0</td>\n",
       "      <td>0</td>\n",
       "      <td>0</td>\n",
       "      <td>0</td>\n",
       "      <td>0</td>\n",
       "      <td>2014</td>\n",
       "      <td>4</td>\n",
       "      <td>19</td>\n",
       "      <td>40</td>\n",
       "      <td>422</td>\n",
       "    </tr>\n",
       "  </tbody>\n",
       "</table>\n",
       "<p>5 rows × 24 columns</p>\n",
       "</div>"
      ],
      "text/plain": [
       "   Year_Birth  Education  Marital_Status  Kidhome  Teenhome  Recency  \\\n",
       "0        1957          0               3        0         0       58   \n",
       "1        1954          0               3        1         1       38   \n",
       "2        1965          0               4        0         0       26   \n",
       "3        1984          0               4        1         0       26   \n",
       "4        1981          2               1        1         0       94   \n",
       "\n",
       "   MntFruits  MntFishProducts  MntSweetProducts  MntGoldProds  ...  \\\n",
       "0         88              172                88            88  ...   \n",
       "1          1                2                 1             6  ...   \n",
       "2         49              111                21            42  ...   \n",
       "3          4               10                 3             5  ...   \n",
       "4         43               46                27            15  ...   \n",
       "\n",
       "   AcceptedCmp5  AcceptedCmp1  AcceptedCmp2  Complain  Response  Dt_year  \\\n",
       "0             0             0             0         0         1     2012   \n",
       "1             0             0             0         0         0     2014   \n",
       "2             0             0             0         0         0     2013   \n",
       "3             0             0             0         0         0     2014   \n",
       "4             0             0             0         0         0     2014   \n",
       "\n",
       "   Dt_month  Dt_day  Age  Total_expences  \n",
       "0         0       9   64            1617  \n",
       "1         1       3   67              27  \n",
       "2         1      21   56             776  \n",
       "3        10       2   37              53  \n",
       "4         4      19   40             422  \n",
       "\n",
       "[5 rows x 24 columns]"
      ]
     },
     "execution_count": 69,
     "metadata": {},
     "output_type": "execute_result"
    }
   ],
   "source": [
    "df_reg.head()"
   ]
  },
  {
   "cell_type": "code",
   "execution_count": 70,
   "metadata": {},
   "outputs": [],
   "source": [
    "df_reg_scaled=sc.fit_transform(df_reg)"
   ]
  },
  {
   "cell_type": "code",
   "execution_count": 71,
   "metadata": {
    "scrolled": true
   },
   "outputs": [],
   "source": [
    "scaled_reg_df= pd.DataFrame(df_reg_scaled, index=df_reg.index, columns=df_reg.columns)"
   ]
  },
  {
   "cell_type": "code",
   "execution_count": 72,
   "metadata": {},
   "outputs": [
    {
     "data": {
      "text/html": [
       "<div>\n",
       "<style scoped>\n",
       "    .dataframe tbody tr th:only-of-type {\n",
       "        vertical-align: middle;\n",
       "    }\n",
       "\n",
       "    .dataframe tbody tr th {\n",
       "        vertical-align: top;\n",
       "    }\n",
       "\n",
       "    .dataframe thead th {\n",
       "        text-align: right;\n",
       "    }\n",
       "</style>\n",
       "<table border=\"1\" class=\"dataframe\">\n",
       "  <thead>\n",
       "    <tr style=\"text-align: right;\">\n",
       "      <th></th>\n",
       "      <th>Year_Birth</th>\n",
       "      <th>Education</th>\n",
       "      <th>Marital_Status</th>\n",
       "      <th>Kidhome</th>\n",
       "      <th>Teenhome</th>\n",
       "      <th>Recency</th>\n",
       "      <th>MntFruits</th>\n",
       "      <th>MntFishProducts</th>\n",
       "      <th>MntSweetProducts</th>\n",
       "      <th>MntGoldProds</th>\n",
       "      <th>...</th>\n",
       "      <th>AcceptedCmp5</th>\n",
       "      <th>AcceptedCmp1</th>\n",
       "      <th>AcceptedCmp2</th>\n",
       "      <th>Complain</th>\n",
       "      <th>Response</th>\n",
       "      <th>Dt_year</th>\n",
       "      <th>Dt_month</th>\n",
       "      <th>Dt_day</th>\n",
       "      <th>Age</th>\n",
       "      <th>Total_expences</th>\n",
       "    </tr>\n",
       "  </thead>\n",
       "  <tbody>\n",
       "    <tr>\n",
       "      <th>0</th>\n",
       "      <td>-0.985345</td>\n",
       "      <td>-0.869930</td>\n",
       "      <td>0.601057</td>\n",
       "      <td>-0.825218</td>\n",
       "      <td>-0.929894</td>\n",
       "      <td>0.307039</td>\n",
       "      <td>1.551577</td>\n",
       "      <td>2.462147</td>\n",
       "      <td>1.476500</td>\n",
       "      <td>0.843207</td>\n",
       "      <td>...</td>\n",
       "      <td>-0.28014</td>\n",
       "      <td>-0.262111</td>\n",
       "      <td>-0.11651</td>\n",
       "      <td>-0.097282</td>\n",
       "      <td>2.388846</td>\n",
       "      <td>-1.502225</td>\n",
       "      <td>-1.563693</td>\n",
       "      <td>-0.745588</td>\n",
       "      <td>0.985345</td>\n",
       "      <td>1.679417</td>\n",
       "    </tr>\n",
       "    <tr>\n",
       "      <th>1</th>\n",
       "      <td>-1.235733</td>\n",
       "      <td>-0.869930</td>\n",
       "      <td>0.601057</td>\n",
       "      <td>1.032559</td>\n",
       "      <td>0.906934</td>\n",
       "      <td>-0.383664</td>\n",
       "      <td>-0.636301</td>\n",
       "      <td>-0.650449</td>\n",
       "      <td>-0.631503</td>\n",
       "      <td>-0.729006</td>\n",
       "      <td>...</td>\n",
       "      <td>-0.28014</td>\n",
       "      <td>-0.262111</td>\n",
       "      <td>-0.11651</td>\n",
       "      <td>-0.097282</td>\n",
       "      <td>-0.418612</td>\n",
       "      <td>1.420036</td>\n",
       "      <td>-1.276494</td>\n",
       "      <td>-1.424866</td>\n",
       "      <td>1.235733</td>\n",
       "      <td>-0.961275</td>\n",
       "    </tr>\n",
       "    <tr>\n",
       "      <th>2</th>\n",
       "      <td>-0.317643</td>\n",
       "      <td>-0.869930</td>\n",
       "      <td>1.301561</td>\n",
       "      <td>-0.825218</td>\n",
       "      <td>-0.929894</td>\n",
       "      <td>-0.798086</td>\n",
       "      <td>0.570804</td>\n",
       "      <td>1.345274</td>\n",
       "      <td>-0.146905</td>\n",
       "      <td>-0.038766</td>\n",
       "      <td>...</td>\n",
       "      <td>-0.28014</td>\n",
       "      <td>-0.262111</td>\n",
       "      <td>-0.11651</td>\n",
       "      <td>-0.097282</td>\n",
       "      <td>-0.418612</td>\n",
       "      <td>-0.041094</td>\n",
       "      <td>-1.276494</td>\n",
       "      <td>0.612967</td>\n",
       "      <td>0.317643</td>\n",
       "      <td>0.282673</td>\n",
       "    </tr>\n",
       "    <tr>\n",
       "      <th>3</th>\n",
       "      <td>1.268149</td>\n",
       "      <td>-0.869930</td>\n",
       "      <td>1.301561</td>\n",
       "      <td>1.032559</td>\n",
       "      <td>-0.929894</td>\n",
       "      <td>-0.798086</td>\n",
       "      <td>-0.560857</td>\n",
       "      <td>-0.503974</td>\n",
       "      <td>-0.583043</td>\n",
       "      <td>-0.748179</td>\n",
       "      <td>...</td>\n",
       "      <td>-0.28014</td>\n",
       "      <td>-0.262111</td>\n",
       "      <td>-0.11651</td>\n",
       "      <td>-0.097282</td>\n",
       "      <td>-0.418612</td>\n",
       "      <td>1.420036</td>\n",
       "      <td>1.308291</td>\n",
       "      <td>-1.538079</td>\n",
       "      <td>-1.268149</td>\n",
       "      <td>-0.918094</td>\n",
       "    </tr>\n",
       "    <tr>\n",
       "      <th>4</th>\n",
       "      <td>1.017761</td>\n",
       "      <td>0.974502</td>\n",
       "      <td>-0.799950</td>\n",
       "      <td>1.032559</td>\n",
       "      <td>-0.929894</td>\n",
       "      <td>1.550305</td>\n",
       "      <td>0.419916</td>\n",
       "      <td>0.155164</td>\n",
       "      <td>-0.001525</td>\n",
       "      <td>-0.556446</td>\n",
       "      <td>...</td>\n",
       "      <td>-0.28014</td>\n",
       "      <td>-0.262111</td>\n",
       "      <td>-0.11651</td>\n",
       "      <td>-0.097282</td>\n",
       "      <td>-0.418612</td>\n",
       "      <td>1.420036</td>\n",
       "      <td>-0.414899</td>\n",
       "      <td>0.386541</td>\n",
       "      <td>-1.017761</td>\n",
       "      <td>-0.305254</td>\n",
       "    </tr>\n",
       "  </tbody>\n",
       "</table>\n",
       "<p>5 rows × 24 columns</p>\n",
       "</div>"
      ],
      "text/plain": [
       "   Year_Birth  Education  Marital_Status   Kidhome  Teenhome   Recency  \\\n",
       "0   -0.985345  -0.869930        0.601057 -0.825218 -0.929894  0.307039   \n",
       "1   -1.235733  -0.869930        0.601057  1.032559  0.906934 -0.383664   \n",
       "2   -0.317643  -0.869930        1.301561 -0.825218 -0.929894 -0.798086   \n",
       "3    1.268149  -0.869930        1.301561  1.032559 -0.929894 -0.798086   \n",
       "4    1.017761   0.974502       -0.799950  1.032559 -0.929894  1.550305   \n",
       "\n",
       "   MntFruits  MntFishProducts  MntSweetProducts  MntGoldProds  ...  \\\n",
       "0   1.551577         2.462147          1.476500      0.843207  ...   \n",
       "1  -0.636301        -0.650449         -0.631503     -0.729006  ...   \n",
       "2   0.570804         1.345274         -0.146905     -0.038766  ...   \n",
       "3  -0.560857        -0.503974         -0.583043     -0.748179  ...   \n",
       "4   0.419916         0.155164         -0.001525     -0.556446  ...   \n",
       "\n",
       "   AcceptedCmp5  AcceptedCmp1  AcceptedCmp2  Complain  Response   Dt_year  \\\n",
       "0      -0.28014     -0.262111      -0.11651 -0.097282  2.388846 -1.502225   \n",
       "1      -0.28014     -0.262111      -0.11651 -0.097282 -0.418612  1.420036   \n",
       "2      -0.28014     -0.262111      -0.11651 -0.097282 -0.418612 -0.041094   \n",
       "3      -0.28014     -0.262111      -0.11651 -0.097282 -0.418612  1.420036   \n",
       "4      -0.28014     -0.262111      -0.11651 -0.097282 -0.418612  1.420036   \n",
       "\n",
       "   Dt_month    Dt_day       Age  Total_expences  \n",
       "0 -1.563693 -0.745588  0.985345        1.679417  \n",
       "1 -1.276494 -1.424866  1.235733       -0.961275  \n",
       "2 -1.276494  0.612967  0.317643        0.282673  \n",
       "3  1.308291 -1.538079 -1.268149       -0.918094  \n",
       "4 -0.414899  0.386541 -1.017761       -0.305254  \n",
       "\n",
       "[5 rows x 24 columns]"
      ]
     },
     "execution_count": 72,
     "metadata": {},
     "output_type": "execute_result"
    }
   ],
   "source": [
    "scaled_reg_df.head()"
   ]
  },
  {
   "cell_type": "code",
   "execution_count": 73,
   "metadata": {},
   "outputs": [],
   "source": [
    "scaled_reg_df['Income']=df['Income']"
   ]
  },
  {
   "cell_type": "markdown",
   "metadata": {},
   "source": [
    "Decision Tree Regressor"
   ]
  },
  {
   "cell_type": "code",
   "execution_count": 74,
   "metadata": {},
   "outputs": [],
   "source": [
    "from sklearn.model_selection import train_test_split"
   ]
  },
  {
   "cell_type": "code",
   "execution_count": 75,
   "metadata": {},
   "outputs": [],
   "source": [
    "x=scaled_reg_df.drop(columns=['Income'])\n",
    "y=scaled_reg_df['Income']"
   ]
  },
  {
   "cell_type": "code",
   "execution_count": 76,
   "metadata": {},
   "outputs": [],
   "source": [
    "x_train,x_test,y_train,y_test=train_test_split(x,y,test_size=0.25,random_state=0)"
   ]
  },
  {
   "cell_type": "code",
   "execution_count": null,
   "metadata": {},
   "outputs": [],
   "source": []
  },
  {
   "cell_type": "code",
   "execution_count": 77,
   "metadata": {},
   "outputs": [],
   "source": [
    "from sklearn.tree import DecisionTreeRegressor"
   ]
  },
  {
   "cell_type": "code",
   "execution_count": 78,
   "metadata": {},
   "outputs": [
    {
     "data": {
      "text/plain": [
       "DecisionTreeRegressor()"
      ]
     },
     "execution_count": 78,
     "metadata": {},
     "output_type": "execute_result"
    }
   ],
   "source": [
    "dt=DecisionTreeRegressor()\n",
    "dt.fit(x_train,y_train)\n"
   ]
  },
  {
   "cell_type": "code",
   "execution_count": 79,
   "metadata": {},
   "outputs": [
    {
     "name": "stdout",
     "output_type": "stream",
     "text": [
      "Train accuracy: 0.9997305449505766\n",
      "Test accuracy: 0.7515982661101062\n"
     ]
    }
   ],
   "source": [
    "\n",
    "print(\"Train accuracy:\", dt.score(x_train,y_train))\n",
    "\n",
    "print(\"Test accuracy:\", dt.score(x_test,y_test))"
   ]
  },
  {
   "cell_type": "code",
   "execution_count": 80,
   "metadata": {},
   "outputs": [],
   "source": [
    "?DecisionTreeRegressor"
   ]
  },
  {
   "cell_type": "code",
   "execution_count": 81,
   "metadata": {},
   "outputs": [
    {
     "name": "stdout",
     "output_type": "stream",
     "text": [
      "Fitting 10 folds for each of 96 candidates, totalling 960 fits\n"
     ]
    },
    {
     "data": {
      "text/plain": [
       "GridSearchCV(cv=10, estimator=DecisionTreeRegressor(), n_jobs=-1,\n",
       "             param_grid={'max_depth': [2, 4, 6, 8, 9, 10, 11, 12],\n",
       "                         'min_samples_leaf': [2, 5, 10],\n",
       "                         'min_samples_split': [2, 3, 4, 5]},\n",
       "             verbose=1)"
      ]
     },
     "execution_count": 81,
     "metadata": {},
     "output_type": "execute_result"
    }
   ],
   "source": [
    "\n",
    "from sklearn.model_selection import GridSearchCV\n",
    "\n",
    "parameters = {'min_samples_split':[2,3,4,5], \n",
    "              'max_depth':[2,4,6,8,9,10,11,12],\n",
    "              \"min_samples_leaf\":[2,5,10]\n",
    "     \n",
    "             }\n",
    "\n",
    "tr = DecisionTreeRegressor()\n",
    "gsearch = GridSearchCV(tr, parameters, cv=10, verbose=1, n_jobs=-1)\n",
    "gsearch.fit(x_train, y_train)"
   ]
  },
  {
   "cell_type": "code",
   "execution_count": 82,
   "metadata": {},
   "outputs": [
    {
     "data": {
      "text/plain": [
       "{'max_depth': 6, 'min_samples_leaf': 10, 'min_samples_split': 2}"
      ]
     },
     "execution_count": 82,
     "metadata": {},
     "output_type": "execute_result"
    }
   ],
   "source": [
    "gsearch.best_params_"
   ]
  },
  {
   "cell_type": "code",
   "execution_count": 83,
   "metadata": {},
   "outputs": [
    {
     "data": {
      "text/plain": [
       "DecisionTreeRegressor(max_depth=12, min_samples_leaf=10, min_samples_split=3)"
      ]
     },
     "execution_count": 83,
     "metadata": {},
     "output_type": "execute_result"
    }
   ],
   "source": [
    "dt2=DecisionTreeRegressor(max_depth= 12, min_samples_leaf= 10, min_samples_split=3)\n",
    "dt2.fit(x_train,y_train)"
   ]
  },
  {
   "cell_type": "code",
   "execution_count": 84,
   "metadata": {},
   "outputs": [
    {
     "name": "stdout",
     "output_type": "stream",
     "text": [
      "Train accuracy: 0.5689509837374063\n",
      "Test accuracy: 0.6271797731717126\n"
     ]
    }
   ],
   "source": [
    " print(\"Train accuracy:\", dt2.score(x_train,y_train))\n",
    "\n",
    "print(\"Test accuracy:\", dt2.score(x_test,y_test))"
   ]
  },
  {
   "cell_type": "code",
   "execution_count": null,
   "metadata": {},
   "outputs": [],
   "source": []
  },
  {
   "cell_type": "code",
   "execution_count": 85,
   "metadata": {},
   "outputs": [],
   "source": [
    "from sklearn.ensemble import RandomForestRegressor\n",
    "rf=RandomForestRegressor()"
   ]
  },
  {
   "cell_type": "code",
   "execution_count": 86,
   "metadata": {},
   "outputs": [
    {
     "data": {
      "text/plain": [
       "RandomForestRegressor()"
      ]
     },
     "execution_count": 86,
     "metadata": {},
     "output_type": "execute_result"
    }
   ],
   "source": [
    "rf.fit(x_train,y_train)"
   ]
  },
  {
   "cell_type": "code",
   "execution_count": 87,
   "metadata": {},
   "outputs": [
    {
     "name": "stdout",
     "output_type": "stream",
     "text": [
      "Train accuracy 0.9274720981132815\n",
      "Test accuracy: 0.5565350687453382\n"
     ]
    }
   ],
   "source": [
    "print('Train accuracy',rf.score(x_train,y_train))\n",
    "print(\"Test accuracy:\", rf.score(x_test,y_test))"
   ]
  },
  {
   "cell_type": "code",
   "execution_count": 88,
   "metadata": {},
   "outputs": [],
   "source": [
    "?RandomForestRegressor"
   ]
  },
  {
   "cell_type": "code",
   "execution_count": 89,
   "metadata": {},
   "outputs": [
    {
     "name": "stdout",
     "output_type": "stream",
     "text": [
      "Fitting 10 folds for each of 864 candidates, totalling 8640 fits\n"
     ]
    },
    {
     "data": {
      "text/plain": [
       "GridSearchCV(cv=10, estimator=RandomForestRegressor(), n_jobs=-1,\n",
       "             param_grid={'max_depth': [2, 4, 6, 8, 9, 10, 11, 12],\n",
       "                         'max_features': ['auto', 'sqrt', 'log2'],\n",
       "                         'min_samples_leaf': [2, 5, 10],\n",
       "                         'min_samples_split': [2, 3, 4, 5],\n",
       "                         'n_estimators': [50, 100, 150]},\n",
       "             verbose=1)"
      ]
     },
     "execution_count": 89,
     "metadata": {},
     "output_type": "execute_result"
    }
   ],
   "source": [
    "\n",
    "parameters = {'n_estimators':[50,100,150],\n",
    "              'min_samples_split':[2,3,4,5], \n",
    "              'max_depth':[2,4,6,8,9,10,11,12],\n",
    "              \"min_samples_leaf\":[2,5,10],\n",
    "            'max_features':['auto','sqrt','log2']\n",
    "             }\n",
    "\n",
    "rf = RandomForestRegressor()\n",
    "gsearch2 = GridSearchCV(rf, parameters, cv=10, verbose=1, n_jobs=-1)\n",
    "gsearch2.fit(x_train, y_train)"
   ]
  },
  {
   "cell_type": "code",
   "execution_count": 90,
   "metadata": {},
   "outputs": [
    {
     "data": {
      "text/plain": [
       "{'max_depth': 12,\n",
       " 'max_features': 'auto',\n",
       " 'min_samples_leaf': 5,\n",
       " 'min_samples_split': 4,\n",
       " 'n_estimators': 100}"
      ]
     },
     "execution_count": 90,
     "metadata": {},
     "output_type": "execute_result"
    }
   ],
   "source": [
    "gsearch2.best_params_"
   ]
  },
  {
   "cell_type": "code",
   "execution_count": 91,
   "metadata": {},
   "outputs": [
    {
     "data": {
      "text/plain": [
       "RandomForestRegressor(max_depth=12, min_samples_leaf=3, min_samples_split=5,\n",
       "                      n_estimators=150)"
      ]
     },
     "execution_count": 91,
     "metadata": {},
     "output_type": "execute_result"
    }
   ],
   "source": [
    "rf2=RandomForestRegressor(max_depth= 12, min_samples_leaf= 3, min_samples_split=5,n_estimators=150,max_features='auto')\n",
    "rf2.fit(x_train,y_train)"
   ]
  },
  {
   "cell_type": "code",
   "execution_count": 92,
   "metadata": {},
   "outputs": [
    {
     "name": "stdout",
     "output_type": "stream",
     "text": [
      "Train accuracy 0.7266128523328983\n",
      "Test accuracy: 0.7469463732261632\n"
     ]
    }
   ],
   "source": [
    "print('Train accuracy',rf2.score(x_train,y_train))\n",
    "print(\"Test accuracy:\", rf2.score(x_test,y_test))"
   ]
  },
  {
   "cell_type": "code",
   "execution_count": 93,
   "metadata": {},
   "outputs": [],
   "source": [
    "pred_y_trn=rf2.predict(x_train)"
   ]
  },
  {
   "cell_type": "code",
   "execution_count": 94,
   "metadata": {},
   "outputs": [],
   "source": [
    "pred_y_test=rf2.predict(x_test)"
   ]
  },
  {
   "cell_type": "code",
   "execution_count": 95,
   "metadata": {},
   "outputs": [
    {
     "name": "stdout",
     "output_type": "stream",
     "text": [
      "Mean Absolute Error: 3905.8734015484088\n",
      "Mean Absolute Percentage Error: 12.520031576315588\n",
      "Mean Squared Error: 186682385.86025795\n",
      "Root Mean Squared Error: 13663.176272750708\n"
     ]
    }
   ],
   "source": [
    "from sklearn import metrics\n",
    "print('Mean Absolute Error:', metrics.mean_absolute_error(y_train, pred_y_trn))  \n",
    "print('Mean Absolute Percentage Error:', np.mean(np.abs(((pred_y_trn-y_train)/y_train)*100)))\n",
    "print('Mean Squared Error:', metrics.mean_squared_error(y_train, pred_y_trn))  \n",
    "print('Root Mean Squared Error:', np.sqrt(metrics.mean_squared_error(y_train, pred_y_trn)))"
   ]
  },
  {
   "cell_type": "code",
   "execution_count": 96,
   "metadata": {},
   "outputs": [
    {
     "name": "stdout",
     "output_type": "stream",
     "text": [
      "Mean Absolute Error: 6812.163809160716\n",
      "Mean Absolute Percentage Error: 27.251326369334496\n",
      "Mean Squared Error: 115233238.02190746\n",
      "Root Mean Squared Error: 10734.674565253828\n"
     ]
    }
   ],
   "source": [
    "print('Mean Absolute Error:', metrics.mean_absolute_error(y_test, pred_y_test))  \n",
    "print('Mean Absolute Percentage Error:', np.mean(np.abs(((pred_y_test-y_test)/y_test)*100)))\n",
    "print('Mean Squared Error:', metrics.mean_squared_error(y_test, pred_y_test))  \n",
    "print('Root Mean Squared Error:', np.sqrt(metrics.mean_squared_error(y_test, pred_y_test)))"
   ]
  },
  {
   "cell_type": "code",
   "execution_count": 97,
   "metadata": {},
   "outputs": [],
   "source": [
    "import lightgbm as lgb"
   ]
  },
  {
   "cell_type": "code",
   "execution_count": 98,
   "metadata": {},
   "outputs": [],
   "source": [
    "lgbm_model=lgb.LGBMRegressor()"
   ]
  },
  {
   "cell_type": "code",
   "execution_count": 99,
   "metadata": {},
   "outputs": [
    {
     "data": {
      "text/plain": [
       "LGBMRegressor()"
      ]
     },
     "execution_count": 99,
     "metadata": {},
     "output_type": "execute_result"
    }
   ],
   "source": [
    "lgbm_model.fit(x_train,y_train)"
   ]
  },
  {
   "cell_type": "code",
   "execution_count": 100,
   "metadata": {},
   "outputs": [
    {
     "name": "stdout",
     "output_type": "stream",
     "text": [
      "Train accuracy 0.817676213851056\n",
      "Test accuracy: 0.755306209552938\n"
     ]
    }
   ],
   "source": [
    "print('Train accuracy',lgbm_model.score(x_train,y_train))\n",
    "print(\"Test accuracy:\", lgbm_model.score(x_test,y_test))"
   ]
  },
  {
   "cell_type": "code",
   "execution_count": 101,
   "metadata": {},
   "outputs": [],
   "source": [
    "?lgb.LGBMRegressor"
   ]
  },
  {
   "cell_type": "code",
   "execution_count": 102,
   "metadata": {},
   "outputs": [
    {
     "name": "stdout",
     "output_type": "stream",
     "text": [
      "Fitting 10 folds for each of 90 candidates, totalling 900 fits\n"
     ]
    },
    {
     "data": {
      "text/plain": [
       "GridSearchCV(cv=10, estimator=LGBMRegressor(), n_jobs=-1,\n",
       "             param_grid={'boosting_type': ['rf', 'gbdt'],\n",
       "                         'learning_rate': [0.01, 0.001, 0.0001],\n",
       "                         'max_depth': [2, 6, 8, 10, 12],\n",
       "                         'n_estimators': [50, 100, 150]},\n",
       "             verbose=1)"
      ]
     },
     "execution_count": 102,
     "metadata": {},
     "output_type": "execute_result"
    }
   ],
   "source": [
    "\n",
    "parameters = {'n_estimators':[50,100,150],\n",
    "              'max_depth':[2,6,8,10,12],\n",
    "              \"boosting_type\":['rf','gbdt'],\n",
    "            'learning_rate':[0.01,.001,.0001]\n",
    "             }\n",
    "\n",
    "lgbm = lgb.LGBMRegressor()\n",
    "gsearch3 = GridSearchCV(lgbm, parameters, cv=10, verbose=1, n_jobs=-1)\n",
    "gsearch3.fit(x_train, y_train)"
   ]
  },
  {
   "cell_type": "code",
   "execution_count": 103,
   "metadata": {},
   "outputs": [
    {
     "data": {
      "text/plain": [
       "{'boosting_type': 'gbdt',\n",
       " 'learning_rate': 0.01,\n",
       " 'max_depth': 12,\n",
       " 'n_estimators': 150}"
      ]
     },
     "execution_count": 103,
     "metadata": {},
     "output_type": "execute_result"
    }
   ],
   "source": [
    "gsearch3.best_params_"
   ]
  },
  {
   "cell_type": "code",
   "execution_count": 104,
   "metadata": {},
   "outputs": [],
   "source": [
    "lgbm_model2=lgb.LGBMRegressor(boosting_type='gbdt',learning_rate=0.1,max_depth=8,n_estimators=80)"
   ]
  },
  {
   "cell_type": "code",
   "execution_count": 105,
   "metadata": {},
   "outputs": [
    {
     "data": {
      "text/plain": [
       "LGBMRegressor(max_depth=8, n_estimators=80)"
      ]
     },
     "execution_count": 105,
     "metadata": {},
     "output_type": "execute_result"
    }
   ],
   "source": [
    "lgbm_model2.fit(x_train,y_train)"
   ]
  },
  {
   "cell_type": "code",
   "execution_count": 106,
   "metadata": {},
   "outputs": [
    {
     "name": "stdout",
     "output_type": "stream",
     "text": [
      "Train accuracy 0.7804394045358937\n",
      "Test accuracy: 0.7752969496944222\n"
     ]
    }
   ],
   "source": [
    "print('Train accuracy',lgbm_model2.score(x_train,y_train))\n",
    "print(\"Test accuracy:\", lgbm_model2.score(x_test,y_test))"
   ]
  },
  {
   "cell_type": "code",
   "execution_count": 107,
   "metadata": {},
   "outputs": [],
   "source": [
    "pred_y_lgbm=lgbm_model2.predict(x_test)"
   ]
  },
  {
   "cell_type": "code",
   "execution_count": 108,
   "metadata": {},
   "outputs": [],
   "source": [
    "from sklearn import metrics"
   ]
  },
  {
   "cell_type": "code",
   "execution_count": 109,
   "metadata": {},
   "outputs": [
    {
     "name": "stdout",
     "output_type": "stream",
     "text": [
      "Mean Absolute Error: 7030.873447315789\n",
      "Mean Absolute Percentage Error: 24.097385589061762\n",
      "Mean Squared Error: 102323212.7127466\n",
      "Root Mean Squared Error: 10115.493695947154\n"
     ]
    }
   ],
   "source": [
    "print('Mean Absolute Error:', metrics.mean_absolute_error(y_test, pred_y_lgbm))  \n",
    "print('Mean Absolute Percentage Error:', np.mean(np.abs(((pred_y_lgbm-y_test)/y_test)*100)))\n",
    "print('Mean Squared Error:', metrics.mean_squared_error(y_test, pred_y_lgbm))  \n",
    "print('Root Mean Squared Error:', np.sqrt(metrics.mean_squared_error(y_test, pred_y_lgbm)))"
   ]
  },
  {
   "cell_type": "code",
   "execution_count": 110,
   "metadata": {},
   "outputs": [
    {
     "data": {
      "text/html": [
       "<div>\n",
       "<style scoped>\n",
       "    .dataframe tbody tr th:only-of-type {\n",
       "        vertical-align: middle;\n",
       "    }\n",
       "\n",
       "    .dataframe tbody tr th {\n",
       "        vertical-align: top;\n",
       "    }\n",
       "\n",
       "    .dataframe thead th {\n",
       "        text-align: right;\n",
       "    }\n",
       "</style>\n",
       "<table border=\"1\" class=\"dataframe\">\n",
       "  <thead>\n",
       "    <tr style=\"text-align: right;\">\n",
       "      <th></th>\n",
       "      <th>Year_Birth</th>\n",
       "      <th>Education</th>\n",
       "      <th>Marital_Status</th>\n",
       "      <th>Income</th>\n",
       "      <th>Kidhome</th>\n",
       "      <th>Teenhome</th>\n",
       "      <th>Recency</th>\n",
       "      <th>MntFruits</th>\n",
       "      <th>MntFishProducts</th>\n",
       "      <th>MntSweetProducts</th>\n",
       "      <th>...</th>\n",
       "      <th>AcceptedCmp5</th>\n",
       "      <th>AcceptedCmp1</th>\n",
       "      <th>AcceptedCmp2</th>\n",
       "      <th>Complain</th>\n",
       "      <th>Response</th>\n",
       "      <th>Dt_year</th>\n",
       "      <th>Dt_month</th>\n",
       "      <th>Dt_day</th>\n",
       "      <th>Age</th>\n",
       "      <th>Total_expences</th>\n",
       "    </tr>\n",
       "  </thead>\n",
       "  <tbody>\n",
       "    <tr>\n",
       "      <th>0</th>\n",
       "      <td>1957</td>\n",
       "      <td>0</td>\n",
       "      <td>3</td>\n",
       "      <td>58138.0</td>\n",
       "      <td>0</td>\n",
       "      <td>0</td>\n",
       "      <td>58</td>\n",
       "      <td>88</td>\n",
       "      <td>172</td>\n",
       "      <td>88</td>\n",
       "      <td>...</td>\n",
       "      <td>0</td>\n",
       "      <td>0</td>\n",
       "      <td>0</td>\n",
       "      <td>0</td>\n",
       "      <td>1</td>\n",
       "      <td>2012</td>\n",
       "      <td>0</td>\n",
       "      <td>9</td>\n",
       "      <td>64</td>\n",
       "      <td>1617</td>\n",
       "    </tr>\n",
       "    <tr>\n",
       "      <th>1</th>\n",
       "      <td>1954</td>\n",
       "      <td>0</td>\n",
       "      <td>3</td>\n",
       "      <td>46344.0</td>\n",
       "      <td>1</td>\n",
       "      <td>1</td>\n",
       "      <td>38</td>\n",
       "      <td>1</td>\n",
       "      <td>2</td>\n",
       "      <td>1</td>\n",
       "      <td>...</td>\n",
       "      <td>0</td>\n",
       "      <td>0</td>\n",
       "      <td>0</td>\n",
       "      <td>0</td>\n",
       "      <td>0</td>\n",
       "      <td>2014</td>\n",
       "      <td>1</td>\n",
       "      <td>3</td>\n",
       "      <td>67</td>\n",
       "      <td>27</td>\n",
       "    </tr>\n",
       "    <tr>\n",
       "      <th>2</th>\n",
       "      <td>1965</td>\n",
       "      <td>0</td>\n",
       "      <td>4</td>\n",
       "      <td>71613.0</td>\n",
       "      <td>0</td>\n",
       "      <td>0</td>\n",
       "      <td>26</td>\n",
       "      <td>49</td>\n",
       "      <td>111</td>\n",
       "      <td>21</td>\n",
       "      <td>...</td>\n",
       "      <td>0</td>\n",
       "      <td>0</td>\n",
       "      <td>0</td>\n",
       "      <td>0</td>\n",
       "      <td>0</td>\n",
       "      <td>2013</td>\n",
       "      <td>1</td>\n",
       "      <td>21</td>\n",
       "      <td>56</td>\n",
       "      <td>776</td>\n",
       "    </tr>\n",
       "    <tr>\n",
       "      <th>3</th>\n",
       "      <td>1984</td>\n",
       "      <td>0</td>\n",
       "      <td>4</td>\n",
       "      <td>26646.0</td>\n",
       "      <td>1</td>\n",
       "      <td>0</td>\n",
       "      <td>26</td>\n",
       "      <td>4</td>\n",
       "      <td>10</td>\n",
       "      <td>3</td>\n",
       "      <td>...</td>\n",
       "      <td>0</td>\n",
       "      <td>0</td>\n",
       "      <td>0</td>\n",
       "      <td>0</td>\n",
       "      <td>0</td>\n",
       "      <td>2014</td>\n",
       "      <td>10</td>\n",
       "      <td>2</td>\n",
       "      <td>37</td>\n",
       "      <td>53</td>\n",
       "    </tr>\n",
       "    <tr>\n",
       "      <th>4</th>\n",
       "      <td>1981</td>\n",
       "      <td>2</td>\n",
       "      <td>1</td>\n",
       "      <td>58293.0</td>\n",
       "      <td>1</td>\n",
       "      <td>0</td>\n",
       "      <td>94</td>\n",
       "      <td>43</td>\n",
       "      <td>46</td>\n",
       "      <td>27</td>\n",
       "      <td>...</td>\n",
       "      <td>0</td>\n",
       "      <td>0</td>\n",
       "      <td>0</td>\n",
       "      <td>0</td>\n",
       "      <td>0</td>\n",
       "      <td>2014</td>\n",
       "      <td>4</td>\n",
       "      <td>19</td>\n",
       "      <td>40</td>\n",
       "      <td>422</td>\n",
       "    </tr>\n",
       "  </tbody>\n",
       "</table>\n",
       "<p>5 rows × 25 columns</p>\n",
       "</div>"
      ],
      "text/plain": [
       "   Year_Birth  Education  Marital_Status   Income  Kidhome  Teenhome  Recency  \\\n",
       "0        1957          0               3  58138.0        0         0       58   \n",
       "1        1954          0               3  46344.0        1         1       38   \n",
       "2        1965          0               4  71613.0        0         0       26   \n",
       "3        1984          0               4  26646.0        1         0       26   \n",
       "4        1981          2               1  58293.0        1         0       94   \n",
       "\n",
       "   MntFruits  MntFishProducts  MntSweetProducts  ...  AcceptedCmp5  \\\n",
       "0         88              172                88  ...             0   \n",
       "1          1                2                 1  ...             0   \n",
       "2         49              111                21  ...             0   \n",
       "3          4               10                 3  ...             0   \n",
       "4         43               46                27  ...             0   \n",
       "\n",
       "   AcceptedCmp1  AcceptedCmp2  Complain  Response  Dt_year  Dt_month  Dt_day  \\\n",
       "0             0             0         0         1     2012         0       9   \n",
       "1             0             0         0         0     2014         1       3   \n",
       "2             0             0         0         0     2013         1      21   \n",
       "3             0             0         0         0     2014        10       2   \n",
       "4             0             0         0         0     2014         4      19   \n",
       "\n",
       "   Age  Total_expences  \n",
       "0   64            1617  \n",
       "1   67              27  \n",
       "2   56             776  \n",
       "3   37              53  \n",
       "4   40             422  \n",
       "\n",
       "[5 rows x 25 columns]"
      ]
     },
     "execution_count": 110,
     "metadata": {},
     "output_type": "execute_result"
    }
   ],
   "source": [
    "\n",
    "df.head()"
   ]
  },
  {
   "cell_type": "code",
   "execution_count": 111,
   "metadata": {},
   "outputs": [],
   "source": [
    "df_class=df.copy()"
   ]
  },
  {
   "cell_type": "code",
   "execution_count": 112,
   "metadata": {},
   "outputs": [],
   "source": [
    "df_class.drop(columns=['Response','Year_Birth','Dt_year'],inplace=True)"
   ]
  },
  {
   "cell_type": "code",
   "execution_count": 113,
   "metadata": {},
   "outputs": [],
   "source": [
    "df_class_scld=sc.fit_transform(df_class)"
   ]
  },
  {
   "cell_type": "code",
   "execution_count": 114,
   "metadata": {},
   "outputs": [],
   "source": [
    "df_class_scld=pd.DataFrame(df_class_scld)"
   ]
  },
  {
   "cell_type": "code",
   "execution_count": 115,
   "metadata": {},
   "outputs": [],
   "source": [
    "df_class_scld['Response']=df['Response']"
   ]
  },
  {
   "cell_type": "code",
   "execution_count": 116,
   "metadata": {},
   "outputs": [],
   "source": [
    "class_corr=df_class.corr()"
   ]
  },
  {
   "cell_type": "code",
   "execution_count": 117,
   "metadata": {},
   "outputs": [
    {
     "data": {
      "text/plain": [
       "Education          Education            1.000000\n",
       "Income             Total_expences       0.664850\n",
       "Total_expences     Income               0.664850\n",
       "                   MntFishProducts      0.642818\n",
       "MntFishProducts    Total_expences       0.642818\n",
       "MntFruits          Total_expences       0.614229\n",
       "Total_expences     MntFruits            0.614229\n",
       "MntSweetProducts   Total_expences       0.603016\n",
       "Total_expences     MntSweetProducts     0.603016\n",
       "MntFruits          MntFishProducts      0.594804\n",
       "MntFishProducts    MntFruits            0.594804\n",
       "MntSweetProducts   MntFishProducts      0.579870\n",
       "MntFishProducts    MntSweetProducts     0.579870\n",
       "MntSweetProducts   MntFruits            0.567164\n",
       "MntFruits          MntSweetProducts     0.567164\n",
       "Total_expences     Kidhome              0.556669\n",
       "Kidhome            Total_expences       0.556669\n",
       "Income             NumWebVisitsMonth    0.549725\n",
       "NumWebVisitsMonth  Income               0.549725\n",
       "Total_expences     MntGoldProds         0.524262\n",
       "MntGoldProds       Total_expences       0.524262\n",
       "Total_expences     NumWebVisitsMonth    0.500218\n",
       "NumWebVisitsMonth  Total_expences       0.500218\n",
       "AcceptedCmp5       Total_expences       0.470058\n",
       "Total_expences     AcceptedCmp5         0.470058\n",
       "NumWebVisitsMonth  Kidhome              0.447846\n",
       "Kidhome            NumWebVisitsMonth    0.447846\n",
       "NumWebVisitsMonth  MntFishProducts      0.446003\n",
       "MntFishProducts    NumWebVisitsMonth    0.446003\n",
       "                   Income               0.437642\n",
       "Income             MntFishProducts      0.437642\n",
       "                   MntSweetProducts     0.436083\n",
       "MntSweetProducts   Income               0.436083\n",
       "Income             MntFruits            0.428839\n",
       "dtype: float64"
      ]
     },
     "execution_count": 117,
     "metadata": {},
     "output_type": "execute_result"
    }
   ],
   "source": [
    "\n",
    "c2 = class_corr.abs().unstack()\n",
    "c2.sort_values(ascending = False)[21:55]"
   ]
  },
  {
   "cell_type": "code",
   "execution_count": 118,
   "metadata": {},
   "outputs": [],
   "source": [
    "x=df_class_scld.drop(columns=['Response'])\n",
    "y=df_class_scld['Response']"
   ]
  },
  {
   "cell_type": "code",
   "execution_count": 119,
   "metadata": {},
   "outputs": [],
   "source": [
    "x_train,x_test,y_train,y_test=train_test_split(x,y,test_size=0.2,random_state=123)"
   ]
  },
  {
   "cell_type": "code",
   "execution_count": 120,
   "metadata": {},
   "outputs": [],
   "source": [
    "from sklearn.ensemble import RandomForestClassifier"
   ]
  },
  {
   "cell_type": "code",
   "execution_count": 121,
   "metadata": {},
   "outputs": [],
   "source": [
    "rf_class=RandomForestClassifier(n_estimators=100,min_samples_split=5,min_samples_leaf=3,max_depth=7)"
   ]
  },
  {
   "cell_type": "code",
   "execution_count": 122,
   "metadata": {},
   "outputs": [],
   "source": [
    "model_class=rf_class.fit(x_train,y_train)"
   ]
  },
  {
   "cell_type": "code",
   "execution_count": 123,
   "metadata": {},
   "outputs": [
    {
     "name": "stdout",
     "output_type": "stream",
     "text": [
      "Train Accuracy 0.9084821428571429\n",
      "Test Accuracy 0.8772321428571429\n"
     ]
    }
   ],
   "source": [
    "print('Train Accuracy',model_class.score(x_train,y_train))\n",
    "print('Test Accuracy',model_class.score(x_test,y_test))\n"
   ]
  },
  {
   "cell_type": "code",
   "execution_count": 124,
   "metadata": {},
   "outputs": [],
   "source": [
    "pred_train_rf=rf_class.predict(x_train)\n",
    "pred_test_rf=rf_class.predict(x_test)"
   ]
  },
  {
   "cell_type": "code",
   "execution_count": 125,
   "metadata": {},
   "outputs": [
    {
     "name": "stdout",
     "output_type": "stream",
     "text": [
      "              precision    recall  f1-score   support\n",
      "\n",
      "           0       0.90      1.00      0.95      1524\n",
      "           1       0.99      0.39      0.56       268\n",
      "\n",
      "    accuracy                           0.91      1792\n",
      "   macro avg       0.95      0.70      0.76      1792\n",
      "weighted avg       0.92      0.91      0.89      1792\n",
      "\n"
     ]
    }
   ],
   "source": [
    "print(metrics.classification_report(y_train, pred_train_rf))"
   ]
  },
  {
   "cell_type": "code",
   "execution_count": 126,
   "metadata": {},
   "outputs": [
    {
     "name": "stdout",
     "output_type": "stream",
     "text": [
      "              precision    recall  f1-score   support\n",
      "\n",
      "           0       0.88      0.99      0.93       382\n",
      "           1       0.76      0.24      0.37        66\n",
      "\n",
      "    accuracy                           0.88       448\n",
      "   macro avg       0.82      0.61      0.65       448\n",
      "weighted avg       0.87      0.88      0.85       448\n",
      "\n"
     ]
    }
   ],
   "source": [
    "print(metrics.classification_report(y_test, pred_test_rf))"
   ]
  },
  {
   "cell_type": "markdown",
   "metadata": {},
   "source": [
    "Because of the high imbalance in the classes their is large difference in recall and precision to make balance\n",
    "between the classes we make use of smote technique"
   ]
  },
  {
   "cell_type": "code",
   "execution_count": 127,
   "metadata": {},
   "outputs": [],
   "source": [
    "import imblearn"
   ]
  },
  {
   "cell_type": "code",
   "execution_count": 128,
   "metadata": {},
   "outputs": [
    {
     "name": "stdout",
     "output_type": "stream",
     "text": [
      "Before OverSampling, counts of label '1': 268\n",
      "Before OverSampling, counts of label '0': 1524\n",
      "After OverSampling, counts of label '1': 1524\n",
      "After OverSampling, counts of label '0': 1524\n"
     ]
    }
   ],
   "source": [
    "from imblearn.over_sampling import SMOTE\n",
    "sm = SMOTE(random_state = 2)\n",
    "x_train_res, y_train_res = sm.fit_resample(x_train, y_train)\n",
    "\n",
    "\n",
    "print(\"Before OverSampling, counts of label '1': {}\".format(sum(y_train == 1)))\n",
    "print(\"Before OverSampling, counts of label '0': {}\".format(sum(y_train == 0)))\n",
    "\n",
    "print(\"After OverSampling, counts of label '1': {}\".format(sum(y_train_res == 1)))\n",
    "print(\"After OverSampling, counts of label '0': {}\".format(sum(y_train_res == 0)))\n"
   ]
  },
  {
   "cell_type": "code",
   "execution_count": 129,
   "metadata": {},
   "outputs": [],
   "source": [
    "model_smote=rf_class.fit(x_train_res,y_train_res)"
   ]
  },
  {
   "cell_type": "code",
   "execution_count": 130,
   "metadata": {},
   "outputs": [
    {
     "name": "stdout",
     "output_type": "stream",
     "text": [
      "Train Accuracy 0.9402887139107612\n",
      "Train Accuracy 0.859375\n"
     ]
    }
   ],
   "source": [
    "print('Train Accuracy',model_smote.score(x_train_res,y_train_res))\n",
    "print('Train Accuracy',model_smote.score(x_test,y_test))\n"
   ]
  },
  {
   "cell_type": "code",
   "execution_count": 131,
   "metadata": {},
   "outputs": [
    {
     "name": "stdout",
     "output_type": "stream",
     "text": [
      "Fitting 10 folds for each of 162 candidates, totalling 1620 fits\n"
     ]
    },
    {
     "data": {
      "text/plain": [
       "GridSearchCV(cv=10, estimator=RandomForestClassifier(), n_jobs=-1,\n",
       "             param_grid={'max_depth': [2, 4, 6, 8, 9, 10],\n",
       "                         'min_samples_leaf': [2, 5, 10],\n",
       "                         'min_samples_split': [3, 4, 5],\n",
       "                         'n_estimators': [50, 100, 150]},\n",
       "             verbose=1)"
      ]
     },
     "execution_count": 131,
     "metadata": {},
     "output_type": "execute_result"
    }
   ],
   "source": [
    "\n",
    "parameters = {'n_estimators':[50,100,150],\n",
    "              'min_samples_split':[3,4,5], \n",
    "              'max_depth':[2,4,6,8,9,10],\n",
    "              \"min_samples_leaf\":[2,5,10],\n",
    "             }\n",
    "\n",
    "rf_class = RandomForestClassifier()\n",
    "gsearch2 = GridSearchCV(rf_class, parameters, cv=10, verbose=1, n_jobs=-1)\n",
    "gsearch2.fit(x_train_res, y_train_res)"
   ]
  },
  {
   "cell_type": "code",
   "execution_count": 132,
   "metadata": {},
   "outputs": [
    {
     "data": {
      "text/plain": [
       "{'max_depth': 10,\n",
       " 'min_samples_leaf': 2,\n",
       " 'min_samples_split': 4,\n",
       " 'n_estimators': 100}"
      ]
     },
     "execution_count": 132,
     "metadata": {},
     "output_type": "execute_result"
    }
   ],
   "source": [
    "gsearch2.best_params_"
   ]
  },
  {
   "cell_type": "code",
   "execution_count": 133,
   "metadata": {},
   "outputs": [],
   "source": [
    "rf_smote=RandomForestClassifier(n_estimators=150,min_samples_split=3,min_samples_leaf=2,max_depth=5)"
   ]
  },
  {
   "cell_type": "code",
   "execution_count": 134,
   "metadata": {},
   "outputs": [
    {
     "data": {
      "text/plain": [
       "RandomForestClassifier(max_depth=5, min_samples_leaf=2, min_samples_split=3,\n",
       "                       n_estimators=150)"
      ]
     },
     "execution_count": 134,
     "metadata": {},
     "output_type": "execute_result"
    }
   ],
   "source": [
    "rf_smote.fit(x_train_res,y_train_res)"
   ]
  },
  {
   "cell_type": "code",
   "execution_count": 135,
   "metadata": {},
   "outputs": [
    {
     "name": "stdout",
     "output_type": "stream",
     "text": [
      "Train accuracy 0.8927165354330708\n",
      "Test accuracy: 0.8415178571428571\n"
     ]
    }
   ],
   "source": [
    "print('Train accuracy',rf_smote.score(x_train_res,y_train_res))\n",
    "print(\"Test accuracy:\", rf_smote.score(x_test,y_test))"
   ]
  },
  {
   "cell_type": "code",
   "execution_count": 136,
   "metadata": {},
   "outputs": [],
   "source": [
    "pred_train_rf_smt=rf_smote.predict(x_train_res)\n",
    "pred_test_rf_smt=rf_smote.predict(x_test)"
   ]
  },
  {
   "cell_type": "code",
   "execution_count": 137,
   "metadata": {},
   "outputs": [
    {
     "name": "stdout",
     "output_type": "stream",
     "text": [
      "              precision    recall  f1-score   support\n",
      "\n",
      "           0       0.88      0.92      0.90      1524\n",
      "           1       0.91      0.87      0.89      1524\n",
      "\n",
      "    accuracy                           0.89      3048\n",
      "   macro avg       0.89      0.89      0.89      3048\n",
      "weighted avg       0.89      0.89      0.89      3048\n",
      "\n"
     ]
    }
   ],
   "source": [
    "print(metrics.classification_report(y_train_res, pred_train_rf_smt))"
   ]
  },
  {
   "cell_type": "code",
   "execution_count": 138,
   "metadata": {},
   "outputs": [
    {
     "name": "stdout",
     "output_type": "stream",
     "text": [
      "              precision    recall  f1-score   support\n",
      "\n",
      "           0       0.93      0.88      0.90       382\n",
      "           1       0.47      0.59      0.52        66\n",
      "\n",
      "    accuracy                           0.84       448\n",
      "   macro avg       0.70      0.74      0.71       448\n",
      "weighted avg       0.86      0.84      0.85       448\n",
      "\n"
     ]
    }
   ],
   "source": [
    "print(metrics.classification_report(y_test, pred_test_rf_smt))"
   ]
  },
  {
   "cell_type": "markdown",
   "metadata": {},
   "source": [
    "lightgbm classifier"
   ]
  },
  {
   "cell_type": "code",
   "execution_count": 139,
   "metadata": {},
   "outputs": [
    {
     "name": "stdout",
     "output_type": "stream",
     "text": [
      "Fitting 10 folds for each of 90 candidates, totalling 900 fits\n"
     ]
    },
    {
     "data": {
      "text/plain": [
       "GridSearchCV(cv=10, estimator=LGBMClassifier(), n_jobs=-1,\n",
       "             param_grid={'boosting_type': ['rf', 'gbdt'],\n",
       "                         'learning_rate': [0.01, 0.001, 0.0001],\n",
       "                         'max_depth': [2, 6, 8, 10, 12],\n",
       "                         'n_estimators': [50, 100, 150]},\n",
       "             verbose=1)"
      ]
     },
     "execution_count": 139,
     "metadata": {},
     "output_type": "execute_result"
    }
   ],
   "source": [
    "\n",
    "parameters = {'n_estimators':[50,100,150],\n",
    "              'max_depth':[2,6,8,10,12],\n",
    "              \"boosting_type\":['rf','gbdt'],\n",
    "            'learning_rate':[0.01,.001,.0001]\n",
    "             }\n",
    "\n",
    "lgbm_smote = lgb.LGBMClassifier()\n",
    "gsearch3 = GridSearchCV(lgbm_smote, parameters, cv=10, verbose=1, n_jobs=-1)\n",
    "gsearch3.fit(x_train_res, y_train_res)"
   ]
  },
  {
   "cell_type": "code",
   "execution_count": 140,
   "metadata": {},
   "outputs": [
    {
     "data": {
      "text/plain": [
       "{'boosting_type': 'gbdt',\n",
       " 'learning_rate': 0.01,\n",
       " 'max_depth': 12,\n",
       " 'n_estimators': 150}"
      ]
     },
     "execution_count": 140,
     "metadata": {},
     "output_type": "execute_result"
    }
   ],
   "source": [
    "gsearch3.best_params_"
   ]
  },
  {
   "cell_type": "code",
   "execution_count": 141,
   "metadata": {},
   "outputs": [],
   "source": [
    "lgbm_smt=lgb.LGBMClassifier(n_estimators=100,boosting_type='gbdt',learning_rate=0.001,max_depth=7)"
   ]
  },
  {
   "cell_type": "code",
   "execution_count": 142,
   "metadata": {},
   "outputs": [
    {
     "data": {
      "text/plain": [
       "LGBMClassifier(learning_rate=0.001, max_depth=7)"
      ]
     },
     "execution_count": 142,
     "metadata": {},
     "output_type": "execute_result"
    }
   ],
   "source": [
    "lgbm_smt.fit(x_train_res,y_train_res)"
   ]
  },
  {
   "cell_type": "code",
   "execution_count": 143,
   "metadata": {},
   "outputs": [
    {
     "name": "stdout",
     "output_type": "stream",
     "text": [
      "Train accuracy 0.8471128608923885\n",
      "Test accuracy: 0.8236607142857143\n"
     ]
    }
   ],
   "source": [
    "print('Train accuracy',lgbm_smt.score(x_train_res,y_train_res))\n",
    "print(\"Test accuracy:\", lgbm_smt.score(x_test,y_test))"
   ]
  },
  {
   "cell_type": "code",
   "execution_count": 144,
   "metadata": {},
   "outputs": [],
   "source": [
    "pred_train_lgbm_smt=lgbm_smt.predict(x_train_res)\n",
    "pred_test_lgbm_smt=lgbm_smt.predict(x_test)"
   ]
  },
  {
   "cell_type": "code",
   "execution_count": 145,
   "metadata": {},
   "outputs": [
    {
     "name": "stdout",
     "output_type": "stream",
     "text": [
      "              precision    recall  f1-score   support\n",
      "\n",
      "           0       0.82      0.89      0.85      1524\n",
      "           1       0.88      0.81      0.84      1524\n",
      "\n",
      "    accuracy                           0.85      3048\n",
      "   macro avg       0.85      0.85      0.85      3048\n",
      "weighted avg       0.85      0.85      0.85      3048\n",
      "\n"
     ]
    }
   ],
   "source": [
    "print(metrics.classification_report(y_train_res, pred_train_lgbm_smt))"
   ]
  },
  {
   "cell_type": "code",
   "execution_count": 146,
   "metadata": {},
   "outputs": [
    {
     "name": "stdout",
     "output_type": "stream",
     "text": [
      "              precision    recall  f1-score   support\n",
      "\n",
      "           0       0.92      0.87      0.89       382\n",
      "           1       0.43      0.56      0.48        66\n",
      "\n",
      "    accuracy                           0.82       448\n",
      "   macro avg       0.67      0.71      0.69       448\n",
      "weighted avg       0.85      0.82      0.83       448\n",
      "\n"
     ]
    }
   ],
   "source": [
    "print(metrics.classification_report(y_test, pred_test_lgbm_smt))"
   ]
  },
  {
   "cell_type": "code",
   "execution_count": null,
   "metadata": {},
   "outputs": [],
   "source": []
  }
 ],
 "metadata": {
  "kernelspec": {
   "display_name": "Python 3",
   "language": "python",
   "name": "python3"
  },
  "language_info": {
   "codemirror_mode": {
    "name": "ipython",
    "version": 3
   },
   "file_extension": ".py",
   "mimetype": "text/x-python",
   "name": "python",
   "nbconvert_exporter": "python",
   "pygments_lexer": "ipython3",
   "version": "3.8.5"
  }
 },
 "nbformat": 4,
 "nbformat_minor": 4
}
