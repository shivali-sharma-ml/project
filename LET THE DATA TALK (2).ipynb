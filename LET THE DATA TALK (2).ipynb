{
 "cells": [
  {
   "cell_type": "raw",
   "metadata": {},
   "source": [
    "FIRST STEP IS TO IMPORT NECESSARY LIBRARIES FOR GENERAL PURPOSES"
   ]
  },
  {
   "cell_type": "code",
   "execution_count": 1,
   "metadata": {},
   "outputs": [],
   "source": [
    "import pandas as pd\n",
    "import numpy as np\n",
    "import os\n",
    "import matplotlib.pyplot as plt\n",
    "import seaborn as sns "
   ]
  },
  {
   "cell_type": "raw",
   "metadata": {},
   "source": [
    "USED OS LIBRARY TO SET THE DIRECTORY TO READ THE DATA"
   ]
  },
  {
   "cell_type": "code",
   "execution_count": 2,
   "metadata": {},
   "outputs": [],
   "source": [
    "os.chdir(r'C:/Users/admin/OneDrive/Documents/resume_project/internshala')"
   ]
  },
  {
   "cell_type": "code",
   "execution_count": 3,
   "metadata": {},
   "outputs": [
    {
     "data": {
      "text/plain": [
       "['cancer_reg.csv',\n",
       " 'Data Science Intern Assignment.pdf',\n",
       " 'Desktop',\n",
       " 'LET THE DATA TALK.ipynb']"
      ]
     },
     "execution_count": 3,
     "metadata": {},
     "output_type": "execute_result"
    }
   ],
   "source": [
    "os.listdir()"
   ]
  },
  {
   "cell_type": "raw",
   "metadata": {},
   "source": [
    "USED PANDAS LIBRARY TO READ THE DATASET"
   ]
  },
  {
   "cell_type": "code",
   "execution_count": 4,
   "metadata": {},
   "outputs": [],
   "source": [
    "df=pd.read_csv('cancer_reg.csv',encoding = \"ISO-8859-1\",thousands=' ')"
   ]
  },
  {
   "cell_type": "raw",
   "metadata": {},
   "source": [
    "USED HEAD COMMAND TO SEE WHETHER THE DATA IS CORRECTLY IMPORTED OR NOT"
   ]
  },
  {
   "cell_type": "code",
   "execution_count": 5,
   "metadata": {},
   "outputs": [
    {
     "data": {
      "text/html": [
       "<div>\n",
       "<style scoped>\n",
       "    .dataframe tbody tr th:only-of-type {\n",
       "        vertical-align: middle;\n",
       "    }\n",
       "\n",
       "    .dataframe tbody tr th {\n",
       "        vertical-align: top;\n",
       "    }\n",
       "\n",
       "    .dataframe thead th {\n",
       "        text-align: right;\n",
       "    }\n",
       "</style>\n",
       "<table border=\"1\" class=\"dataframe\">\n",
       "  <thead>\n",
       "    <tr style=\"text-align: right;\">\n",
       "      <th></th>\n",
       "      <th>avgAnnCount</th>\n",
       "      <th>avgDeathsPerYear</th>\n",
       "      <th>TARGET_deathRate</th>\n",
       "      <th>incidenceRate</th>\n",
       "      <th>medIncome</th>\n",
       "      <th>popEst2015</th>\n",
       "      <th>povertyPercent</th>\n",
       "      <th>studyPerCap</th>\n",
       "      <th>binnedInc</th>\n",
       "      <th>MedianAge</th>\n",
       "      <th>...</th>\n",
       "      <th>PctPrivateCoverageAlone</th>\n",
       "      <th>PctEmpPrivCoverage</th>\n",
       "      <th>PctPublicCoverage</th>\n",
       "      <th>PctPublicCoverageAlone</th>\n",
       "      <th>PctWhite</th>\n",
       "      <th>PctBlack</th>\n",
       "      <th>PctAsian</th>\n",
       "      <th>PctOtherRace</th>\n",
       "      <th>PctMarriedHouseholds</th>\n",
       "      <th>BirthRate</th>\n",
       "    </tr>\n",
       "  </thead>\n",
       "  <tbody>\n",
       "    <tr>\n",
       "      <th>0</th>\n",
       "      <td>1397.0</td>\n",
       "      <td>469</td>\n",
       "      <td>164.9</td>\n",
       "      <td>489.8</td>\n",
       "      <td>61898</td>\n",
       "      <td>260131</td>\n",
       "      <td>11.2</td>\n",
       "      <td>499.748204</td>\n",
       "      <td>(61494.5, 125635]</td>\n",
       "      <td>39.3</td>\n",
       "      <td>...</td>\n",
       "      <td>NaN</td>\n",
       "      <td>41.6</td>\n",
       "      <td>32.9</td>\n",
       "      <td>14.0</td>\n",
       "      <td>81.780529</td>\n",
       "      <td>2.594728</td>\n",
       "      <td>4.821857</td>\n",
       "      <td>1.843479</td>\n",
       "      <td>52.856076</td>\n",
       "      <td>6.118831</td>\n",
       "    </tr>\n",
       "    <tr>\n",
       "      <th>1</th>\n",
       "      <td>173.0</td>\n",
       "      <td>70</td>\n",
       "      <td>161.3</td>\n",
       "      <td>411.6</td>\n",
       "      <td>48127</td>\n",
       "      <td>43269</td>\n",
       "      <td>18.6</td>\n",
       "      <td>23.111234</td>\n",
       "      <td>(48021.6, 51046.4]</td>\n",
       "      <td>33.0</td>\n",
       "      <td>...</td>\n",
       "      <td>53.8</td>\n",
       "      <td>43.6</td>\n",
       "      <td>31.1</td>\n",
       "      <td>15.3</td>\n",
       "      <td>89.228509</td>\n",
       "      <td>0.969102</td>\n",
       "      <td>2.246233</td>\n",
       "      <td>3.741352</td>\n",
       "      <td>45.372500</td>\n",
       "      <td>4.333096</td>\n",
       "    </tr>\n",
       "    <tr>\n",
       "      <th>2</th>\n",
       "      <td>102.0</td>\n",
       "      <td>50</td>\n",
       "      <td>174.7</td>\n",
       "      <td>349.7</td>\n",
       "      <td>49348</td>\n",
       "      <td>21026</td>\n",
       "      <td>14.6</td>\n",
       "      <td>47.560164</td>\n",
       "      <td>(48021.6, 51046.4]</td>\n",
       "      <td>45.0</td>\n",
       "      <td>...</td>\n",
       "      <td>43.5</td>\n",
       "      <td>34.9</td>\n",
       "      <td>42.1</td>\n",
       "      <td>21.1</td>\n",
       "      <td>90.922190</td>\n",
       "      <td>0.739673</td>\n",
       "      <td>0.465898</td>\n",
       "      <td>2.747358</td>\n",
       "      <td>54.444868</td>\n",
       "      <td>3.729488</td>\n",
       "    </tr>\n",
       "    <tr>\n",
       "      <th>3</th>\n",
       "      <td>427.0</td>\n",
       "      <td>202</td>\n",
       "      <td>194.8</td>\n",
       "      <td>430.4</td>\n",
       "      <td>44243</td>\n",
       "      <td>75882</td>\n",
       "      <td>17.1</td>\n",
       "      <td>342.637253</td>\n",
       "      <td>(42724.4, 45201]</td>\n",
       "      <td>42.8</td>\n",
       "      <td>...</td>\n",
       "      <td>40.3</td>\n",
       "      <td>35.0</td>\n",
       "      <td>45.3</td>\n",
       "      <td>25.0</td>\n",
       "      <td>91.744686</td>\n",
       "      <td>0.782626</td>\n",
       "      <td>1.161359</td>\n",
       "      <td>1.362643</td>\n",
       "      <td>51.021514</td>\n",
       "      <td>4.603841</td>\n",
       "    </tr>\n",
       "    <tr>\n",
       "      <th>4</th>\n",
       "      <td>57.0</td>\n",
       "      <td>26</td>\n",
       "      <td>144.4</td>\n",
       "      <td>350.1</td>\n",
       "      <td>49955</td>\n",
       "      <td>10321</td>\n",
       "      <td>12.5</td>\n",
       "      <td>0.000000</td>\n",
       "      <td>(48021.6, 51046.4]</td>\n",
       "      <td>48.3</td>\n",
       "      <td>...</td>\n",
       "      <td>43.9</td>\n",
       "      <td>35.1</td>\n",
       "      <td>44.0</td>\n",
       "      <td>22.7</td>\n",
       "      <td>94.104024</td>\n",
       "      <td>0.270192</td>\n",
       "      <td>0.665830</td>\n",
       "      <td>0.492135</td>\n",
       "      <td>54.027460</td>\n",
       "      <td>6.796657</td>\n",
       "    </tr>\n",
       "  </tbody>\n",
       "</table>\n",
       "<p>5 rows × 34 columns</p>\n",
       "</div>"
      ],
      "text/plain": [
       "   avgAnnCount  avgDeathsPerYear  TARGET_deathRate  incidenceRate  medIncome  \\\n",
       "0       1397.0               469             164.9          489.8      61898   \n",
       "1        173.0                70             161.3          411.6      48127   \n",
       "2        102.0                50             174.7          349.7      49348   \n",
       "3        427.0               202             194.8          430.4      44243   \n",
       "4         57.0                26             144.4          350.1      49955   \n",
       "\n",
       "   popEst2015  povertyPercent  studyPerCap           binnedInc  MedianAge  \\\n",
       "0      260131            11.2   499.748204   (61494.5, 125635]       39.3   \n",
       "1       43269            18.6    23.111234  (48021.6, 51046.4]       33.0   \n",
       "2       21026            14.6    47.560164  (48021.6, 51046.4]       45.0   \n",
       "3       75882            17.1   342.637253    (42724.4, 45201]       42.8   \n",
       "4       10321            12.5     0.000000  (48021.6, 51046.4]       48.3   \n",
       "\n",
       "   ...  PctPrivateCoverageAlone  PctEmpPrivCoverage PctPublicCoverage  \\\n",
       "0  ...                      NaN                41.6              32.9   \n",
       "1  ...                     53.8                43.6              31.1   \n",
       "2  ...                     43.5                34.9              42.1   \n",
       "3  ...                     40.3                35.0              45.3   \n",
       "4  ...                     43.9                35.1              44.0   \n",
       "\n",
       "   PctPublicCoverageAlone   PctWhite  PctBlack  PctAsian  PctOtherRace  \\\n",
       "0                    14.0  81.780529  2.594728  4.821857      1.843479   \n",
       "1                    15.3  89.228509  0.969102  2.246233      3.741352   \n",
       "2                    21.1  90.922190  0.739673  0.465898      2.747358   \n",
       "3                    25.0  91.744686  0.782626  1.161359      1.362643   \n",
       "4                    22.7  94.104024  0.270192  0.665830      0.492135   \n",
       "\n",
       "   PctMarriedHouseholds  BirthRate  \n",
       "0             52.856076   6.118831  \n",
       "1             45.372500   4.333096  \n",
       "2             54.444868   3.729488  \n",
       "3             51.021514   4.603841  \n",
       "4             54.027460   6.796657  \n",
       "\n",
       "[5 rows x 34 columns]"
      ]
     },
     "execution_count": 5,
     "metadata": {},
     "output_type": "execute_result"
    }
   ],
   "source": [
    "df.head()"
   ]
  },
  {
   "cell_type": "raw",
   "metadata": {},
   "source": [
    "TO GET THE INFORMATION ABOUT THE DATA THE SIZE,COLUMNS THEIR DATA TYPES USED INFO and shape COMMAND"
   ]
  },
  {
   "cell_type": "code",
   "execution_count": 6,
   "metadata": {},
   "outputs": [
    {
     "data": {
      "text/plain": [
       "(3047, 34)"
      ]
     },
     "execution_count": 6,
     "metadata": {},
     "output_type": "execute_result"
    }
   ],
   "source": [
    "df.shape"
   ]
  },
  {
   "cell_type": "markdown",
   "metadata": {},
   "source": [
    "FROM SHAPE IT CAN BE SEEN THAT THERE ARE TOTAL 3047 ROWS AND 34 COLUMNS"
   ]
  },
  {
   "cell_type": "code",
   "execution_count": 7,
   "metadata": {},
   "outputs": [
    {
     "name": "stdout",
     "output_type": "stream",
     "text": [
      "<class 'pandas.core.frame.DataFrame'>\n",
      "RangeIndex: 3047 entries, 0 to 3046\n",
      "Data columns (total 34 columns):\n",
      " #   Column                   Non-Null Count  Dtype  \n",
      "---  ------                   --------------  -----  \n",
      " 0   avgAnnCount              3047 non-null   float64\n",
      " 1   avgDeathsPerYear         3047 non-null   int64  \n",
      " 2   TARGET_deathRate         3047 non-null   float64\n",
      " 3   incidenceRate            3047 non-null   float64\n",
      " 4   medIncome                3047 non-null   int64  \n",
      " 5   popEst2015               3047 non-null   int64  \n",
      " 6   povertyPercent           3047 non-null   float64\n",
      " 7   studyPerCap              3047 non-null   float64\n",
      " 8   binnedInc                3047 non-null   object \n",
      " 9   MedianAge                3047 non-null   float64\n",
      " 10  MedianAgeMale            3047 non-null   float64\n",
      " 11  MedianAgeFemale          3047 non-null   float64\n",
      " 12  Geography                3047 non-null   object \n",
      " 13  AvgHouseholdSize         3047 non-null   float64\n",
      " 14  PercentMarried           3047 non-null   float64\n",
      " 15  PctNoHS18_24             3047 non-null   float64\n",
      " 16  PctHS18_24               3047 non-null   float64\n",
      " 17  PctSomeCol18_24          762 non-null    float64\n",
      " 18  PctBachDeg18_24          3047 non-null   float64\n",
      " 19  PctHS25_Over             3047 non-null   float64\n",
      " 20  PctBachDeg25_Over        3047 non-null   float64\n",
      " 21  PctEmployed16_Over       2895 non-null   float64\n",
      " 22  PctUnemployed16_Over     3047 non-null   float64\n",
      " 23  PctPrivateCoverage       3047 non-null   float64\n",
      " 24  PctPrivateCoverageAlone  2438 non-null   float64\n",
      " 25  PctEmpPrivCoverage       3047 non-null   float64\n",
      " 26  PctPublicCoverage        3047 non-null   float64\n",
      " 27  PctPublicCoverageAlone   3047 non-null   float64\n",
      " 28  PctWhite                 3047 non-null   float64\n",
      " 29  PctBlack                 3047 non-null   float64\n",
      " 30  PctAsian                 3047 non-null   float64\n",
      " 31  PctOtherRace             3047 non-null   float64\n",
      " 32  PctMarriedHouseholds     3047 non-null   float64\n",
      " 33  BirthRate                3047 non-null   float64\n",
      "dtypes: float64(29), int64(3), object(2)\n",
      "memory usage: 809.5+ KB\n"
     ]
    }
   ],
   "source": [
    "df.info()"
   ]
  },
  {
   "cell_type": "raw",
   "metadata": {},
   "source": [
    "FROM INFO COMMAND WE CAN SEE THE DATATYPES OF VARIABLES AND ALSO CAN SEE THE VARIIABLES \n",
    "WITH NULL VALUES FROM COUNT COLUMN IN INFO COMMAND"
   ]
  },
  {
   "cell_type": "code",
   "execution_count": 8,
   "metadata": {},
   "outputs": [
    {
     "data": {
      "text/plain": [
       "avgAnnCount                   0\n",
       "avgDeathsPerYear              0\n",
       "TARGET_deathRate              0\n",
       "incidenceRate                 0\n",
       "medIncome                     0\n",
       "popEst2015                    0\n",
       "povertyPercent                0\n",
       "studyPerCap                   0\n",
       "binnedInc                     0\n",
       "MedianAge                     0\n",
       "MedianAgeMale                 0\n",
       "MedianAgeFemale               0\n",
       "Geography                     0\n",
       "AvgHouseholdSize              0\n",
       "PercentMarried                0\n",
       "PctNoHS18_24                  0\n",
       "PctHS18_24                    0\n",
       "PctSomeCol18_24            2285\n",
       "PctBachDeg18_24               0\n",
       "PctHS25_Over                  0\n",
       "PctBachDeg25_Over             0\n",
       "PctEmployed16_Over          152\n",
       "PctUnemployed16_Over          0\n",
       "PctPrivateCoverage            0\n",
       "PctPrivateCoverageAlone     609\n",
       "PctEmpPrivCoverage            0\n",
       "PctPublicCoverage             0\n",
       "PctPublicCoverageAlone        0\n",
       "PctWhite                      0\n",
       "PctBlack                      0\n",
       "PctAsian                      0\n",
       "PctOtherRace                  0\n",
       "PctMarriedHouseholds          0\n",
       "BirthRate                     0\n",
       "dtype: int64"
      ]
     },
     "execution_count": 8,
     "metadata": {},
     "output_type": "execute_result"
    }
   ],
   "source": [
    "df.isnull().sum()"
   ]
  },
  {
   "cell_type": "raw",
   "metadata": {},
   "source": [
    "FROM HERE WE CAN SEE THAT THERE ARE THREE VARIABLES PctSomeCol18_24,PctEmployed16_OveR,PctPrivateCoverageAlone \n",
    "WITH NULL VALUES AND THE COLUMN PctSomeCol18_24 HAS MORE THAN 60% OF NULL VALUES\n",
    "FURTHER WE DO SOME ANALYSATION TO SEE THESE COLUMNS IMPACT ON STUDY VARIABLE TO DECIDE WHAT TO DO WITH THESE NULL VALUES"
   ]
  },
  {
   "cell_type": "markdown",
   "metadata": {},
   "source": [
    "### As we can see, our data will need some cleaning before it's ready to be put in a matrix. We will need to complete:\n",
    "\n",
    "#### Analyze the variables data type\n",
    "#### Remove/Impute Missing Data (if applies)\n",
    "#### Remove (if necessary) columns not needed"
   ]
  },
  {
   "cell_type": "code",
   "execution_count": 9,
   "metadata": {},
   "outputs": [
    {
     "name": "stdout",
     "output_type": "stream",
     "text": [
      "<class 'pandas.core.frame.DataFrame'>\n",
      "RangeIndex: 3047 entries, 0 to 3046\n",
      "Data columns (total 34 columns):\n",
      " #   Column                   Non-Null Count  Dtype  \n",
      "---  ------                   --------------  -----  \n",
      " 0   avgAnnCount              3047 non-null   float64\n",
      " 1   avgDeathsPerYear         3047 non-null   int64  \n",
      " 2   TARGET_deathRate         3047 non-null   float64\n",
      " 3   incidenceRate            3047 non-null   float64\n",
      " 4   medIncome                3047 non-null   int64  \n",
      " 5   popEst2015               3047 non-null   int64  \n",
      " 6   povertyPercent           3047 non-null   float64\n",
      " 7   studyPerCap              3047 non-null   float64\n",
      " 8   binnedInc                3047 non-null   object \n",
      " 9   MedianAge                3047 non-null   float64\n",
      " 10  MedianAgeMale            3047 non-null   float64\n",
      " 11  MedianAgeFemale          3047 non-null   float64\n",
      " 12  Geography                3047 non-null   object \n",
      " 13  AvgHouseholdSize         3047 non-null   float64\n",
      " 14  PercentMarried           3047 non-null   float64\n",
      " 15  PctNoHS18_24             3047 non-null   float64\n",
      " 16  PctHS18_24               3047 non-null   float64\n",
      " 17  PctSomeCol18_24          762 non-null    float64\n",
      " 18  PctBachDeg18_24          3047 non-null   float64\n",
      " 19  PctHS25_Over             3047 non-null   float64\n",
      " 20  PctBachDeg25_Over        3047 non-null   float64\n",
      " 21  PctEmployed16_Over       2895 non-null   float64\n",
      " 22  PctUnemployed16_Over     3047 non-null   float64\n",
      " 23  PctPrivateCoverage       3047 non-null   float64\n",
      " 24  PctPrivateCoverageAlone  2438 non-null   float64\n",
      " 25  PctEmpPrivCoverage       3047 non-null   float64\n",
      " 26  PctPublicCoverage        3047 non-null   float64\n",
      " 27  PctPublicCoverageAlone   3047 non-null   float64\n",
      " 28  PctWhite                 3047 non-null   float64\n",
      " 29  PctBlack                 3047 non-null   float64\n",
      " 30  PctAsian                 3047 non-null   float64\n",
      " 31  PctOtherRace             3047 non-null   float64\n",
      " 32  PctMarriedHouseholds     3047 non-null   float64\n",
      " 33  BirthRate                3047 non-null   float64\n",
      "dtypes: float64(29), int64(3), object(2)\n",
      "memory usage: 809.5+ KB\n"
     ]
    }
   ],
   "source": [
    "df.info()"
   ]
  },
  {
   "cell_type": "code",
   "execution_count": 10,
   "metadata": {},
   "outputs": [
    {
     "data": {
      "text/plain": [
       "(45201, 48021.6]      306\n",
       "[22640, 34218.1]      306\n",
       "(54545.6, 61494.5]    306\n",
       "(51046.4, 54545.6]    305\n",
       "(48021.6, 51046.4]    305\n",
       "(42724.4, 45201]      305\n",
       "(34218.1, 37413.8]    304\n",
       "(37413.8, 40362.7]    304\n",
       "(40362.7, 42724.4]    304\n",
       "(61494.5, 125635]     302\n",
       "Name: binnedInc, dtype: int64"
      ]
     },
     "execution_count": 10,
     "metadata": {},
     "output_type": "execute_result"
    }
   ],
   "source": [
    "df['binnedInc'].value_counts()"
   ]
  },
  {
   "cell_type": "raw",
   "metadata": {},
   "source": [
    "SINCE THESE ARE THE FLOAT VALUES BUT THE DATATYPE GIVEN IS OBJECT AND WE CANNOT USE OBJECT COLUMN IN MODEL\n",
    "AS IT IS IN STRING FORMAT SO I CHOOSE TO CONVERT IT INTO NUMERIC FORM"
   ]
  },
  {
   "cell_type": "code",
   "execution_count": 11,
   "metadata": {},
   "outputs": [
    {
     "data": {
      "text/plain": [
       "(45201, 48021.6]      306\n",
       "[22640, 34218.1]      306\n",
       "(54545.6, 61494.5]    306\n",
       "(51046.4, 54545.6]    305\n",
       "(48021.6, 51046.4]    305\n",
       "(42724.4, 45201]      305\n",
       "(34218.1, 37413.8]    304\n",
       "(37413.8, 40362.7]    304\n",
       "(40362.7, 42724.4]    304\n",
       "(61494.5, 125635]     302\n",
       "Name: binnedInc, dtype: int64"
      ]
     },
     "execution_count": 11,
     "metadata": {},
     "output_type": "execute_result"
    }
   ],
   "source": [
    "df['binnedInc'].value_counts()"
   ]
  },
  {
   "cell_type": "code",
   "execution_count": 12,
   "metadata": {},
   "outputs": [],
   "source": [
    "df['binnedInc']=df['binnedInc'].replace(['[22640, 34218.1]','(34218.1, 37413.8]','(37413.8, 40362.7]','(40362.7, 42724.4]',\n",
    "                                        '(42724.4, 45201]','(45201, 48021.6]','(48021.6, 51046.4]'],0)"
   ]
  },
  {
   "cell_type": "code",
   "execution_count": 13,
   "metadata": {},
   "outputs": [],
   "source": [
    "df['binnedInc']=df['binnedInc'].replace(['(51046.4, 54545.6]','(54545.6, 61494.5]','(61494.5, 125635]'],1)"
   ]
  },
  {
   "cell_type": "raw",
   "metadata": {},
   "source": [
    "\n",
    "IN THIS WE CONVERT THE OBJECT BY DIVIDING THESE VALUES IN TWO CATEGORIES WITH VALUES <=51046.4 AS 0 CATEGORY AND\n",
    "> 51046.4 AS 1 CATEGORY"
   ]
  },
  {
   "cell_type": "code",
   "execution_count": 14,
   "metadata": {},
   "outputs": [
    {
     "name": "stdout",
     "output_type": "stream",
     "text": [
      "<class 'pandas.core.frame.DataFrame'>\n",
      "RangeIndex: 3047 entries, 0 to 3046\n",
      "Data columns (total 34 columns):\n",
      " #   Column                   Non-Null Count  Dtype  \n",
      "---  ------                   --------------  -----  \n",
      " 0   avgAnnCount              3047 non-null   float64\n",
      " 1   avgDeathsPerYear         3047 non-null   int64  \n",
      " 2   TARGET_deathRate         3047 non-null   float64\n",
      " 3   incidenceRate            3047 non-null   float64\n",
      " 4   medIncome                3047 non-null   int64  \n",
      " 5   popEst2015               3047 non-null   int64  \n",
      " 6   povertyPercent           3047 non-null   float64\n",
      " 7   studyPerCap              3047 non-null   float64\n",
      " 8   binnedInc                3047 non-null   int64  \n",
      " 9   MedianAge                3047 non-null   float64\n",
      " 10  MedianAgeMale            3047 non-null   float64\n",
      " 11  MedianAgeFemale          3047 non-null   float64\n",
      " 12  Geography                3047 non-null   object \n",
      " 13  AvgHouseholdSize         3047 non-null   float64\n",
      " 14  PercentMarried           3047 non-null   float64\n",
      " 15  PctNoHS18_24             3047 non-null   float64\n",
      " 16  PctHS18_24               3047 non-null   float64\n",
      " 17  PctSomeCol18_24          762 non-null    float64\n",
      " 18  PctBachDeg18_24          3047 non-null   float64\n",
      " 19  PctHS25_Over             3047 non-null   float64\n",
      " 20  PctBachDeg25_Over        3047 non-null   float64\n",
      " 21  PctEmployed16_Over       2895 non-null   float64\n",
      " 22  PctUnemployed16_Over     3047 non-null   float64\n",
      " 23  PctPrivateCoverage       3047 non-null   float64\n",
      " 24  PctPrivateCoverageAlone  2438 non-null   float64\n",
      " 25  PctEmpPrivCoverage       3047 non-null   float64\n",
      " 26  PctPublicCoverage        3047 non-null   float64\n",
      " 27  PctPublicCoverageAlone   3047 non-null   float64\n",
      " 28  PctWhite                 3047 non-null   float64\n",
      " 29  PctBlack                 3047 non-null   float64\n",
      " 30  PctAsian                 3047 non-null   float64\n",
      " 31  PctOtherRace             3047 non-null   float64\n",
      " 32  PctMarriedHouseholds     3047 non-null   float64\n",
      " 33  BirthRate                3047 non-null   float64\n",
      "dtypes: float64(29), int64(4), object(1)\n",
      "memory usage: 809.5+ KB\n"
     ]
    }
   ],
   "source": [
    "df.info()"
   ]
  },
  {
   "cell_type": "code",
   "execution_count": 15,
   "metadata": {},
   "outputs": [
    {
     "data": {
      "text/plain": [
       "Harrison County, Kentucky        1\n",
       "Penobscot County, Maine          1\n",
       "Juab County, Utah                1\n",
       "Ochiltree County, Texas          1\n",
       "Richland County, North Dakota    1\n",
       "                                ..\n",
       "Hardin County, Tennessee         1\n",
       "Cuyahoga County, Ohio            1\n",
       "Fannin County, Texas             1\n",
       "Iberville Parish, Louisiana      1\n",
       "Marion County, Ohio              1\n",
       "Name: Geography, Length: 3047, dtype: int64"
      ]
     },
     "execution_count": 15,
     "metadata": {},
     "output_type": "execute_result"
    }
   ],
   "source": [
    "df['Geography'].value_counts()"
   ]
  },
  {
   "cell_type": "raw",
   "metadata": {},
   "source": [
    "SINCE IT HAS TOTAL 3047 CATEGORIES i.e DIFFERENT VALUE FOR EACH ENTRY \n",
    "SO IT DOESNOT HAS ITS IMACT ON MODEL AND THUS STUDY VARIABLE \n",
    "SO I CHOOSE TO DROP THIS VARIABLE INSPITE OF DOING ANY IMPUTATION"
   ]
  },
  {
   "cell_type": "code",
   "execution_count": 16,
   "metadata": {},
   "outputs": [],
   "source": [
    "df.drop(columns=['Geography'],inplace=True)"
   ]
  },
  {
   "cell_type": "code",
   "execution_count": 17,
   "metadata": {},
   "outputs": [
    {
     "data": {
      "text/plain": [
       "(3047, 33)"
      ]
     },
     "execution_count": 17,
     "metadata": {},
     "output_type": "execute_result"
    }
   ],
   "source": [
    "df.shape"
   ]
  },
  {
   "cell_type": "code",
   "execution_count": 18,
   "metadata": {},
   "outputs": [
    {
     "name": "stdout",
     "output_type": "stream",
     "text": [
      "<class 'pandas.core.frame.DataFrame'>\n",
      "RangeIndex: 3047 entries, 0 to 3046\n",
      "Data columns (total 33 columns):\n",
      " #   Column                   Non-Null Count  Dtype  \n",
      "---  ------                   --------------  -----  \n",
      " 0   avgAnnCount              3047 non-null   float64\n",
      " 1   avgDeathsPerYear         3047 non-null   int64  \n",
      " 2   TARGET_deathRate         3047 non-null   float64\n",
      " 3   incidenceRate            3047 non-null   float64\n",
      " 4   medIncome                3047 non-null   int64  \n",
      " 5   popEst2015               3047 non-null   int64  \n",
      " 6   povertyPercent           3047 non-null   float64\n",
      " 7   studyPerCap              3047 non-null   float64\n",
      " 8   binnedInc                3047 non-null   int64  \n",
      " 9   MedianAge                3047 non-null   float64\n",
      " 10  MedianAgeMale            3047 non-null   float64\n",
      " 11  MedianAgeFemale          3047 non-null   float64\n",
      " 12  AvgHouseholdSize         3047 non-null   float64\n",
      " 13  PercentMarried           3047 non-null   float64\n",
      " 14  PctNoHS18_24             3047 non-null   float64\n",
      " 15  PctHS18_24               3047 non-null   float64\n",
      " 16  PctSomeCol18_24          762 non-null    float64\n",
      " 17  PctBachDeg18_24          3047 non-null   float64\n",
      " 18  PctHS25_Over             3047 non-null   float64\n",
      " 19  PctBachDeg25_Over        3047 non-null   float64\n",
      " 20  PctEmployed16_Over       2895 non-null   float64\n",
      " 21  PctUnemployed16_Over     3047 non-null   float64\n",
      " 22  PctPrivateCoverage       3047 non-null   float64\n",
      " 23  PctPrivateCoverageAlone  2438 non-null   float64\n",
      " 24  PctEmpPrivCoverage       3047 non-null   float64\n",
      " 25  PctPublicCoverage        3047 non-null   float64\n",
      " 26  PctPublicCoverageAlone   3047 non-null   float64\n",
      " 27  PctWhite                 3047 non-null   float64\n",
      " 28  PctBlack                 3047 non-null   float64\n",
      " 29  PctAsian                 3047 non-null   float64\n",
      " 30  PctOtherRace             3047 non-null   float64\n",
      " 31  PctMarriedHouseholds     3047 non-null   float64\n",
      " 32  BirthRate                3047 non-null   float64\n",
      "dtypes: float64(29), int64(4)\n",
      "memory usage: 785.7 KB\n"
     ]
    }
   ],
   "source": [
    "df.info()"
   ]
  },
  {
   "cell_type": "code",
   "execution_count": 19,
   "metadata": {},
   "outputs": [
    {
     "data": {
      "text/plain": [
       "74.9917952084017"
      ]
     },
     "execution_count": 19,
     "metadata": {},
     "output_type": "execute_result"
    }
   ],
   "source": [
    "(df['PctSomeCol18_24'].isnull().sum()/len(df['PctSomeCol18_24']))*100"
   ]
  },
  {
   "cell_type": "raw",
   "metadata": {},
   "source": [
    "IT HAS MORE THAN 70% OF MISSING VALUES IN THIS DATA\n",
    "SO INSPITE OF PUTTING SOME IRRELEVANT DATA ITS BETTER NOT TO CONSIDER THIS VARIABLE FOR \n",
    "TRAINING THE MODEL SO I CHOOSE TO DROP THIS VARIABLE"
   ]
  },
  {
   "cell_type": "code",
   "execution_count": 20,
   "metadata": {},
   "outputs": [],
   "source": [
    "df.drop(columns=['PctSomeCol18_24'],inplace=True)"
   ]
  },
  {
   "cell_type": "code",
   "execution_count": 21,
   "metadata": {},
   "outputs": [
    {
     "data": {
      "text/plain": [
       "4.98851329176239"
      ]
     },
     "execution_count": 21,
     "metadata": {},
     "output_type": "execute_result"
    }
   ],
   "source": [
    "(df['PctEmployed16_Over'].isnull().sum()/len(df['PctEmployed16_Over']))*100"
   ]
  },
  {
   "cell_type": "raw",
   "metadata": {},
   "source": [
    "SINCE IT HAS ONL 5% OF MISING VALUES SO WE CAN IMPUTE SOME DATA BASED ON SOME ANALYSIS \n"
   ]
  },
  {
   "cell_type": "code",
   "execution_count": 22,
   "metadata": {},
   "outputs": [
    {
     "data": {
      "text/plain": [
       "19.986872333442733"
      ]
     },
     "execution_count": 22,
     "metadata": {},
     "output_type": "execute_result"
    }
   ],
   "source": [
    "(df['PctPrivateCoverageAlone'].isnull().sum()/len(df['PctPrivateCoverageAlone']))*100"
   ]
  },
  {
   "cell_type": "raw",
   "metadata": {},
   "source": [
    "IN THIS VARIABLE ABOUT 20% OF DATA IS MISSING SO FIRST \n",
    "WE ANALYSE IT TO DECIDE WHETHER TO IMPUTE SOME HYPOTHETICAL VALUE OR TO \n",
    "DROP THIS VARIABLE"
   ]
  },
  {
   "cell_type": "code",
   "execution_count": 23,
   "metadata": {},
   "outputs": [
    {
     "data": {
      "text/plain": [
       "48.7"
      ]
     },
     "execution_count": 23,
     "metadata": {},
     "output_type": "execute_result"
    }
   ],
   "source": [
    "df['PctPrivateCoverageAlone'].median()"
   ]
  },
  {
   "cell_type": "code",
   "execution_count": 24,
   "metadata": {},
   "outputs": [
    {
     "data": {
      "text/plain": [
       "54.5"
      ]
     },
     "execution_count": 24,
     "metadata": {},
     "output_type": "execute_result"
    }
   ],
   "source": [
    "df['PctEmployed16_Over'].median()"
   ]
  },
  {
   "cell_type": "code",
   "execution_count": 25,
   "metadata": {},
   "outputs": [],
   "source": [
    "df['PctEmployed16_Over'] = np.where(df['PctEmployed16_Over'].isnull(),54.5,df['PctEmployed16_Over'])"
   ]
  },
  {
   "cell_type": "code",
   "execution_count": 26,
   "metadata": {},
   "outputs": [],
   "source": [
    "df['PctPrivateCoverageAlone'] = np.where(df['PctPrivateCoverageAlone'].isnull(),48.7,df['PctPrivateCoverageAlone'])"
   ]
  },
  {
   "cell_type": "code",
   "execution_count": 27,
   "metadata": {},
   "outputs": [
    {
     "data": {
      "text/plain": [
       "avgAnnCount                0\n",
       "avgDeathsPerYear           0\n",
       "TARGET_deathRate           0\n",
       "incidenceRate              0\n",
       "medIncome                  0\n",
       "popEst2015                 0\n",
       "povertyPercent             0\n",
       "studyPerCap                0\n",
       "binnedInc                  0\n",
       "MedianAge                  0\n",
       "MedianAgeMale              0\n",
       "MedianAgeFemale            0\n",
       "AvgHouseholdSize           0\n",
       "PercentMarried             0\n",
       "PctNoHS18_24               0\n",
       "PctHS18_24                 0\n",
       "PctBachDeg18_24            0\n",
       "PctHS25_Over               0\n",
       "PctBachDeg25_Over          0\n",
       "PctEmployed16_Over         0\n",
       "PctUnemployed16_Over       0\n",
       "PctPrivateCoverage         0\n",
       "PctPrivateCoverageAlone    0\n",
       "PctEmpPrivCoverage         0\n",
       "PctPublicCoverage          0\n",
       "PctPublicCoverageAlone     0\n",
       "PctWhite                   0\n",
       "PctBlack                   0\n",
       "PctAsian                   0\n",
       "PctOtherRace               0\n",
       "PctMarriedHouseholds       0\n",
       "BirthRate                  0\n",
       "dtype: int64"
      ]
     },
     "execution_count": 27,
     "metadata": {},
     "output_type": "execute_result"
    }
   ],
   "source": [
    "df.isnull().sum()"
   ]
  },
  {
   "cell_type": "raw",
   "metadata": {},
   "source": [
    "NOW ALL THE MISSING VALUES ARE TREATED \n",
    "HENCE WE CAN MOVE FORWARD\n",
    "NEXT STEP IS TO CHECK THE OUTLIERS"
   ]
  },
  {
   "cell_type": "code",
   "execution_count": 28,
   "metadata": {},
   "outputs": [],
   "source": [
    "basic_summ=df.describe(percentiles=[0.01,.05,.025,.50,.75,.90,.95,.96,.97,.98,.99]).T"
   ]
  },
  {
   "cell_type": "code",
   "execution_count": 29,
   "metadata": {},
   "outputs": [
    {
     "data": {
      "text/html": [
       "<div>\n",
       "<style scoped>\n",
       "    .dataframe tbody tr th:only-of-type {\n",
       "        vertical-align: middle;\n",
       "    }\n",
       "\n",
       "    .dataframe tbody tr th {\n",
       "        vertical-align: top;\n",
       "    }\n",
       "\n",
       "    .dataframe thead th {\n",
       "        text-align: right;\n",
       "    }\n",
       "</style>\n",
       "<table border=\"1\" class=\"dataframe\">\n",
       "  <thead>\n",
       "    <tr style=\"text-align: right;\">\n",
       "      <th></th>\n",
       "      <th>count</th>\n",
       "      <th>mean</th>\n",
       "      <th>std</th>\n",
       "      <th>min</th>\n",
       "      <th>1%</th>\n",
       "      <th>2.5%</th>\n",
       "      <th>5%</th>\n",
       "      <th>50%</th>\n",
       "      <th>75%</th>\n",
       "      <th>90%</th>\n",
       "      <th>95%</th>\n",
       "      <th>96%</th>\n",
       "      <th>97%</th>\n",
       "      <th>98%</th>\n",
       "      <th>99%</th>\n",
       "      <th>max</th>\n",
       "    </tr>\n",
       "  </thead>\n",
       "  <tbody>\n",
       "    <tr>\n",
       "      <th>avgAnnCount</th>\n",
       "      <td>3047.0</td>\n",
       "      <td>606.338544</td>\n",
       "      <td>1416.356223</td>\n",
       "      <td>6.000000</td>\n",
       "      <td>11.000000</td>\n",
       "      <td>16.000000</td>\n",
       "      <td>23.000000</td>\n",
       "      <td>171.000000</td>\n",
       "      <td>518.000000</td>\n",
       "      <td>1962.667684</td>\n",
       "      <td>1972.000305</td>\n",
       "      <td>2469.720000</td>\n",
       "      <td>2956.920000</td>\n",
       "      <td>3908.080000</td>\n",
       "      <td>5.932920e+03</td>\n",
       "      <td>3.815000e+04</td>\n",
       "    </tr>\n",
       "    <tr>\n",
       "      <th>avgDeathsPerYear</th>\n",
       "      <td>3047.0</td>\n",
       "      <td>185.965868</td>\n",
       "      <td>504.134286</td>\n",
       "      <td>3.000000</td>\n",
       "      <td>4.000000</td>\n",
       "      <td>6.000000</td>\n",
       "      <td>9.000000</td>\n",
       "      <td>61.000000</td>\n",
       "      <td>149.000000</td>\n",
       "      <td>378.400000</td>\n",
       "      <td>749.400000</td>\n",
       "      <td>903.960000</td>\n",
       "      <td>1123.340000</td>\n",
       "      <td>1419.880000</td>\n",
       "      <td>2.169660e+03</td>\n",
       "      <td>1.401000e+04</td>\n",
       "    </tr>\n",
       "    <tr>\n",
       "      <th>TARGET_deathRate</th>\n",
       "      <td>3047.0</td>\n",
       "      <td>178.664063</td>\n",
       "      <td>27.751511</td>\n",
       "      <td>59.700000</td>\n",
       "      <td>114.246000</td>\n",
       "      <td>126.000000</td>\n",
       "      <td>134.130000</td>\n",
       "      <td>178.100000</td>\n",
       "      <td>195.200000</td>\n",
       "      <td>213.340000</td>\n",
       "      <td>224.370000</td>\n",
       "      <td>228.016000</td>\n",
       "      <td>232.224000</td>\n",
       "      <td>239.824000</td>\n",
       "      <td>2.543000e+02</td>\n",
       "      <td>3.628000e+02</td>\n",
       "    </tr>\n",
       "    <tr>\n",
       "      <th>incidenceRate</th>\n",
       "      <td>3047.0</td>\n",
       "      <td>448.268586</td>\n",
       "      <td>54.560733</td>\n",
       "      <td>201.300000</td>\n",
       "      <td>297.614000</td>\n",
       "      <td>331.130000</td>\n",
       "      <td>355.130000</td>\n",
       "      <td>453.549422</td>\n",
       "      <td>480.850000</td>\n",
       "      <td>507.340000</td>\n",
       "      <td>525.000000</td>\n",
       "      <td>529.016000</td>\n",
       "      <td>534.062000</td>\n",
       "      <td>542.212000</td>\n",
       "      <td>5.616700e+02</td>\n",
       "      <td>1.206900e+03</td>\n",
       "    </tr>\n",
       "    <tr>\n",
       "      <th>medIncome</th>\n",
       "      <td>3047.0</td>\n",
       "      <td>47063.281917</td>\n",
       "      <td>12040.090836</td>\n",
       "      <td>22640.000000</td>\n",
       "      <td>27438.880000</td>\n",
       "      <td>29821.150000</td>\n",
       "      <td>31837.700000</td>\n",
       "      <td>45207.000000</td>\n",
       "      <td>52492.000000</td>\n",
       "      <td>61322.600000</td>\n",
       "      <td>69964.400000</td>\n",
       "      <td>72699.840000</td>\n",
       "      <td>76009.700000</td>\n",
       "      <td>80491.160000</td>\n",
       "      <td>8.698218e+04</td>\n",
       "      <td>1.256350e+05</td>\n",
       "    </tr>\n",
       "    <tr>\n",
       "      <th>popEst2015</th>\n",
       "      <td>3047.0</td>\n",
       "      <td>102637.370528</td>\n",
       "      <td>329059.220504</td>\n",
       "      <td>827.000000</td>\n",
       "      <td>1905.040000</td>\n",
       "      <td>2478.050000</td>\n",
       "      <td>3666.200000</td>\n",
       "      <td>26643.000000</td>\n",
       "      <td>68671.000000</td>\n",
       "      <td>207791.200000</td>\n",
       "      <td>436220.100000</td>\n",
       "      <td>524795.640000</td>\n",
       "      <td>674697.300000</td>\n",
       "      <td>851250.720000</td>\n",
       "      <td>1.236855e+06</td>\n",
       "      <td>1.017029e+07</td>\n",
       "    </tr>\n",
       "    <tr>\n",
       "      <th>povertyPercent</th>\n",
       "      <td>3047.0</td>\n",
       "      <td>16.878175</td>\n",
       "      <td>6.409087</td>\n",
       "      <td>3.200000</td>\n",
       "      <td>6.000000</td>\n",
       "      <td>7.200000</td>\n",
       "      <td>8.300000</td>\n",
       "      <td>15.900000</td>\n",
       "      <td>20.400000</td>\n",
       "      <td>25.300000</td>\n",
       "      <td>28.700000</td>\n",
       "      <td>29.900000</td>\n",
       "      <td>31.400000</td>\n",
       "      <td>33.408000</td>\n",
       "      <td>3.601600e+01</td>\n",
       "      <td>4.740000e+01</td>\n",
       "    </tr>\n",
       "    <tr>\n",
       "      <th>studyPerCap</th>\n",
       "      <td>3047.0</td>\n",
       "      <td>155.399415</td>\n",
       "      <td>529.628366</td>\n",
       "      <td>0.000000</td>\n",
       "      <td>0.000000</td>\n",
       "      <td>0.000000</td>\n",
       "      <td>0.000000</td>\n",
       "      <td>0.000000</td>\n",
       "      <td>83.650776</td>\n",
       "      <td>412.808075</td>\n",
       "      <td>747.578565</td>\n",
       "      <td>882.024280</td>\n",
       "      <td>1151.388695</td>\n",
       "      <td>1523.137415</td>\n",
       "      <td>2.477719e+03</td>\n",
       "      <td>9.762309e+03</td>\n",
       "    </tr>\n",
       "    <tr>\n",
       "      <th>binnedInc</th>\n",
       "      <td>3047.0</td>\n",
       "      <td>0.299639</td>\n",
       "      <td>0.458175</td>\n",
       "      <td>0.000000</td>\n",
       "      <td>0.000000</td>\n",
       "      <td>0.000000</td>\n",
       "      <td>0.000000</td>\n",
       "      <td>0.000000</td>\n",
       "      <td>1.000000</td>\n",
       "      <td>1.000000</td>\n",
       "      <td>1.000000</td>\n",
       "      <td>1.000000</td>\n",
       "      <td>1.000000</td>\n",
       "      <td>1.000000</td>\n",
       "      <td>1.000000e+00</td>\n",
       "      <td>1.000000e+00</td>\n",
       "    </tr>\n",
       "    <tr>\n",
       "      <th>MedianAge</th>\n",
       "      <td>3047.0</td>\n",
       "      <td>45.272333</td>\n",
       "      <td>45.304480</td>\n",
       "      <td>22.300000</td>\n",
       "      <td>27.900000</td>\n",
       "      <td>30.115000</td>\n",
       "      <td>31.930000</td>\n",
       "      <td>41.000000</td>\n",
       "      <td>44.000000</td>\n",
       "      <td>47.700000</td>\n",
       "      <td>50.170000</td>\n",
       "      <td>50.900000</td>\n",
       "      <td>51.800000</td>\n",
       "      <td>53.208000</td>\n",
       "      <td>6.240200e+01</td>\n",
       "      <td>6.240000e+02</td>\n",
       "    </tr>\n",
       "    <tr>\n",
       "      <th>MedianAgeMale</th>\n",
       "      <td>3047.0</td>\n",
       "      <td>39.570725</td>\n",
       "      <td>5.226017</td>\n",
       "      <td>22.400000</td>\n",
       "      <td>26.600000</td>\n",
       "      <td>29.015000</td>\n",
       "      <td>31.000000</td>\n",
       "      <td>39.600000</td>\n",
       "      <td>42.500000</td>\n",
       "      <td>46.100000</td>\n",
       "      <td>48.600000</td>\n",
       "      <td>49.500000</td>\n",
       "      <td>50.400000</td>\n",
       "      <td>51.300000</td>\n",
       "      <td>5.285400e+01</td>\n",
       "      <td>6.470000e+01</td>\n",
       "    </tr>\n",
       "    <tr>\n",
       "      <th>MedianAgeFemale</th>\n",
       "      <td>3047.0</td>\n",
       "      <td>42.145323</td>\n",
       "      <td>5.292849</td>\n",
       "      <td>22.300000</td>\n",
       "      <td>28.646000</td>\n",
       "      <td>30.900000</td>\n",
       "      <td>32.900000</td>\n",
       "      <td>42.400000</td>\n",
       "      <td>45.300000</td>\n",
       "      <td>48.600000</td>\n",
       "      <td>50.600000</td>\n",
       "      <td>51.300000</td>\n",
       "      <td>52.062000</td>\n",
       "      <td>52.800000</td>\n",
       "      <td>5.445400e+01</td>\n",
       "      <td>6.570000e+01</td>\n",
       "    </tr>\n",
       "    <tr>\n",
       "      <th>AvgHouseholdSize</th>\n",
       "      <td>3047.0</td>\n",
       "      <td>2.479662</td>\n",
       "      <td>0.429174</td>\n",
       "      <td>0.022100</td>\n",
       "      <td>0.024900</td>\n",
       "      <td>2.040000</td>\n",
       "      <td>2.140000</td>\n",
       "      <td>2.500000</td>\n",
       "      <td>2.630000</td>\n",
       "      <td>2.820000</td>\n",
       "      <td>2.980000</td>\n",
       "      <td>3.031600</td>\n",
       "      <td>3.080000</td>\n",
       "      <td>3.210000</td>\n",
       "      <td>3.360000e+00</td>\n",
       "      <td>3.970000e+00</td>\n",
       "    </tr>\n",
       "    <tr>\n",
       "      <th>PercentMarried</th>\n",
       "      <td>3047.0</td>\n",
       "      <td>51.773679</td>\n",
       "      <td>6.896928</td>\n",
       "      <td>23.100000</td>\n",
       "      <td>30.292000</td>\n",
       "      <td>35.615000</td>\n",
       "      <td>39.300000</td>\n",
       "      <td>52.400000</td>\n",
       "      <td>56.400000</td>\n",
       "      <td>59.940000</td>\n",
       "      <td>61.900000</td>\n",
       "      <td>62.316000</td>\n",
       "      <td>62.962000</td>\n",
       "      <td>64.100000</td>\n",
       "      <td>6.545400e+01</td>\n",
       "      <td>7.250000e+01</td>\n",
       "    </tr>\n",
       "    <tr>\n",
       "      <th>PctNoHS18_24</th>\n",
       "      <td>3047.0</td>\n",
       "      <td>18.224450</td>\n",
       "      <td>8.093064</td>\n",
       "      <td>0.000000</td>\n",
       "      <td>3.500000</td>\n",
       "      <td>5.100000</td>\n",
       "      <td>6.900000</td>\n",
       "      <td>17.100000</td>\n",
       "      <td>22.700000</td>\n",
       "      <td>28.600000</td>\n",
       "      <td>32.870000</td>\n",
       "      <td>34.200000</td>\n",
       "      <td>35.800000</td>\n",
       "      <td>38.216000</td>\n",
       "      <td>4.200000e+01</td>\n",
       "      <td>6.410000e+01</td>\n",
       "    </tr>\n",
       "    <tr>\n",
       "      <th>PctHS18_24</th>\n",
       "      <td>3047.0</td>\n",
       "      <td>35.002068</td>\n",
       "      <td>9.069722</td>\n",
       "      <td>0.000000</td>\n",
       "      <td>13.400000</td>\n",
       "      <td>16.915000</td>\n",
       "      <td>20.400000</td>\n",
       "      <td>34.700000</td>\n",
       "      <td>40.700000</td>\n",
       "      <td>46.100000</td>\n",
       "      <td>50.600000</td>\n",
       "      <td>51.700000</td>\n",
       "      <td>52.962000</td>\n",
       "      <td>55.108000</td>\n",
       "      <td>5.930800e+01</td>\n",
       "      <td>7.250000e+01</td>\n",
       "    </tr>\n",
       "    <tr>\n",
       "      <th>PctBachDeg18_24</th>\n",
       "      <td>3047.0</td>\n",
       "      <td>6.158287</td>\n",
       "      <td>4.529059</td>\n",
       "      <td>0.000000</td>\n",
       "      <td>0.000000</td>\n",
       "      <td>0.000000</td>\n",
       "      <td>0.500000</td>\n",
       "      <td>5.400000</td>\n",
       "      <td>8.200000</td>\n",
       "      <td>11.700000</td>\n",
       "      <td>14.300000</td>\n",
       "      <td>14.916000</td>\n",
       "      <td>15.900000</td>\n",
       "      <td>17.608000</td>\n",
       "      <td>2.080000e+01</td>\n",
       "      <td>5.180000e+01</td>\n",
       "    </tr>\n",
       "    <tr>\n",
       "      <th>PctHS25_Over</th>\n",
       "      <td>3047.0</td>\n",
       "      <td>34.804660</td>\n",
       "      <td>7.034924</td>\n",
       "      <td>7.500000</td>\n",
       "      <td>16.800000</td>\n",
       "      <td>19.715000</td>\n",
       "      <td>22.230000</td>\n",
       "      <td>35.300000</td>\n",
       "      <td>39.650000</td>\n",
       "      <td>43.400000</td>\n",
       "      <td>45.400000</td>\n",
       "      <td>46.216000</td>\n",
       "      <td>47.362000</td>\n",
       "      <td>48.600000</td>\n",
       "      <td>4.970000e+01</td>\n",
       "      <td>5.480000e+01</td>\n",
       "    </tr>\n",
       "    <tr>\n",
       "      <th>PctBachDeg25_Over</th>\n",
       "      <td>3047.0</td>\n",
       "      <td>13.282015</td>\n",
       "      <td>5.394756</td>\n",
       "      <td>2.500000</td>\n",
       "      <td>4.746000</td>\n",
       "      <td>5.600000</td>\n",
       "      <td>6.400000</td>\n",
       "      <td>12.300000</td>\n",
       "      <td>16.100000</td>\n",
       "      <td>20.400000</td>\n",
       "      <td>23.470000</td>\n",
       "      <td>24.400000</td>\n",
       "      <td>25.762000</td>\n",
       "      <td>27.300000</td>\n",
       "      <td>3.030000e+01</td>\n",
       "      <td>4.220000e+01</td>\n",
       "    </tr>\n",
       "    <tr>\n",
       "      <th>PctEmployed16_Over</th>\n",
       "      <td>3047.0</td>\n",
       "      <td>54.169970</td>\n",
       "      <td>8.105295</td>\n",
       "      <td>17.600000</td>\n",
       "      <td>32.346000</td>\n",
       "      <td>37.130000</td>\n",
       "      <td>40.230000</td>\n",
       "      <td>54.500000</td>\n",
       "      <td>60.000000</td>\n",
       "      <td>64.200000</td>\n",
       "      <td>66.270000</td>\n",
       "      <td>67.016000</td>\n",
       "      <td>67.900000</td>\n",
       "      <td>68.908000</td>\n",
       "      <td>7.060000e+01</td>\n",
       "      <td>8.010000e+01</td>\n",
       "    </tr>\n",
       "    <tr>\n",
       "      <th>PctUnemployed16_Over</th>\n",
       "      <td>3047.0</td>\n",
       "      <td>7.852412</td>\n",
       "      <td>3.452371</td>\n",
       "      <td>0.400000</td>\n",
       "      <td>1.200000</td>\n",
       "      <td>1.915000</td>\n",
       "      <td>2.800000</td>\n",
       "      <td>7.600000</td>\n",
       "      <td>9.700000</td>\n",
       "      <td>12.200000</td>\n",
       "      <td>13.800000</td>\n",
       "      <td>14.300000</td>\n",
       "      <td>15.000000</td>\n",
       "      <td>16.300000</td>\n",
       "      <td>1.870000e+01</td>\n",
       "      <td>2.940000e+01</td>\n",
       "    </tr>\n",
       "    <tr>\n",
       "      <th>PctPrivateCoverage</th>\n",
       "      <td>3047.0</td>\n",
       "      <td>64.354939</td>\n",
       "      <td>10.647057</td>\n",
       "      <td>22.300000</td>\n",
       "      <td>36.138000</td>\n",
       "      <td>41.700000</td>\n",
       "      <td>46.400000</td>\n",
       "      <td>65.100000</td>\n",
       "      <td>72.100000</td>\n",
       "      <td>77.600000</td>\n",
       "      <td>80.570000</td>\n",
       "      <td>81.216000</td>\n",
       "      <td>82.000000</td>\n",
       "      <td>83.300000</td>\n",
       "      <td>8.455400e+01</td>\n",
       "      <td>9.230000e+01</td>\n",
       "    </tr>\n",
       "    <tr>\n",
       "      <th>PctPrivateCoverageAlone</th>\n",
       "      <td>3047.0</td>\n",
       "      <td>48.502987</td>\n",
       "      <td>9.019423</td>\n",
       "      <td>15.700000</td>\n",
       "      <td>26.600000</td>\n",
       "      <td>30.100000</td>\n",
       "      <td>33.200000</td>\n",
       "      <td>48.700000</td>\n",
       "      <td>53.800000</td>\n",
       "      <td>60.400000</td>\n",
       "      <td>64.000000</td>\n",
       "      <td>65.016000</td>\n",
       "      <td>66.200000</td>\n",
       "      <td>67.500000</td>\n",
       "      <td>6.915400e+01</td>\n",
       "      <td>7.890000e+01</td>\n",
       "    </tr>\n",
       "    <tr>\n",
       "      <th>PctEmpPrivCoverage</th>\n",
       "      <td>3047.0</td>\n",
       "      <td>41.196324</td>\n",
       "      <td>9.447687</td>\n",
       "      <td>13.500000</td>\n",
       "      <td>20.600000</td>\n",
       "      <td>23.715000</td>\n",
       "      <td>26.000000</td>\n",
       "      <td>41.100000</td>\n",
       "      <td>47.700000</td>\n",
       "      <td>53.740000</td>\n",
       "      <td>56.800000</td>\n",
       "      <td>57.616000</td>\n",
       "      <td>58.900000</td>\n",
       "      <td>60.708000</td>\n",
       "      <td>6.315400e+01</td>\n",
       "      <td>7.070000e+01</td>\n",
       "    </tr>\n",
       "    <tr>\n",
       "      <th>PctPublicCoverage</th>\n",
       "      <td>3047.0</td>\n",
       "      <td>36.252642</td>\n",
       "      <td>7.841741</td>\n",
       "      <td>11.200000</td>\n",
       "      <td>18.546000</td>\n",
       "      <td>20.800000</td>\n",
       "      <td>23.000000</td>\n",
       "      <td>36.300000</td>\n",
       "      <td>41.550000</td>\n",
       "      <td>46.200000</td>\n",
       "      <td>49.000000</td>\n",
       "      <td>50.300000</td>\n",
       "      <td>51.162000</td>\n",
       "      <td>52.300000</td>\n",
       "      <td>5.390800e+01</td>\n",
       "      <td>6.510000e+01</td>\n",
       "    </tr>\n",
       "    <tr>\n",
       "      <th>PctPublicCoverageAlone</th>\n",
       "      <td>3047.0</td>\n",
       "      <td>19.240072</td>\n",
       "      <td>6.113041</td>\n",
       "      <td>2.600000</td>\n",
       "      <td>7.400000</td>\n",
       "      <td>8.715000</td>\n",
       "      <td>10.000000</td>\n",
       "      <td>18.800000</td>\n",
       "      <td>23.100000</td>\n",
       "      <td>27.000000</td>\n",
       "      <td>29.900000</td>\n",
       "      <td>30.800000</td>\n",
       "      <td>32.062000</td>\n",
       "      <td>33.216000</td>\n",
       "      <td>3.605400e+01</td>\n",
       "      <td>4.660000e+01</td>\n",
       "    </tr>\n",
       "    <tr>\n",
       "      <th>PctWhite</th>\n",
       "      <td>3047.0</td>\n",
       "      <td>83.645286</td>\n",
       "      <td>16.380025</td>\n",
       "      <td>10.199155</td>\n",
       "      <td>26.180228</td>\n",
       "      <td>38.503148</td>\n",
       "      <td>47.960618</td>\n",
       "      <td>90.059774</td>\n",
       "      <td>95.451693</td>\n",
       "      <td>97.200572</td>\n",
       "      <td>97.767008</td>\n",
       "      <td>97.927974</td>\n",
       "      <td>98.081208</td>\n",
       "      <td>98.280727</td>\n",
       "      <td>9.860539e+01</td>\n",
       "      <td>1.000000e+02</td>\n",
       "    </tr>\n",
       "    <tr>\n",
       "      <th>PctBlack</th>\n",
       "      <td>3047.0</td>\n",
       "      <td>9.107978</td>\n",
       "      <td>14.534538</td>\n",
       "      <td>0.000000</td>\n",
       "      <td>0.000000</td>\n",
       "      <td>0.018508</td>\n",
       "      <td>0.100679</td>\n",
       "      <td>2.247576</td>\n",
       "      <td>10.509732</td>\n",
       "      <td>30.371540</td>\n",
       "      <td>42.170255</td>\n",
       "      <td>46.374443</td>\n",
       "      <td>50.262530</td>\n",
       "      <td>56.416330</td>\n",
       "      <td>6.446073e+01</td>\n",
       "      <td>8.594780e+01</td>\n",
       "    </tr>\n",
       "    <tr>\n",
       "      <th>PctAsian</th>\n",
       "      <td>3047.0</td>\n",
       "      <td>1.253965</td>\n",
       "      <td>2.610276</td>\n",
       "      <td>0.000000</td>\n",
       "      <td>0.000000</td>\n",
       "      <td>0.000000</td>\n",
       "      <td>0.000000</td>\n",
       "      <td>0.549812</td>\n",
       "      <td>1.221037</td>\n",
       "      <td>2.812328</td>\n",
       "      <td>4.471892</td>\n",
       "      <td>5.286111</td>\n",
       "      <td>6.078633</td>\n",
       "      <td>7.548461</td>\n",
       "      <td>1.157279e+01</td>\n",
       "      <td>4.261942e+01</td>\n",
       "    </tr>\n",
       "    <tr>\n",
       "      <th>PctOtherRace</th>\n",
       "      <td>3047.0</td>\n",
       "      <td>1.983523</td>\n",
       "      <td>3.517710</td>\n",
       "      <td>0.000000</td>\n",
       "      <td>0.000000</td>\n",
       "      <td>0.000000</td>\n",
       "      <td>0.014080</td>\n",
       "      <td>0.826185</td>\n",
       "      <td>2.177960</td>\n",
       "      <td>4.843935</td>\n",
       "      <td>7.858399</td>\n",
       "      <td>8.873476</td>\n",
       "      <td>9.922950</td>\n",
       "      <td>12.221588</td>\n",
       "      <td>1.749924e+01</td>\n",
       "      <td>4.193025e+01</td>\n",
       "    </tr>\n",
       "    <tr>\n",
       "      <th>PctMarriedHouseholds</th>\n",
       "      <td>3047.0</td>\n",
       "      <td>51.243872</td>\n",
       "      <td>6.572814</td>\n",
       "      <td>22.992490</td>\n",
       "      <td>31.653827</td>\n",
       "      <td>36.359620</td>\n",
       "      <td>39.730604</td>\n",
       "      <td>51.669941</td>\n",
       "      <td>55.395132</td>\n",
       "      <td>58.666986</td>\n",
       "      <td>60.994728</td>\n",
       "      <td>61.763113</td>\n",
       "      <td>62.643380</td>\n",
       "      <td>64.396143</td>\n",
       "      <td>6.610247e+01</td>\n",
       "      <td>7.807540e+01</td>\n",
       "    </tr>\n",
       "    <tr>\n",
       "      <th>BirthRate</th>\n",
       "      <td>3047.0</td>\n",
       "      <td>5.640306</td>\n",
       "      <td>1.985816</td>\n",
       "      <td>0.000000</td>\n",
       "      <td>1.547823</td>\n",
       "      <td>2.249885</td>\n",
       "      <td>2.874904</td>\n",
       "      <td>5.381478</td>\n",
       "      <td>6.493677</td>\n",
       "      <td>7.983664</td>\n",
       "      <td>9.185456</td>\n",
       "      <td>9.596963</td>\n",
       "      <td>10.023374</td>\n",
       "      <td>10.776338</td>\n",
       "      <td>1.208397e+01</td>\n",
       "      <td>2.132616e+01</td>\n",
       "    </tr>\n",
       "  </tbody>\n",
       "</table>\n",
       "</div>"
      ],
      "text/plain": [
       "                          count           mean            std           min  \\\n",
       "avgAnnCount              3047.0     606.338544    1416.356223      6.000000   \n",
       "avgDeathsPerYear         3047.0     185.965868     504.134286      3.000000   \n",
       "TARGET_deathRate         3047.0     178.664063      27.751511     59.700000   \n",
       "incidenceRate            3047.0     448.268586      54.560733    201.300000   \n",
       "medIncome                3047.0   47063.281917   12040.090836  22640.000000   \n",
       "popEst2015               3047.0  102637.370528  329059.220504    827.000000   \n",
       "povertyPercent           3047.0      16.878175       6.409087      3.200000   \n",
       "studyPerCap              3047.0     155.399415     529.628366      0.000000   \n",
       "binnedInc                3047.0       0.299639       0.458175      0.000000   \n",
       "MedianAge                3047.0      45.272333      45.304480     22.300000   \n",
       "MedianAgeMale            3047.0      39.570725       5.226017     22.400000   \n",
       "MedianAgeFemale          3047.0      42.145323       5.292849     22.300000   \n",
       "AvgHouseholdSize         3047.0       2.479662       0.429174      0.022100   \n",
       "PercentMarried           3047.0      51.773679       6.896928     23.100000   \n",
       "PctNoHS18_24             3047.0      18.224450       8.093064      0.000000   \n",
       "PctHS18_24               3047.0      35.002068       9.069722      0.000000   \n",
       "PctBachDeg18_24          3047.0       6.158287       4.529059      0.000000   \n",
       "PctHS25_Over             3047.0      34.804660       7.034924      7.500000   \n",
       "PctBachDeg25_Over        3047.0      13.282015       5.394756      2.500000   \n",
       "PctEmployed16_Over       3047.0      54.169970       8.105295     17.600000   \n",
       "PctUnemployed16_Over     3047.0       7.852412       3.452371      0.400000   \n",
       "PctPrivateCoverage       3047.0      64.354939      10.647057     22.300000   \n",
       "PctPrivateCoverageAlone  3047.0      48.502987       9.019423     15.700000   \n",
       "PctEmpPrivCoverage       3047.0      41.196324       9.447687     13.500000   \n",
       "PctPublicCoverage        3047.0      36.252642       7.841741     11.200000   \n",
       "PctPublicCoverageAlone   3047.0      19.240072       6.113041      2.600000   \n",
       "PctWhite                 3047.0      83.645286      16.380025     10.199155   \n",
       "PctBlack                 3047.0       9.107978      14.534538      0.000000   \n",
       "PctAsian                 3047.0       1.253965       2.610276      0.000000   \n",
       "PctOtherRace             3047.0       1.983523       3.517710      0.000000   \n",
       "PctMarriedHouseholds     3047.0      51.243872       6.572814     22.992490   \n",
       "BirthRate                3047.0       5.640306       1.985816      0.000000   \n",
       "\n",
       "                                   1%          2.5%            5%  \\\n",
       "avgAnnCount                 11.000000     16.000000     23.000000   \n",
       "avgDeathsPerYear             4.000000      6.000000      9.000000   \n",
       "TARGET_deathRate           114.246000    126.000000    134.130000   \n",
       "incidenceRate              297.614000    331.130000    355.130000   \n",
       "medIncome                27438.880000  29821.150000  31837.700000   \n",
       "popEst2015                1905.040000   2478.050000   3666.200000   \n",
       "povertyPercent               6.000000      7.200000      8.300000   \n",
       "studyPerCap                  0.000000      0.000000      0.000000   \n",
       "binnedInc                    0.000000      0.000000      0.000000   \n",
       "MedianAge                   27.900000     30.115000     31.930000   \n",
       "MedianAgeMale               26.600000     29.015000     31.000000   \n",
       "MedianAgeFemale             28.646000     30.900000     32.900000   \n",
       "AvgHouseholdSize             0.024900      2.040000      2.140000   \n",
       "PercentMarried              30.292000     35.615000     39.300000   \n",
       "PctNoHS18_24                 3.500000      5.100000      6.900000   \n",
       "PctHS18_24                  13.400000     16.915000     20.400000   \n",
       "PctBachDeg18_24              0.000000      0.000000      0.500000   \n",
       "PctHS25_Over                16.800000     19.715000     22.230000   \n",
       "PctBachDeg25_Over            4.746000      5.600000      6.400000   \n",
       "PctEmployed16_Over          32.346000     37.130000     40.230000   \n",
       "PctUnemployed16_Over         1.200000      1.915000      2.800000   \n",
       "PctPrivateCoverage          36.138000     41.700000     46.400000   \n",
       "PctPrivateCoverageAlone     26.600000     30.100000     33.200000   \n",
       "PctEmpPrivCoverage          20.600000     23.715000     26.000000   \n",
       "PctPublicCoverage           18.546000     20.800000     23.000000   \n",
       "PctPublicCoverageAlone       7.400000      8.715000     10.000000   \n",
       "PctWhite                    26.180228     38.503148     47.960618   \n",
       "PctBlack                     0.000000      0.018508      0.100679   \n",
       "PctAsian                     0.000000      0.000000      0.000000   \n",
       "PctOtherRace                 0.000000      0.000000      0.014080   \n",
       "PctMarriedHouseholds        31.653827     36.359620     39.730604   \n",
       "BirthRate                    1.547823      2.249885      2.874904   \n",
       "\n",
       "                                  50%           75%            90%  \\\n",
       "avgAnnCount                171.000000    518.000000    1962.667684   \n",
       "avgDeathsPerYear            61.000000    149.000000     378.400000   \n",
       "TARGET_deathRate           178.100000    195.200000     213.340000   \n",
       "incidenceRate              453.549422    480.850000     507.340000   \n",
       "medIncome                45207.000000  52492.000000   61322.600000   \n",
       "popEst2015               26643.000000  68671.000000  207791.200000   \n",
       "povertyPercent              15.900000     20.400000      25.300000   \n",
       "studyPerCap                  0.000000     83.650776     412.808075   \n",
       "binnedInc                    0.000000      1.000000       1.000000   \n",
       "MedianAge                   41.000000     44.000000      47.700000   \n",
       "MedianAgeMale               39.600000     42.500000      46.100000   \n",
       "MedianAgeFemale             42.400000     45.300000      48.600000   \n",
       "AvgHouseholdSize             2.500000      2.630000       2.820000   \n",
       "PercentMarried              52.400000     56.400000      59.940000   \n",
       "PctNoHS18_24                17.100000     22.700000      28.600000   \n",
       "PctHS18_24                  34.700000     40.700000      46.100000   \n",
       "PctBachDeg18_24              5.400000      8.200000      11.700000   \n",
       "PctHS25_Over                35.300000     39.650000      43.400000   \n",
       "PctBachDeg25_Over           12.300000     16.100000      20.400000   \n",
       "PctEmployed16_Over          54.500000     60.000000      64.200000   \n",
       "PctUnemployed16_Over         7.600000      9.700000      12.200000   \n",
       "PctPrivateCoverage          65.100000     72.100000      77.600000   \n",
       "PctPrivateCoverageAlone     48.700000     53.800000      60.400000   \n",
       "PctEmpPrivCoverage          41.100000     47.700000      53.740000   \n",
       "PctPublicCoverage           36.300000     41.550000      46.200000   \n",
       "PctPublicCoverageAlone      18.800000     23.100000      27.000000   \n",
       "PctWhite                    90.059774     95.451693      97.200572   \n",
       "PctBlack                     2.247576     10.509732      30.371540   \n",
       "PctAsian                     0.549812      1.221037       2.812328   \n",
       "PctOtherRace                 0.826185      2.177960       4.843935   \n",
       "PctMarriedHouseholds        51.669941     55.395132      58.666986   \n",
       "BirthRate                    5.381478      6.493677       7.983664   \n",
       "\n",
       "                                   95%            96%            97%  \\\n",
       "avgAnnCount                1972.000305    2469.720000    2956.920000   \n",
       "avgDeathsPerYear            749.400000     903.960000    1123.340000   \n",
       "TARGET_deathRate            224.370000     228.016000     232.224000   \n",
       "incidenceRate               525.000000     529.016000     534.062000   \n",
       "medIncome                 69964.400000   72699.840000   76009.700000   \n",
       "popEst2015               436220.100000  524795.640000  674697.300000   \n",
       "povertyPercent               28.700000      29.900000      31.400000   \n",
       "studyPerCap                 747.578565     882.024280    1151.388695   \n",
       "binnedInc                     1.000000       1.000000       1.000000   \n",
       "MedianAge                    50.170000      50.900000      51.800000   \n",
       "MedianAgeMale                48.600000      49.500000      50.400000   \n",
       "MedianAgeFemale              50.600000      51.300000      52.062000   \n",
       "AvgHouseholdSize              2.980000       3.031600       3.080000   \n",
       "PercentMarried               61.900000      62.316000      62.962000   \n",
       "PctNoHS18_24                 32.870000      34.200000      35.800000   \n",
       "PctHS18_24                   50.600000      51.700000      52.962000   \n",
       "PctBachDeg18_24              14.300000      14.916000      15.900000   \n",
       "PctHS25_Over                 45.400000      46.216000      47.362000   \n",
       "PctBachDeg25_Over            23.470000      24.400000      25.762000   \n",
       "PctEmployed16_Over           66.270000      67.016000      67.900000   \n",
       "PctUnemployed16_Over         13.800000      14.300000      15.000000   \n",
       "PctPrivateCoverage           80.570000      81.216000      82.000000   \n",
       "PctPrivateCoverageAlone      64.000000      65.016000      66.200000   \n",
       "PctEmpPrivCoverage           56.800000      57.616000      58.900000   \n",
       "PctPublicCoverage            49.000000      50.300000      51.162000   \n",
       "PctPublicCoverageAlone       29.900000      30.800000      32.062000   \n",
       "PctWhite                     97.767008      97.927974      98.081208   \n",
       "PctBlack                     42.170255      46.374443      50.262530   \n",
       "PctAsian                      4.471892       5.286111       6.078633   \n",
       "PctOtherRace                  7.858399       8.873476       9.922950   \n",
       "PctMarriedHouseholds         60.994728      61.763113      62.643380   \n",
       "BirthRate                     9.185456       9.596963      10.023374   \n",
       "\n",
       "                                   98%           99%           max  \n",
       "avgAnnCount                3908.080000  5.932920e+03  3.815000e+04  \n",
       "avgDeathsPerYear           1419.880000  2.169660e+03  1.401000e+04  \n",
       "TARGET_deathRate            239.824000  2.543000e+02  3.628000e+02  \n",
       "incidenceRate               542.212000  5.616700e+02  1.206900e+03  \n",
       "medIncome                 80491.160000  8.698218e+04  1.256350e+05  \n",
       "popEst2015               851250.720000  1.236855e+06  1.017029e+07  \n",
       "povertyPercent               33.408000  3.601600e+01  4.740000e+01  \n",
       "studyPerCap                1523.137415  2.477719e+03  9.762309e+03  \n",
       "binnedInc                     1.000000  1.000000e+00  1.000000e+00  \n",
       "MedianAge                    53.208000  6.240200e+01  6.240000e+02  \n",
       "MedianAgeMale                51.300000  5.285400e+01  6.470000e+01  \n",
       "MedianAgeFemale              52.800000  5.445400e+01  6.570000e+01  \n",
       "AvgHouseholdSize              3.210000  3.360000e+00  3.970000e+00  \n",
       "PercentMarried               64.100000  6.545400e+01  7.250000e+01  \n",
       "PctNoHS18_24                 38.216000  4.200000e+01  6.410000e+01  \n",
       "PctHS18_24                   55.108000  5.930800e+01  7.250000e+01  \n",
       "PctBachDeg18_24              17.608000  2.080000e+01  5.180000e+01  \n",
       "PctHS25_Over                 48.600000  4.970000e+01  5.480000e+01  \n",
       "PctBachDeg25_Over            27.300000  3.030000e+01  4.220000e+01  \n",
       "PctEmployed16_Over           68.908000  7.060000e+01  8.010000e+01  \n",
       "PctUnemployed16_Over         16.300000  1.870000e+01  2.940000e+01  \n",
       "PctPrivateCoverage           83.300000  8.455400e+01  9.230000e+01  \n",
       "PctPrivateCoverageAlone      67.500000  6.915400e+01  7.890000e+01  \n",
       "PctEmpPrivCoverage           60.708000  6.315400e+01  7.070000e+01  \n",
       "PctPublicCoverage            52.300000  5.390800e+01  6.510000e+01  \n",
       "PctPublicCoverageAlone       33.216000  3.605400e+01  4.660000e+01  \n",
       "PctWhite                     98.280727  9.860539e+01  1.000000e+02  \n",
       "PctBlack                     56.416330  6.446073e+01  8.594780e+01  \n",
       "PctAsian                      7.548461  1.157279e+01  4.261942e+01  \n",
       "PctOtherRace                 12.221588  1.749924e+01  4.193025e+01  \n",
       "PctMarriedHouseholds         64.396143  6.610247e+01  7.807540e+01  \n",
       "BirthRate                    10.776338  1.208397e+01  2.132616e+01  "
      ]
     },
     "execution_count": 29,
     "metadata": {},
     "output_type": "execute_result"
    }
   ],
   "source": [
    "basic_summ"
   ]
  },
  {
   "cell_type": "code",
   "execution_count": 30,
   "metadata": {},
   "outputs": [
    {
     "name": "stderr",
     "output_type": "stream",
     "text": [
      "<ipython-input-30-8898ef7faba9>:3: SettingWithCopyWarning: \n",
      "A value is trying to be set on a copy of a slice from a DataFrame\n",
      "\n",
      "See the caveats in the documentation: https://pandas.pydata.org/pandas-docs/stable/user_guide/indexing.html#returning-a-view-versus-a-copy\n",
      "  df[col][df[col]<=percentile[0]]=percentile[0]\n",
      "<ipython-input-30-8898ef7faba9>:4: SettingWithCopyWarning: \n",
      "A value is trying to be set on a copy of a slice from a DataFrame\n",
      "\n",
      "See the caveats in the documentation: https://pandas.pydata.org/pandas-docs/stable/user_guide/indexing.html#returning-a-view-versus-a-copy\n",
      "  df[col][df[col]>=percentile[1]]=percentile[1]\n",
      "<ipython-input-30-8898ef7faba9>:3: SettingWithCopyWarning: \n",
      "A value is trying to be set on a copy of a slice from a DataFrame\n",
      "\n",
      "See the caveats in the documentation: https://pandas.pydata.org/pandas-docs/stable/user_guide/indexing.html#returning-a-view-versus-a-copy\n",
      "  df[col][df[col]<=percentile[0]]=percentile[0]\n",
      "<ipython-input-30-8898ef7faba9>:3: SettingWithCopyWarning: \n",
      "A value is trying to be set on a copy of a slice from a DataFrame\n",
      "\n",
      "See the caveats in the documentation: https://pandas.pydata.org/pandas-docs/stable/user_guide/indexing.html#returning-a-view-versus-a-copy\n",
      "  df[col][df[col]<=percentile[0]]=percentile[0]\n",
      "<ipython-input-30-8898ef7faba9>:4: SettingWithCopyWarning: \n",
      "A value is trying to be set on a copy of a slice from a DataFrame\n",
      "\n",
      "See the caveats in the documentation: https://pandas.pydata.org/pandas-docs/stable/user_guide/indexing.html#returning-a-view-versus-a-copy\n",
      "  df[col][df[col]>=percentile[1]]=percentile[1]\n",
      "<ipython-input-30-8898ef7faba9>:3: SettingWithCopyWarning: \n",
      "A value is trying to be set on a copy of a slice from a DataFrame\n",
      "\n",
      "See the caveats in the documentation: https://pandas.pydata.org/pandas-docs/stable/user_guide/indexing.html#returning-a-view-versus-a-copy\n",
      "  df[col][df[col]<=percentile[0]]=percentile[0]\n",
      "<ipython-input-30-8898ef7faba9>:4: SettingWithCopyWarning: \n",
      "A value is trying to be set on a copy of a slice from a DataFrame\n",
      "\n",
      "See the caveats in the documentation: https://pandas.pydata.org/pandas-docs/stable/user_guide/indexing.html#returning-a-view-versus-a-copy\n",
      "  df[col][df[col]>=percentile[1]]=percentile[1]\n",
      "<ipython-input-30-8898ef7faba9>:3: SettingWithCopyWarning: \n",
      "A value is trying to be set on a copy of a slice from a DataFrame\n",
      "\n",
      "See the caveats in the documentation: https://pandas.pydata.org/pandas-docs/stable/user_guide/indexing.html#returning-a-view-versus-a-copy\n",
      "  df[col][df[col]<=percentile[0]]=percentile[0]\n",
      "<ipython-input-30-8898ef7faba9>:3: SettingWithCopyWarning: \n",
      "A value is trying to be set on a copy of a slice from a DataFrame\n",
      "\n",
      "See the caveats in the documentation: https://pandas.pydata.org/pandas-docs/stable/user_guide/indexing.html#returning-a-view-versus-a-copy\n",
      "  df[col][df[col]<=percentile[0]]=percentile[0]\n",
      "<ipython-input-30-8898ef7faba9>:4: SettingWithCopyWarning: \n",
      "A value is trying to be set on a copy of a slice from a DataFrame\n",
      "\n",
      "See the caveats in the documentation: https://pandas.pydata.org/pandas-docs/stable/user_guide/indexing.html#returning-a-view-versus-a-copy\n",
      "  df[col][df[col]>=percentile[1]]=percentile[1]\n",
      "<ipython-input-30-8898ef7faba9>:3: SettingWithCopyWarning: \n",
      "A value is trying to be set on a copy of a slice from a DataFrame\n",
      "\n",
      "See the caveats in the documentation: https://pandas.pydata.org/pandas-docs/stable/user_guide/indexing.html#returning-a-view-versus-a-copy\n",
      "  df[col][df[col]<=percentile[0]]=percentile[0]\n",
      "<ipython-input-30-8898ef7faba9>:4: SettingWithCopyWarning: \n",
      "A value is trying to be set on a copy of a slice from a DataFrame\n",
      "\n",
      "See the caveats in the documentation: https://pandas.pydata.org/pandas-docs/stable/user_guide/indexing.html#returning-a-view-versus-a-copy\n",
      "  df[col][df[col]>=percentile[1]]=percentile[1]\n",
      "<ipython-input-30-8898ef7faba9>:3: SettingWithCopyWarning: \n",
      "A value is trying to be set on a copy of a slice from a DataFrame\n",
      "\n",
      "See the caveats in the documentation: https://pandas.pydata.org/pandas-docs/stable/user_guide/indexing.html#returning-a-view-versus-a-copy\n",
      "  df[col][df[col]<=percentile[0]]=percentile[0]\n",
      "<ipython-input-30-8898ef7faba9>:4: SettingWithCopyWarning: \n",
      "A value is trying to be set on a copy of a slice from a DataFrame\n",
      "\n",
      "See the caveats in the documentation: https://pandas.pydata.org/pandas-docs/stable/user_guide/indexing.html#returning-a-view-versus-a-copy\n",
      "  df[col][df[col]>=percentile[1]]=percentile[1]\n",
      "<ipython-input-30-8898ef7faba9>:3: SettingWithCopyWarning: \n",
      "A value is trying to be set on a copy of a slice from a DataFrame\n",
      "\n",
      "See the caveats in the documentation: https://pandas.pydata.org/pandas-docs/stable/user_guide/indexing.html#returning-a-view-versus-a-copy\n",
      "  df[col][df[col]<=percentile[0]]=percentile[0]\n",
      "<ipython-input-30-8898ef7faba9>:3: SettingWithCopyWarning: \n",
      "A value is trying to be set on a copy of a slice from a DataFrame\n",
      "\n",
      "See the caveats in the documentation: https://pandas.pydata.org/pandas-docs/stable/user_guide/indexing.html#returning-a-view-versus-a-copy\n",
      "  df[col][df[col]<=percentile[0]]=percentile[0]\n",
      "<ipython-input-30-8898ef7faba9>:4: SettingWithCopyWarning: \n",
      "A value is trying to be set on a copy of a slice from a DataFrame\n",
      "\n",
      "See the caveats in the documentation: https://pandas.pydata.org/pandas-docs/stable/user_guide/indexing.html#returning-a-view-versus-a-copy\n",
      "  df[col][df[col]>=percentile[1]]=percentile[1]\n",
      "<ipython-input-30-8898ef7faba9>:3: SettingWithCopyWarning: \n",
      "A value is trying to be set on a copy of a slice from a DataFrame\n",
      "\n",
      "See the caveats in the documentation: https://pandas.pydata.org/pandas-docs/stable/user_guide/indexing.html#returning-a-view-versus-a-copy\n",
      "  df[col][df[col]<=percentile[0]]=percentile[0]\n",
      "<ipython-input-30-8898ef7faba9>:4: SettingWithCopyWarning: \n",
      "A value is trying to be set on a copy of a slice from a DataFrame\n",
      "\n",
      "See the caveats in the documentation: https://pandas.pydata.org/pandas-docs/stable/user_guide/indexing.html#returning-a-view-versus-a-copy\n",
      "  df[col][df[col]>=percentile[1]]=percentile[1]\n",
      "<ipython-input-30-8898ef7faba9>:3: SettingWithCopyWarning: \n",
      "A value is trying to be set on a copy of a slice from a DataFrame\n",
      "\n",
      "See the caveats in the documentation: https://pandas.pydata.org/pandas-docs/stable/user_guide/indexing.html#returning-a-view-versus-a-copy\n",
      "  df[col][df[col]<=percentile[0]]=percentile[0]\n",
      "<ipython-input-30-8898ef7faba9>:4: SettingWithCopyWarning: \n",
      "A value is trying to be set on a copy of a slice from a DataFrame\n",
      "\n",
      "See the caveats in the documentation: https://pandas.pydata.org/pandas-docs/stable/user_guide/indexing.html#returning-a-view-versus-a-copy\n",
      "  df[col][df[col]>=percentile[1]]=percentile[1]\n",
      "<ipython-input-30-8898ef7faba9>:3: SettingWithCopyWarning: \n",
      "A value is trying to be set on a copy of a slice from a DataFrame\n",
      "\n",
      "See the caveats in the documentation: https://pandas.pydata.org/pandas-docs/stable/user_guide/indexing.html#returning-a-view-versus-a-copy\n",
      "  df[col][df[col]<=percentile[0]]=percentile[0]\n",
      "<ipython-input-30-8898ef7faba9>:4: SettingWithCopyWarning: \n",
      "A value is trying to be set on a copy of a slice from a DataFrame\n",
      "\n",
      "See the caveats in the documentation: https://pandas.pydata.org/pandas-docs/stable/user_guide/indexing.html#returning-a-view-versus-a-copy\n",
      "  df[col][df[col]>=percentile[1]]=percentile[1]\n",
      "<ipython-input-30-8898ef7faba9>:3: SettingWithCopyWarning: \n",
      "A value is trying to be set on a copy of a slice from a DataFrame\n",
      "\n",
      "See the caveats in the documentation: https://pandas.pydata.org/pandas-docs/stable/user_guide/indexing.html#returning-a-view-versus-a-copy\n",
      "  df[col][df[col]<=percentile[0]]=percentile[0]\n",
      "<ipython-input-30-8898ef7faba9>:4: SettingWithCopyWarning: \n",
      "A value is trying to be set on a copy of a slice from a DataFrame\n",
      "\n",
      "See the caveats in the documentation: https://pandas.pydata.org/pandas-docs/stable/user_guide/indexing.html#returning-a-view-versus-a-copy\n",
      "  df[col][df[col]>=percentile[1]]=percentile[1]\n",
      "<ipython-input-30-8898ef7faba9>:3: SettingWithCopyWarning: \n",
      "A value is trying to be set on a copy of a slice from a DataFrame\n",
      "\n",
      "See the caveats in the documentation: https://pandas.pydata.org/pandas-docs/stable/user_guide/indexing.html#returning-a-view-versus-a-copy\n",
      "  df[col][df[col]<=percentile[0]]=percentile[0]\n",
      "<ipython-input-30-8898ef7faba9>:4: SettingWithCopyWarning: \n",
      "A value is trying to be set on a copy of a slice from a DataFrame\n",
      "\n",
      "See the caveats in the documentation: https://pandas.pydata.org/pandas-docs/stable/user_guide/indexing.html#returning-a-view-versus-a-copy\n",
      "  df[col][df[col]>=percentile[1]]=percentile[1]\n",
      "<ipython-input-30-8898ef7faba9>:3: SettingWithCopyWarning: \n",
      "A value is trying to be set on a copy of a slice from a DataFrame\n",
      "\n",
      "See the caveats in the documentation: https://pandas.pydata.org/pandas-docs/stable/user_guide/indexing.html#returning-a-view-versus-a-copy\n",
      "  df[col][df[col]<=percentile[0]]=percentile[0]\n",
      "<ipython-input-30-8898ef7faba9>:4: SettingWithCopyWarning: \n",
      "A value is trying to be set on a copy of a slice from a DataFrame\n",
      "\n",
      "See the caveats in the documentation: https://pandas.pydata.org/pandas-docs/stable/user_guide/indexing.html#returning-a-view-versus-a-copy\n",
      "  df[col][df[col]>=percentile[1]]=percentile[1]\n",
      "<ipython-input-30-8898ef7faba9>:3: SettingWithCopyWarning: \n",
      "A value is trying to be set on a copy of a slice from a DataFrame\n",
      "\n",
      "See the caveats in the documentation: https://pandas.pydata.org/pandas-docs/stable/user_guide/indexing.html#returning-a-view-versus-a-copy\n",
      "  df[col][df[col]<=percentile[0]]=percentile[0]\n",
      "<ipython-input-30-8898ef7faba9>:4: SettingWithCopyWarning: \n",
      "A value is trying to be set on a copy of a slice from a DataFrame\n",
      "\n",
      "See the caveats in the documentation: https://pandas.pydata.org/pandas-docs/stable/user_guide/indexing.html#returning-a-view-versus-a-copy\n",
      "  df[col][df[col]>=percentile[1]]=percentile[1]\n",
      "<ipython-input-30-8898ef7faba9>:3: SettingWithCopyWarning: \n",
      "A value is trying to be set on a copy of a slice from a DataFrame\n",
      "\n",
      "See the caveats in the documentation: https://pandas.pydata.org/pandas-docs/stable/user_guide/indexing.html#returning-a-view-versus-a-copy\n",
      "  df[col][df[col]<=percentile[0]]=percentile[0]\n",
      "<ipython-input-30-8898ef7faba9>:4: SettingWithCopyWarning: \n",
      "A value is trying to be set on a copy of a slice from a DataFrame\n",
      "\n",
      "See the caveats in the documentation: https://pandas.pydata.org/pandas-docs/stable/user_guide/indexing.html#returning-a-view-versus-a-copy\n",
      "  df[col][df[col]>=percentile[1]]=percentile[1]\n",
      "<ipython-input-30-8898ef7faba9>:3: SettingWithCopyWarning: \n",
      "A value is trying to be set on a copy of a slice from a DataFrame\n",
      "\n",
      "See the caveats in the documentation: https://pandas.pydata.org/pandas-docs/stable/user_guide/indexing.html#returning-a-view-versus-a-copy\n",
      "  df[col][df[col]<=percentile[0]]=percentile[0]\n",
      "<ipython-input-30-8898ef7faba9>:4: SettingWithCopyWarning: \n",
      "A value is trying to be set on a copy of a slice from a DataFrame\n",
      "\n",
      "See the caveats in the documentation: https://pandas.pydata.org/pandas-docs/stable/user_guide/indexing.html#returning-a-view-versus-a-copy\n",
      "  df[col][df[col]>=percentile[1]]=percentile[1]\n",
      "<ipython-input-30-8898ef7faba9>:3: SettingWithCopyWarning: \n",
      "A value is trying to be set on a copy of a slice from a DataFrame\n",
      "\n",
      "See the caveats in the documentation: https://pandas.pydata.org/pandas-docs/stable/user_guide/indexing.html#returning-a-view-versus-a-copy\n",
      "  df[col][df[col]<=percentile[0]]=percentile[0]\n",
      "<ipython-input-30-8898ef7faba9>:4: SettingWithCopyWarning: \n",
      "A value is trying to be set on a copy of a slice from a DataFrame\n",
      "\n",
      "See the caveats in the documentation: https://pandas.pydata.org/pandas-docs/stable/user_guide/indexing.html#returning-a-view-versus-a-copy\n",
      "  df[col][df[col]>=percentile[1]]=percentile[1]\n",
      "<ipython-input-30-8898ef7faba9>:3: SettingWithCopyWarning: \n",
      "A value is trying to be set on a copy of a slice from a DataFrame\n",
      "\n",
      "See the caveats in the documentation: https://pandas.pydata.org/pandas-docs/stable/user_guide/indexing.html#returning-a-view-versus-a-copy\n",
      "  df[col][df[col]<=percentile[0]]=percentile[0]\n",
      "<ipython-input-30-8898ef7faba9>:4: SettingWithCopyWarning: \n",
      "A value is trying to be set on a copy of a slice from a DataFrame\n",
      "\n",
      "See the caveats in the documentation: https://pandas.pydata.org/pandas-docs/stable/user_guide/indexing.html#returning-a-view-versus-a-copy\n",
      "  df[col][df[col]>=percentile[1]]=percentile[1]\n",
      "<ipython-input-30-8898ef7faba9>:3: SettingWithCopyWarning: \n",
      "A value is trying to be set on a copy of a slice from a DataFrame\n",
      "\n",
      "See the caveats in the documentation: https://pandas.pydata.org/pandas-docs/stable/user_guide/indexing.html#returning-a-view-versus-a-copy\n",
      "  df[col][df[col]<=percentile[0]]=percentile[0]\n",
      "<ipython-input-30-8898ef7faba9>:4: SettingWithCopyWarning: \n",
      "A value is trying to be set on a copy of a slice from a DataFrame\n",
      "\n",
      "See the caveats in the documentation: https://pandas.pydata.org/pandas-docs/stable/user_guide/indexing.html#returning-a-view-versus-a-copy\n",
      "  df[col][df[col]>=percentile[1]]=percentile[1]\n",
      "<ipython-input-30-8898ef7faba9>:3: SettingWithCopyWarning: \n",
      "A value is trying to be set on a copy of a slice from a DataFrame\n",
      "\n",
      "See the caveats in the documentation: https://pandas.pydata.org/pandas-docs/stable/user_guide/indexing.html#returning-a-view-versus-a-copy\n",
      "  df[col][df[col]<=percentile[0]]=percentile[0]\n",
      "<ipython-input-30-8898ef7faba9>:4: SettingWithCopyWarning: \n",
      "A value is trying to be set on a copy of a slice from a DataFrame\n",
      "\n",
      "See the caveats in the documentation: https://pandas.pydata.org/pandas-docs/stable/user_guide/indexing.html#returning-a-view-versus-a-copy\n",
      "  df[col][df[col]>=percentile[1]]=percentile[1]\n",
      "<ipython-input-30-8898ef7faba9>:3: SettingWithCopyWarning: \n",
      "A value is trying to be set on a copy of a slice from a DataFrame\n",
      "\n",
      "See the caveats in the documentation: https://pandas.pydata.org/pandas-docs/stable/user_guide/indexing.html#returning-a-view-versus-a-copy\n",
      "  df[col][df[col]<=percentile[0]]=percentile[0]\n",
      "<ipython-input-30-8898ef7faba9>:4: SettingWithCopyWarning: \n",
      "A value is trying to be set on a copy of a slice from a DataFrame\n",
      "\n",
      "See the caveats in the documentation: https://pandas.pydata.org/pandas-docs/stable/user_guide/indexing.html#returning-a-view-versus-a-copy\n",
      "  df[col][df[col]>=percentile[1]]=percentile[1]\n",
      "<ipython-input-30-8898ef7faba9>:3: SettingWithCopyWarning: \n",
      "A value is trying to be set on a copy of a slice from a DataFrame\n",
      "\n",
      "See the caveats in the documentation: https://pandas.pydata.org/pandas-docs/stable/user_guide/indexing.html#returning-a-view-versus-a-copy\n",
      "  df[col][df[col]<=percentile[0]]=percentile[0]\n",
      "<ipython-input-30-8898ef7faba9>:4: SettingWithCopyWarning: \n",
      "A value is trying to be set on a copy of a slice from a DataFrame\n",
      "\n",
      "See the caveats in the documentation: https://pandas.pydata.org/pandas-docs/stable/user_guide/indexing.html#returning-a-view-versus-a-copy\n",
      "  df[col][df[col]>=percentile[1]]=percentile[1]\n",
      "<ipython-input-30-8898ef7faba9>:3: SettingWithCopyWarning: \n",
      "A value is trying to be set on a copy of a slice from a DataFrame\n",
      "\n",
      "See the caveats in the documentation: https://pandas.pydata.org/pandas-docs/stable/user_guide/indexing.html#returning-a-view-versus-a-copy\n",
      "  df[col][df[col]<=percentile[0]]=percentile[0]\n",
      "<ipython-input-30-8898ef7faba9>:4: SettingWithCopyWarning: \n",
      "A value is trying to be set on a copy of a slice from a DataFrame\n",
      "\n",
      "See the caveats in the documentation: https://pandas.pydata.org/pandas-docs/stable/user_guide/indexing.html#returning-a-view-versus-a-copy\n",
      "  df[col][df[col]>=percentile[1]]=percentile[1]\n",
      "<ipython-input-30-8898ef7faba9>:3: SettingWithCopyWarning: \n",
      "A value is trying to be set on a copy of a slice from a DataFrame\n",
      "\n",
      "See the caveats in the documentation: https://pandas.pydata.org/pandas-docs/stable/user_guide/indexing.html#returning-a-view-versus-a-copy\n",
      "  df[col][df[col]<=percentile[0]]=percentile[0]\n",
      "<ipython-input-30-8898ef7faba9>:4: SettingWithCopyWarning: \n",
      "A value is trying to be set on a copy of a slice from a DataFrame\n",
      "\n",
      "See the caveats in the documentation: https://pandas.pydata.org/pandas-docs/stable/user_guide/indexing.html#returning-a-view-versus-a-copy\n",
      "  df[col][df[col]>=percentile[1]]=percentile[1]\n",
      "<ipython-input-30-8898ef7faba9>:3: SettingWithCopyWarning: \n",
      "A value is trying to be set on a copy of a slice from a DataFrame\n",
      "\n",
      "See the caveats in the documentation: https://pandas.pydata.org/pandas-docs/stable/user_guide/indexing.html#returning-a-view-versus-a-copy\n",
      "  df[col][df[col]<=percentile[0]]=percentile[0]\n",
      "<ipython-input-30-8898ef7faba9>:4: SettingWithCopyWarning: \n",
      "A value is trying to be set on a copy of a slice from a DataFrame\n",
      "\n",
      "See the caveats in the documentation: https://pandas.pydata.org/pandas-docs/stable/user_guide/indexing.html#returning-a-view-versus-a-copy\n",
      "  df[col][df[col]>=percentile[1]]=percentile[1]\n",
      "<ipython-input-30-8898ef7faba9>:3: SettingWithCopyWarning: \n",
      "A value is trying to be set on a copy of a slice from a DataFrame\n",
      "\n",
      "See the caveats in the documentation: https://pandas.pydata.org/pandas-docs/stable/user_guide/indexing.html#returning-a-view-versus-a-copy\n",
      "  df[col][df[col]<=percentile[0]]=percentile[0]\n",
      "<ipython-input-30-8898ef7faba9>:4: SettingWithCopyWarning: \n",
      "A value is trying to be set on a copy of a slice from a DataFrame\n",
      "\n",
      "See the caveats in the documentation: https://pandas.pydata.org/pandas-docs/stable/user_guide/indexing.html#returning-a-view-versus-a-copy\n",
      "  df[col][df[col]>=percentile[1]]=percentile[1]\n",
      "<ipython-input-30-8898ef7faba9>:3: SettingWithCopyWarning: \n",
      "A value is trying to be set on a copy of a slice from a DataFrame\n",
      "\n",
      "See the caveats in the documentation: https://pandas.pydata.org/pandas-docs/stable/user_guide/indexing.html#returning-a-view-versus-a-copy\n",
      "  df[col][df[col]<=percentile[0]]=percentile[0]\n",
      "<ipython-input-30-8898ef7faba9>:4: SettingWithCopyWarning: \n",
      "A value is trying to be set on a copy of a slice from a DataFrame\n",
      "\n",
      "See the caveats in the documentation: https://pandas.pydata.org/pandas-docs/stable/user_guide/indexing.html#returning-a-view-versus-a-copy\n",
      "  df[col][df[col]>=percentile[1]]=percentile[1]\n",
      "<ipython-input-30-8898ef7faba9>:3: SettingWithCopyWarning: \n",
      "A value is trying to be set on a copy of a slice from a DataFrame\n",
      "\n",
      "See the caveats in the documentation: https://pandas.pydata.org/pandas-docs/stable/user_guide/indexing.html#returning-a-view-versus-a-copy\n",
      "  df[col][df[col]<=percentile[0]]=percentile[0]\n",
      "<ipython-input-30-8898ef7faba9>:4: SettingWithCopyWarning: \n",
      "A value is trying to be set on a copy of a slice from a DataFrame\n",
      "\n",
      "See the caveats in the documentation: https://pandas.pydata.org/pandas-docs/stable/user_guide/indexing.html#returning-a-view-versus-a-copy\n",
      "  df[col][df[col]>=percentile[1]]=percentile[1]\n",
      "<ipython-input-30-8898ef7faba9>:3: SettingWithCopyWarning: \n",
      "A value is trying to be set on a copy of a slice from a DataFrame\n",
      "\n",
      "See the caveats in the documentation: https://pandas.pydata.org/pandas-docs/stable/user_guide/indexing.html#returning-a-view-versus-a-copy\n",
      "  df[col][df[col]<=percentile[0]]=percentile[0]\n",
      "<ipython-input-30-8898ef7faba9>:4: SettingWithCopyWarning: \n",
      "A value is trying to be set on a copy of a slice from a DataFrame\n",
      "\n",
      "See the caveats in the documentation: https://pandas.pydata.org/pandas-docs/stable/user_guide/indexing.html#returning-a-view-versus-a-copy\n",
      "  df[col][df[col]>=percentile[1]]=percentile[1]\n"
     ]
    }
   ],
   "source": [
    "for col in df.columns:\n",
    "    percentile=df[col].quantile([.01,.95]).values\n",
    "    df[col][df[col]<=percentile[0]]=percentile[0]\n",
    "    df[col][df[col]>=percentile[1]]=percentile[1]\n",
    "    "
   ]
  },
  {
   "cell_type": "code",
   "execution_count": 31,
   "metadata": {},
   "outputs": [
    {
     "data": {
      "text/html": [
       "<div>\n",
       "<style scoped>\n",
       "    .dataframe tbody tr th:only-of-type {\n",
       "        vertical-align: middle;\n",
       "    }\n",
       "\n",
       "    .dataframe tbody tr th {\n",
       "        vertical-align: top;\n",
       "    }\n",
       "\n",
       "    .dataframe thead th {\n",
       "        text-align: right;\n",
       "    }\n",
       "</style>\n",
       "<table border=\"1\" class=\"dataframe\">\n",
       "  <thead>\n",
       "    <tr style=\"text-align: right;\">\n",
       "      <th></th>\n",
       "      <th>count</th>\n",
       "      <th>mean</th>\n",
       "      <th>std</th>\n",
       "      <th>min</th>\n",
       "      <th>1%</th>\n",
       "      <th>2.5%</th>\n",
       "      <th>5%</th>\n",
       "      <th>50%</th>\n",
       "      <th>75%</th>\n",
       "      <th>80%</th>\n",
       "      <th>85%</th>\n",
       "      <th>87%</th>\n",
       "      <th>89%</th>\n",
       "      <th>90%</th>\n",
       "      <th>95%</th>\n",
       "      <th>96%</th>\n",
       "      <th>97%</th>\n",
       "      <th>98%</th>\n",
       "      <th>99%</th>\n",
       "      <th>max</th>\n",
       "    </tr>\n",
       "  </thead>\n",
       "  <tbody>\n",
       "    <tr>\n",
       "      <th>avgAnnCount</th>\n",
       "      <td>3047.0</td>\n",
       "      <td>470.818375</td>\n",
       "      <td>632.716946</td>\n",
       "      <td>11.000000</td>\n",
       "      <td>11.000000</td>\n",
       "      <td>16.000000</td>\n",
       "      <td>23.000000</td>\n",
       "      <td>171.000000</td>\n",
       "      <td>518.000000</td>\n",
       "      <td>744.600000</td>\n",
       "      <td>1190.500000</td>\n",
       "      <td>1573.300000</td>\n",
       "      <td>1962.667684</td>\n",
       "      <td>1962.667684</td>\n",
       "      <td>1969.200519</td>\n",
       "      <td>1972.000305</td>\n",
       "      <td>1972.000305</td>\n",
       "      <td>1972.000305</td>\n",
       "      <td>1972.000305</td>\n",
       "      <td>1972.000305</td>\n",
       "    </tr>\n",
       "    <tr>\n",
       "      <th>avgDeathsPerYear</th>\n",
       "      <td>3047.0</td>\n",
       "      <td>137.114276</td>\n",
       "      <td>188.283115</td>\n",
       "      <td>4.000000</td>\n",
       "      <td>4.000000</td>\n",
       "      <td>6.000000</td>\n",
       "      <td>9.000000</td>\n",
       "      <td>61.000000</td>\n",
       "      <td>149.000000</td>\n",
       "      <td>188.000000</td>\n",
       "      <td>253.000000</td>\n",
       "      <td>292.020000</td>\n",
       "      <td>343.000000</td>\n",
       "      <td>378.400000</td>\n",
       "      <td>748.980000</td>\n",
       "      <td>749.400000</td>\n",
       "      <td>749.400000</td>\n",
       "      <td>749.400000</td>\n",
       "      <td>749.400000</td>\n",
       "      <td>749.400000</td>\n",
       "    </tr>\n",
       "    <tr>\n",
       "      <th>TARGET_deathRate</th>\n",
       "      <td>3047.0</td>\n",
       "      <td>177.923871</td>\n",
       "      <td>25.307692</td>\n",
       "      <td>114.246000</td>\n",
       "      <td>114.270840</td>\n",
       "      <td>126.000000</td>\n",
       "      <td>134.130000</td>\n",
       "      <td>178.100000</td>\n",
       "      <td>195.200000</td>\n",
       "      <td>200.200000</td>\n",
       "      <td>205.600000</td>\n",
       "      <td>208.700000</td>\n",
       "      <td>211.700000</td>\n",
       "      <td>213.340000</td>\n",
       "      <td>224.349000</td>\n",
       "      <td>224.370000</td>\n",
       "      <td>224.370000</td>\n",
       "      <td>224.370000</td>\n",
       "      <td>224.370000</td>\n",
       "      <td>224.370000</td>\n",
       "    </tr>\n",
       "    <tr>\n",
       "      <th>incidenceRate</th>\n",
       "      <td>3047.0</td>\n",
       "      <td>447.108669</td>\n",
       "      <td>48.525392</td>\n",
       "      <td>297.614000</td>\n",
       "      <td>297.837560</td>\n",
       "      <td>331.130000</td>\n",
       "      <td>355.130000</td>\n",
       "      <td>453.549422</td>\n",
       "      <td>480.850000</td>\n",
       "      <td>488.080000</td>\n",
       "      <td>495.400000</td>\n",
       "      <td>500.100000</td>\n",
       "      <td>504.800000</td>\n",
       "      <td>507.340000</td>\n",
       "      <td>525.000000</td>\n",
       "      <td>525.000000</td>\n",
       "      <td>525.000000</td>\n",
       "      <td>525.000000</td>\n",
       "      <td>525.000000</td>\n",
       "      <td>525.000000</td>\n",
       "    </tr>\n",
       "    <tr>\n",
       "      <th>medIncome</th>\n",
       "      <td>3047.0</td>\n",
       "      <td>46514.350994</td>\n",
       "      <td>10301.040669</td>\n",
       "      <td>27438.880000</td>\n",
       "      <td>27458.255200</td>\n",
       "      <td>29821.150000</td>\n",
       "      <td>31837.700000</td>\n",
       "      <td>45207.000000</td>\n",
       "      <td>52492.000000</td>\n",
       "      <td>54530.600000</td>\n",
       "      <td>57369.900000</td>\n",
       "      <td>58833.680000</td>\n",
       "      <td>60387.940000</td>\n",
       "      <td>61322.600000</td>\n",
       "      <td>69945.080000</td>\n",
       "      <td>69964.400000</td>\n",
       "      <td>69964.400000</td>\n",
       "      <td>69964.400000</td>\n",
       "      <td>69964.400000</td>\n",
       "      <td>69964.400000</td>\n",
       "    </tr>\n",
       "    <tr>\n",
       "      <th>popEst2015</th>\n",
       "      <td>3047.0</td>\n",
       "      <td>71768.722199</td>\n",
       "      <td>109552.094682</td>\n",
       "      <td>1905.040000</td>\n",
       "      <td>1911.001600</td>\n",
       "      <td>2478.050000</td>\n",
       "      <td>3666.200000</td>\n",
       "      <td>26643.000000</td>\n",
       "      <td>68671.000000</td>\n",
       "      <td>94302.000000</td>\n",
       "      <td>135968.200000</td>\n",
       "      <td>159437.160000</td>\n",
       "      <td>187286.120000</td>\n",
       "      <td>207791.200000</td>\n",
       "      <td>436181.670000</td>\n",
       "      <td>436220.100000</td>\n",
       "      <td>436220.100000</td>\n",
       "      <td>436220.100000</td>\n",
       "      <td>436220.100000</td>\n",
       "      <td>436220.100000</td>\n",
       "    </tr>\n",
       "    <tr>\n",
       "      <th>povertyPercent</th>\n",
       "      <td>3047.0</td>\n",
       "      <td>16.651165</td>\n",
       "      <td>5.766460</td>\n",
       "      <td>6.000000</td>\n",
       "      <td>6.000000</td>\n",
       "      <td>7.200000</td>\n",
       "      <td>8.300000</td>\n",
       "      <td>15.900000</td>\n",
       "      <td>20.400000</td>\n",
       "      <td>21.700000</td>\n",
       "      <td>23.300000</td>\n",
       "      <td>24.000000</td>\n",
       "      <td>24.900000</td>\n",
       "      <td>25.300000</td>\n",
       "      <td>28.700000</td>\n",
       "      <td>28.700000</td>\n",
       "      <td>28.700000</td>\n",
       "      <td>28.700000</td>\n",
       "      <td>28.700000</td>\n",
       "      <td>28.700000</td>\n",
       "    </tr>\n",
       "    <tr>\n",
       "      <th>studyPerCap</th>\n",
       "      <td>3047.0</td>\n",
       "      <td>100.571467</td>\n",
       "      <td>203.199708</td>\n",
       "      <td>0.000000</td>\n",
       "      <td>0.000000</td>\n",
       "      <td>0.000000</td>\n",
       "      <td>0.000000</td>\n",
       "      <td>0.000000</td>\n",
       "      <td>83.650776</td>\n",
       "      <td>146.591242</td>\n",
       "      <td>246.225252</td>\n",
       "      <td>301.416027</td>\n",
       "      <td>376.897577</td>\n",
       "      <td>412.808075</td>\n",
       "      <td>746.088358</td>\n",
       "      <td>747.578565</td>\n",
       "      <td>747.578565</td>\n",
       "      <td>747.578565</td>\n",
       "      <td>747.578565</td>\n",
       "      <td>747.578565</td>\n",
       "    </tr>\n",
       "    <tr>\n",
       "      <th>binnedInc</th>\n",
       "      <td>3047.0</td>\n",
       "      <td>0.299639</td>\n",
       "      <td>0.458175</td>\n",
       "      <td>0.000000</td>\n",
       "      <td>0.000000</td>\n",
       "      <td>0.000000</td>\n",
       "      <td>0.000000</td>\n",
       "      <td>0.000000</td>\n",
       "      <td>1.000000</td>\n",
       "      <td>1.000000</td>\n",
       "      <td>1.000000</td>\n",
       "      <td>1.000000</td>\n",
       "      <td>1.000000</td>\n",
       "      <td>1.000000</td>\n",
       "      <td>1.000000</td>\n",
       "      <td>1.000000</td>\n",
       "      <td>1.000000</td>\n",
       "      <td>1.000000</td>\n",
       "      <td>1.000000</td>\n",
       "      <td>1.000000</td>\n",
       "    </tr>\n",
       "    <tr>\n",
       "      <th>MedianAge</th>\n",
       "      <td>3047.0</td>\n",
       "      <td>40.847361</td>\n",
       "      <td>4.985834</td>\n",
       "      <td>27.900000</td>\n",
       "      <td>27.900000</td>\n",
       "      <td>30.115000</td>\n",
       "      <td>31.930000</td>\n",
       "      <td>41.000000</td>\n",
       "      <td>44.000000</td>\n",
       "      <td>44.900000</td>\n",
       "      <td>46.100000</td>\n",
       "      <td>46.700000</td>\n",
       "      <td>47.394000</td>\n",
       "      <td>47.700000</td>\n",
       "      <td>50.149000</td>\n",
       "      <td>50.170000</td>\n",
       "      <td>50.170000</td>\n",
       "      <td>50.170000</td>\n",
       "      <td>50.170000</td>\n",
       "      <td>50.170000</td>\n",
       "    </tr>\n",
       "    <tr>\n",
       "      <th>MedianAgeMale</th>\n",
       "      <td>3047.0</td>\n",
       "      <td>39.446275</td>\n",
       "      <td>4.866451</td>\n",
       "      <td>26.600000</td>\n",
       "      <td>26.600000</td>\n",
       "      <td>29.015000</td>\n",
       "      <td>31.000000</td>\n",
       "      <td>39.600000</td>\n",
       "      <td>42.500000</td>\n",
       "      <td>43.400000</td>\n",
       "      <td>44.600000</td>\n",
       "      <td>45.200000</td>\n",
       "      <td>45.700000</td>\n",
       "      <td>46.100000</td>\n",
       "      <td>48.600000</td>\n",
       "      <td>48.600000</td>\n",
       "      <td>48.600000</td>\n",
       "      <td>48.600000</td>\n",
       "      <td>48.600000</td>\n",
       "      <td>48.600000</td>\n",
       "    </tr>\n",
       "    <tr>\n",
       "      <th>MedianAgeFemale</th>\n",
       "      <td>3047.0</td>\n",
       "      <td>42.052224</td>\n",
       "      <td>4.971510</td>\n",
       "      <td>28.646000</td>\n",
       "      <td>28.670840</td>\n",
       "      <td>30.900000</td>\n",
       "      <td>32.900000</td>\n",
       "      <td>42.400000</td>\n",
       "      <td>45.300000</td>\n",
       "      <td>46.200000</td>\n",
       "      <td>47.400000</td>\n",
       "      <td>47.900000</td>\n",
       "      <td>48.400000</td>\n",
       "      <td>48.600000</td>\n",
       "      <td>50.600000</td>\n",
       "      <td>50.600000</td>\n",
       "      <td>50.600000</td>\n",
       "      <td>50.600000</td>\n",
       "      <td>50.600000</td>\n",
       "      <td>50.600000</td>\n",
       "    </tr>\n",
       "    <tr>\n",
       "      <th>AvgHouseholdSize</th>\n",
       "      <td>3047.0</td>\n",
       "      <td>2.467606</td>\n",
       "      <td>0.407761</td>\n",
       "      <td>0.024900</td>\n",
       "      <td>0.024900</td>\n",
       "      <td>2.040000</td>\n",
       "      <td>2.140000</td>\n",
       "      <td>2.500000</td>\n",
       "      <td>2.630000</td>\n",
       "      <td>2.680000</td>\n",
       "      <td>2.740000</td>\n",
       "      <td>2.760000</td>\n",
       "      <td>2.800000</td>\n",
       "      <td>2.820000</td>\n",
       "      <td>2.980000</td>\n",
       "      <td>2.980000</td>\n",
       "      <td>2.980000</td>\n",
       "      <td>2.980000</td>\n",
       "      <td>2.980000</td>\n",
       "      <td>2.980000</td>\n",
       "    </tr>\n",
       "    <tr>\n",
       "      <th>PercentMarried</th>\n",
       "      <td>3047.0</td>\n",
       "      <td>51.690992</td>\n",
       "      <td>6.626116</td>\n",
       "      <td>30.292000</td>\n",
       "      <td>30.341680</td>\n",
       "      <td>35.615000</td>\n",
       "      <td>39.300000</td>\n",
       "      <td>52.400000</td>\n",
       "      <td>56.400000</td>\n",
       "      <td>57.300000</td>\n",
       "      <td>58.500000</td>\n",
       "      <td>59.100000</td>\n",
       "      <td>59.694000</td>\n",
       "      <td>59.940000</td>\n",
       "      <td>61.900000</td>\n",
       "      <td>61.900000</td>\n",
       "      <td>61.900000</td>\n",
       "      <td>61.900000</td>\n",
       "      <td>61.900000</td>\n",
       "      <td>61.900000</td>\n",
       "    </tr>\n",
       "    <tr>\n",
       "      <th>PctNoHS18_24</th>\n",
       "      <td>3047.0</td>\n",
       "      <td>17.925307</td>\n",
       "      <td>7.189158</td>\n",
       "      <td>3.500000</td>\n",
       "      <td>3.500000</td>\n",
       "      <td>5.100000</td>\n",
       "      <td>6.900000</td>\n",
       "      <td>17.100000</td>\n",
       "      <td>22.700000</td>\n",
       "      <td>24.300000</td>\n",
       "      <td>25.800000</td>\n",
       "      <td>26.800000</td>\n",
       "      <td>27.800000</td>\n",
       "      <td>28.600000</td>\n",
       "      <td>32.849000</td>\n",
       "      <td>32.870000</td>\n",
       "      <td>32.870000</td>\n",
       "      <td>32.870000</td>\n",
       "      <td>32.870000</td>\n",
       "      <td>32.870000</td>\n",
       "    </tr>\n",
       "    <tr>\n",
       "      <th>PctHS18_24</th>\n",
       "      <td>3047.0</td>\n",
       "      <td>34.782179</td>\n",
       "      <td>8.453723</td>\n",
       "      <td>13.400000</td>\n",
       "      <td>13.400000</td>\n",
       "      <td>16.915000</td>\n",
       "      <td>20.400000</td>\n",
       "      <td>34.700000</td>\n",
       "      <td>40.700000</td>\n",
       "      <td>41.900000</td>\n",
       "      <td>43.800000</td>\n",
       "      <td>44.600000</td>\n",
       "      <td>45.600000</td>\n",
       "      <td>46.100000</td>\n",
       "      <td>50.600000</td>\n",
       "      <td>50.600000</td>\n",
       "      <td>50.600000</td>\n",
       "      <td>50.600000</td>\n",
       "      <td>50.600000</td>\n",
       "      <td>50.600000</td>\n",
       "    </tr>\n",
       "    <tr>\n",
       "      <th>PctBachDeg18_24</th>\n",
       "      <td>3047.0</td>\n",
       "      <td>5.936692</td>\n",
       "      <td>3.771394</td>\n",
       "      <td>0.000000</td>\n",
       "      <td>0.000000</td>\n",
       "      <td>0.000000</td>\n",
       "      <td>0.500000</td>\n",
       "      <td>5.400000</td>\n",
       "      <td>8.200000</td>\n",
       "      <td>9.100000</td>\n",
       "      <td>10.100000</td>\n",
       "      <td>10.700000</td>\n",
       "      <td>11.300000</td>\n",
       "      <td>11.700000</td>\n",
       "      <td>14.300000</td>\n",
       "      <td>14.300000</td>\n",
       "      <td>14.300000</td>\n",
       "      <td>14.300000</td>\n",
       "      <td>14.300000</td>\n",
       "      <td>14.300000</td>\n",
       "    </tr>\n",
       "    <tr>\n",
       "      <th>PctHS25_Over</th>\n",
       "      <td>3047.0</td>\n",
       "      <td>34.695865</td>\n",
       "      <td>6.701391</td>\n",
       "      <td>16.800000</td>\n",
       "      <td>16.800000</td>\n",
       "      <td>19.715000</td>\n",
       "      <td>22.230000</td>\n",
       "      <td>35.300000</td>\n",
       "      <td>39.650000</td>\n",
       "      <td>40.880000</td>\n",
       "      <td>42.100000</td>\n",
       "      <td>42.600000</td>\n",
       "      <td>43.200000</td>\n",
       "      <td>43.400000</td>\n",
       "      <td>45.400000</td>\n",
       "      <td>45.400000</td>\n",
       "      <td>45.400000</td>\n",
       "      <td>45.400000</td>\n",
       "      <td>45.400000</td>\n",
       "      <td>45.400000</td>\n",
       "    </tr>\n",
       "    <tr>\n",
       "      <th>PctBachDeg25_Over</th>\n",
       "      <td>3047.0</td>\n",
       "      <td>13.081764</td>\n",
       "      <td>4.816241</td>\n",
       "      <td>4.746000</td>\n",
       "      <td>4.770840</td>\n",
       "      <td>5.600000</td>\n",
       "      <td>6.400000</td>\n",
       "      <td>12.300000</td>\n",
       "      <td>16.100000</td>\n",
       "      <td>17.300000</td>\n",
       "      <td>18.700000</td>\n",
       "      <td>19.400000</td>\n",
       "      <td>20.000000</td>\n",
       "      <td>20.400000</td>\n",
       "      <td>23.449000</td>\n",
       "      <td>23.470000</td>\n",
       "      <td>23.470000</td>\n",
       "      <td>23.470000</td>\n",
       "      <td>23.470000</td>\n",
       "      <td>23.470000</td>\n",
       "    </tr>\n",
       "    <tr>\n",
       "      <th>PctEmployed16_Over</th>\n",
       "      <td>3047.0</td>\n",
       "      <td>54.070671</td>\n",
       "      <td>7.726317</td>\n",
       "      <td>32.346000</td>\n",
       "      <td>32.370840</td>\n",
       "      <td>37.130000</td>\n",
       "      <td>40.230000</td>\n",
       "      <td>54.500000</td>\n",
       "      <td>60.000000</td>\n",
       "      <td>61.200000</td>\n",
       "      <td>62.600000</td>\n",
       "      <td>63.200000</td>\n",
       "      <td>63.800000</td>\n",
       "      <td>64.200000</td>\n",
       "      <td>66.249000</td>\n",
       "      <td>66.270000</td>\n",
       "      <td>66.270000</td>\n",
       "      <td>66.270000</td>\n",
       "      <td>66.270000</td>\n",
       "      <td>66.270000</td>\n",
       "    </tr>\n",
       "    <tr>\n",
       "      <th>PctUnemployed16_Over</th>\n",
       "      <td>3047.0</td>\n",
       "      <td>7.714506</td>\n",
       "      <td>3.058978</td>\n",
       "      <td>1.200000</td>\n",
       "      <td>1.200000</td>\n",
       "      <td>1.915000</td>\n",
       "      <td>2.800000</td>\n",
       "      <td>7.600000</td>\n",
       "      <td>9.700000</td>\n",
       "      <td>10.300000</td>\n",
       "      <td>11.100000</td>\n",
       "      <td>11.500000</td>\n",
       "      <td>12.000000</td>\n",
       "      <td>12.200000</td>\n",
       "      <td>13.800000</td>\n",
       "      <td>13.800000</td>\n",
       "      <td>13.800000</td>\n",
       "      <td>13.800000</td>\n",
       "      <td>13.800000</td>\n",
       "      <td>13.800000</td>\n",
       "    </tr>\n",
       "    <tr>\n",
       "      <th>PctPrivateCoverage</th>\n",
       "      <td>3047.0</td>\n",
       "      <td>64.266225</td>\n",
       "      <td>10.308039</td>\n",
       "      <td>36.138000</td>\n",
       "      <td>36.212520</td>\n",
       "      <td>41.700000</td>\n",
       "      <td>46.400000</td>\n",
       "      <td>65.100000</td>\n",
       "      <td>72.100000</td>\n",
       "      <td>73.800000</td>\n",
       "      <td>75.700000</td>\n",
       "      <td>76.300000</td>\n",
       "      <td>77.100000</td>\n",
       "      <td>77.600000</td>\n",
       "      <td>80.549000</td>\n",
       "      <td>80.570000</td>\n",
       "      <td>80.570000</td>\n",
       "      <td>80.570000</td>\n",
       "      <td>80.570000</td>\n",
       "      <td>80.570000</td>\n",
       "    </tr>\n",
       "    <tr>\n",
       "      <th>PctPrivateCoverageAlone</th>\n",
       "      <td>3047.0</td>\n",
       "      <td>48.349491</td>\n",
       "      <td>8.555723</td>\n",
       "      <td>26.600000</td>\n",
       "      <td>26.600000</td>\n",
       "      <td>30.100000</td>\n",
       "      <td>33.200000</td>\n",
       "      <td>48.700000</td>\n",
       "      <td>53.800000</td>\n",
       "      <td>55.600000</td>\n",
       "      <td>57.600000</td>\n",
       "      <td>58.600000</td>\n",
       "      <td>59.994000</td>\n",
       "      <td>60.400000</td>\n",
       "      <td>64.000000</td>\n",
       "      <td>64.000000</td>\n",
       "      <td>64.000000</td>\n",
       "      <td>64.000000</td>\n",
       "      <td>64.000000</td>\n",
       "      <td>64.000000</td>\n",
       "    </tr>\n",
       "    <tr>\n",
       "      <th>PctEmpPrivCoverage</th>\n",
       "      <td>3047.0</td>\n",
       "      <td>41.026551</td>\n",
       "      <td>9.004599</td>\n",
       "      <td>20.600000</td>\n",
       "      <td>20.600000</td>\n",
       "      <td>23.715000</td>\n",
       "      <td>26.000000</td>\n",
       "      <td>41.100000</td>\n",
       "      <td>47.700000</td>\n",
       "      <td>49.200000</td>\n",
       "      <td>51.300000</td>\n",
       "      <td>52.100000</td>\n",
       "      <td>53.294000</td>\n",
       "      <td>53.740000</td>\n",
       "      <td>56.800000</td>\n",
       "      <td>56.800000</td>\n",
       "      <td>56.800000</td>\n",
       "      <td>56.800000</td>\n",
       "      <td>56.800000</td>\n",
       "      <td>56.800000</td>\n",
       "    </tr>\n",
       "    <tr>\n",
       "      <th>PctPublicCoverage</th>\n",
       "      <td>3047.0</td>\n",
       "      <td>36.106835</td>\n",
       "      <td>7.430955</td>\n",
       "      <td>18.546000</td>\n",
       "      <td>18.570840</td>\n",
       "      <td>20.800000</td>\n",
       "      <td>23.000000</td>\n",
       "      <td>36.300000</td>\n",
       "      <td>41.550000</td>\n",
       "      <td>42.900000</td>\n",
       "      <td>44.200000</td>\n",
       "      <td>44.902000</td>\n",
       "      <td>45.700000</td>\n",
       "      <td>46.200000</td>\n",
       "      <td>49.000000</td>\n",
       "      <td>49.000000</td>\n",
       "      <td>49.000000</td>\n",
       "      <td>49.000000</td>\n",
       "      <td>49.000000</td>\n",
       "      <td>49.000000</td>\n",
       "    </tr>\n",
       "    <tr>\n",
       "      <th>PctPublicCoverageAlone</th>\n",
       "      <td>3047.0</td>\n",
       "      <td>19.071972</td>\n",
       "      <td>5.645834</td>\n",
       "      <td>7.400000</td>\n",
       "      <td>7.400000</td>\n",
       "      <td>8.715000</td>\n",
       "      <td>10.000000</td>\n",
       "      <td>18.800000</td>\n",
       "      <td>23.100000</td>\n",
       "      <td>24.200000</td>\n",
       "      <td>25.510000</td>\n",
       "      <td>26.002000</td>\n",
       "      <td>26.600000</td>\n",
       "      <td>27.000000</td>\n",
       "      <td>29.900000</td>\n",
       "      <td>29.900000</td>\n",
       "      <td>29.900000</td>\n",
       "      <td>29.900000</td>\n",
       "      <td>29.900000</td>\n",
       "      <td>29.900000</td>\n",
       "    </tr>\n",
       "    <tr>\n",
       "      <th>PctWhite</th>\n",
       "      <td>3047.0</td>\n",
       "      <td>83.687486</td>\n",
       "      <td>16.088433</td>\n",
       "      <td>26.180228</td>\n",
       "      <td>26.393364</td>\n",
       "      <td>38.503148</td>\n",
       "      <td>47.960618</td>\n",
       "      <td>90.059774</td>\n",
       "      <td>95.451693</td>\n",
       "      <td>96.145122</td>\n",
       "      <td>96.663481</td>\n",
       "      <td>96.844203</td>\n",
       "      <td>97.116938</td>\n",
       "      <td>97.200572</td>\n",
       "      <td>97.766562</td>\n",
       "      <td>97.767008</td>\n",
       "      <td>97.767008</td>\n",
       "      <td>97.767008</td>\n",
       "      <td>97.767008</td>\n",
       "      <td>97.767008</td>\n",
       "    </tr>\n",
       "    <tr>\n",
       "      <th>PctBlack</th>\n",
       "      <td>3047.0</td>\n",
       "      <td>8.426348</td>\n",
       "      <td>12.282166</td>\n",
       "      <td>0.000000</td>\n",
       "      <td>0.000000</td>\n",
       "      <td>0.018508</td>\n",
       "      <td>0.100679</td>\n",
       "      <td>2.247576</td>\n",
       "      <td>10.509732</td>\n",
       "      <td>15.007440</td>\n",
       "      <td>21.419755</td>\n",
       "      <td>24.954835</td>\n",
       "      <td>28.663823</td>\n",
       "      <td>30.371540</td>\n",
       "      <td>42.162954</td>\n",
       "      <td>42.170255</td>\n",
       "      <td>42.170255</td>\n",
       "      <td>42.170255</td>\n",
       "      <td>42.170255</td>\n",
       "      <td>42.170255</td>\n",
       "    </tr>\n",
       "    <tr>\n",
       "      <th>PctAsian</th>\n",
       "      <td>3047.0</td>\n",
       "      <td>1.000337</td>\n",
       "      <td>1.175712</td>\n",
       "      <td>0.000000</td>\n",
       "      <td>0.000000</td>\n",
       "      <td>0.000000</td>\n",
       "      <td>0.000000</td>\n",
       "      <td>0.549812</td>\n",
       "      <td>1.221037</td>\n",
       "      <td>1.494888</td>\n",
       "      <td>2.024262</td>\n",
       "      <td>2.268152</td>\n",
       "      <td>2.622299</td>\n",
       "      <td>2.812328</td>\n",
       "      <td>4.471147</td>\n",
       "      <td>4.471892</td>\n",
       "      <td>4.471892</td>\n",
       "      <td>4.471892</td>\n",
       "      <td>4.471892</td>\n",
       "      <td>4.471892</td>\n",
       "    </tr>\n",
       "    <tr>\n",
       "      <th>PctOtherRace</th>\n",
       "      <td>3047.0</td>\n",
       "      <td>1.685452</td>\n",
       "      <td>2.094989</td>\n",
       "      <td>0.000000</td>\n",
       "      <td>0.000000</td>\n",
       "      <td>0.000000</td>\n",
       "      <td>0.014080</td>\n",
       "      <td>0.826185</td>\n",
       "      <td>2.177960</td>\n",
       "      <td>2.746097</td>\n",
       "      <td>3.508575</td>\n",
       "      <td>4.068502</td>\n",
       "      <td>4.442572</td>\n",
       "      <td>4.843935</td>\n",
       "      <td>7.857328</td>\n",
       "      <td>7.858399</td>\n",
       "      <td>7.858399</td>\n",
       "      <td>7.858399</td>\n",
       "      <td>7.858399</td>\n",
       "      <td>7.858399</td>\n",
       "    </tr>\n",
       "    <tr>\n",
       "      <th>PctMarriedHouseholds</th>\n",
       "      <td>3047.0</td>\n",
       "      <td>51.119582</td>\n",
       "      <td>6.122218</td>\n",
       "      <td>31.653827</td>\n",
       "      <td>31.672301</td>\n",
       "      <td>36.359620</td>\n",
       "      <td>39.730604</td>\n",
       "      <td>51.669941</td>\n",
       "      <td>55.395132</td>\n",
       "      <td>56.349658</td>\n",
       "      <td>57.359375</td>\n",
       "      <td>57.865607</td>\n",
       "      <td>58.397065</td>\n",
       "      <td>58.666986</td>\n",
       "      <td>60.985888</td>\n",
       "      <td>60.994728</td>\n",
       "      <td>60.994728</td>\n",
       "      <td>60.994728</td>\n",
       "      <td>60.994728</td>\n",
       "      <td>60.994728</td>\n",
       "    </tr>\n",
       "    <tr>\n",
       "      <th>BirthRate</th>\n",
       "      <td>3047.0</td>\n",
       "      <td>5.551290</td>\n",
       "      <td>1.675064</td>\n",
       "      <td>1.547823</td>\n",
       "      <td>1.548805</td>\n",
       "      <td>2.249885</td>\n",
       "      <td>2.874904</td>\n",
       "      <td>5.381478</td>\n",
       "      <td>6.493677</td>\n",
       "      <td>6.828777</td>\n",
       "      <td>7.253332</td>\n",
       "      <td>7.474638</td>\n",
       "      <td>7.828893</td>\n",
       "      <td>7.983664</td>\n",
       "      <td>9.182984</td>\n",
       "      <td>9.185456</td>\n",
       "      <td>9.185456</td>\n",
       "      <td>9.185456</td>\n",
       "      <td>9.185456</td>\n",
       "      <td>9.185456</td>\n",
       "    </tr>\n",
       "  </tbody>\n",
       "</table>\n",
       "</div>"
      ],
      "text/plain": [
       "                          count          mean            std           min  \\\n",
       "avgAnnCount              3047.0    470.818375     632.716946     11.000000   \n",
       "avgDeathsPerYear         3047.0    137.114276     188.283115      4.000000   \n",
       "TARGET_deathRate         3047.0    177.923871      25.307692    114.246000   \n",
       "incidenceRate            3047.0    447.108669      48.525392    297.614000   \n",
       "medIncome                3047.0  46514.350994   10301.040669  27438.880000   \n",
       "popEst2015               3047.0  71768.722199  109552.094682   1905.040000   \n",
       "povertyPercent           3047.0     16.651165       5.766460      6.000000   \n",
       "studyPerCap              3047.0    100.571467     203.199708      0.000000   \n",
       "binnedInc                3047.0      0.299639       0.458175      0.000000   \n",
       "MedianAge                3047.0     40.847361       4.985834     27.900000   \n",
       "MedianAgeMale            3047.0     39.446275       4.866451     26.600000   \n",
       "MedianAgeFemale          3047.0     42.052224       4.971510     28.646000   \n",
       "AvgHouseholdSize         3047.0      2.467606       0.407761      0.024900   \n",
       "PercentMarried           3047.0     51.690992       6.626116     30.292000   \n",
       "PctNoHS18_24             3047.0     17.925307       7.189158      3.500000   \n",
       "PctHS18_24               3047.0     34.782179       8.453723     13.400000   \n",
       "PctBachDeg18_24          3047.0      5.936692       3.771394      0.000000   \n",
       "PctHS25_Over             3047.0     34.695865       6.701391     16.800000   \n",
       "PctBachDeg25_Over        3047.0     13.081764       4.816241      4.746000   \n",
       "PctEmployed16_Over       3047.0     54.070671       7.726317     32.346000   \n",
       "PctUnemployed16_Over     3047.0      7.714506       3.058978      1.200000   \n",
       "PctPrivateCoverage       3047.0     64.266225      10.308039     36.138000   \n",
       "PctPrivateCoverageAlone  3047.0     48.349491       8.555723     26.600000   \n",
       "PctEmpPrivCoverage       3047.0     41.026551       9.004599     20.600000   \n",
       "PctPublicCoverage        3047.0     36.106835       7.430955     18.546000   \n",
       "PctPublicCoverageAlone   3047.0     19.071972       5.645834      7.400000   \n",
       "PctWhite                 3047.0     83.687486      16.088433     26.180228   \n",
       "PctBlack                 3047.0      8.426348      12.282166      0.000000   \n",
       "PctAsian                 3047.0      1.000337       1.175712      0.000000   \n",
       "PctOtherRace             3047.0      1.685452       2.094989      0.000000   \n",
       "PctMarriedHouseholds     3047.0     51.119582       6.122218     31.653827   \n",
       "BirthRate                3047.0      5.551290       1.675064      1.547823   \n",
       "\n",
       "                                   1%          2.5%            5%  \\\n",
       "avgAnnCount                 11.000000     16.000000     23.000000   \n",
       "avgDeathsPerYear             4.000000      6.000000      9.000000   \n",
       "TARGET_deathRate           114.270840    126.000000    134.130000   \n",
       "incidenceRate              297.837560    331.130000    355.130000   \n",
       "medIncome                27458.255200  29821.150000  31837.700000   \n",
       "popEst2015                1911.001600   2478.050000   3666.200000   \n",
       "povertyPercent               6.000000      7.200000      8.300000   \n",
       "studyPerCap                  0.000000      0.000000      0.000000   \n",
       "binnedInc                    0.000000      0.000000      0.000000   \n",
       "MedianAge                   27.900000     30.115000     31.930000   \n",
       "MedianAgeMale               26.600000     29.015000     31.000000   \n",
       "MedianAgeFemale             28.670840     30.900000     32.900000   \n",
       "AvgHouseholdSize             0.024900      2.040000      2.140000   \n",
       "PercentMarried              30.341680     35.615000     39.300000   \n",
       "PctNoHS18_24                 3.500000      5.100000      6.900000   \n",
       "PctHS18_24                  13.400000     16.915000     20.400000   \n",
       "PctBachDeg18_24              0.000000      0.000000      0.500000   \n",
       "PctHS25_Over                16.800000     19.715000     22.230000   \n",
       "PctBachDeg25_Over            4.770840      5.600000      6.400000   \n",
       "PctEmployed16_Over          32.370840     37.130000     40.230000   \n",
       "PctUnemployed16_Over         1.200000      1.915000      2.800000   \n",
       "PctPrivateCoverage          36.212520     41.700000     46.400000   \n",
       "PctPrivateCoverageAlone     26.600000     30.100000     33.200000   \n",
       "PctEmpPrivCoverage          20.600000     23.715000     26.000000   \n",
       "PctPublicCoverage           18.570840     20.800000     23.000000   \n",
       "PctPublicCoverageAlone       7.400000      8.715000     10.000000   \n",
       "PctWhite                    26.393364     38.503148     47.960618   \n",
       "PctBlack                     0.000000      0.018508      0.100679   \n",
       "PctAsian                     0.000000      0.000000      0.000000   \n",
       "PctOtherRace                 0.000000      0.000000      0.014080   \n",
       "PctMarriedHouseholds        31.672301     36.359620     39.730604   \n",
       "BirthRate                    1.548805      2.249885      2.874904   \n",
       "\n",
       "                                  50%           75%           80%  \\\n",
       "avgAnnCount                171.000000    518.000000    744.600000   \n",
       "avgDeathsPerYear            61.000000    149.000000    188.000000   \n",
       "TARGET_deathRate           178.100000    195.200000    200.200000   \n",
       "incidenceRate              453.549422    480.850000    488.080000   \n",
       "medIncome                45207.000000  52492.000000  54530.600000   \n",
       "popEst2015               26643.000000  68671.000000  94302.000000   \n",
       "povertyPercent              15.900000     20.400000     21.700000   \n",
       "studyPerCap                  0.000000     83.650776    146.591242   \n",
       "binnedInc                    0.000000      1.000000      1.000000   \n",
       "MedianAge                   41.000000     44.000000     44.900000   \n",
       "MedianAgeMale               39.600000     42.500000     43.400000   \n",
       "MedianAgeFemale             42.400000     45.300000     46.200000   \n",
       "AvgHouseholdSize             2.500000      2.630000      2.680000   \n",
       "PercentMarried              52.400000     56.400000     57.300000   \n",
       "PctNoHS18_24                17.100000     22.700000     24.300000   \n",
       "PctHS18_24                  34.700000     40.700000     41.900000   \n",
       "PctBachDeg18_24              5.400000      8.200000      9.100000   \n",
       "PctHS25_Over                35.300000     39.650000     40.880000   \n",
       "PctBachDeg25_Over           12.300000     16.100000     17.300000   \n",
       "PctEmployed16_Over          54.500000     60.000000     61.200000   \n",
       "PctUnemployed16_Over         7.600000      9.700000     10.300000   \n",
       "PctPrivateCoverage          65.100000     72.100000     73.800000   \n",
       "PctPrivateCoverageAlone     48.700000     53.800000     55.600000   \n",
       "PctEmpPrivCoverage          41.100000     47.700000     49.200000   \n",
       "PctPublicCoverage           36.300000     41.550000     42.900000   \n",
       "PctPublicCoverageAlone      18.800000     23.100000     24.200000   \n",
       "PctWhite                    90.059774     95.451693     96.145122   \n",
       "PctBlack                     2.247576     10.509732     15.007440   \n",
       "PctAsian                     0.549812      1.221037      1.494888   \n",
       "PctOtherRace                 0.826185      2.177960      2.746097   \n",
       "PctMarriedHouseholds        51.669941     55.395132     56.349658   \n",
       "BirthRate                    5.381478      6.493677      6.828777   \n",
       "\n",
       "                                   85%            87%            89%  \\\n",
       "avgAnnCount                1190.500000    1573.300000    1962.667684   \n",
       "avgDeathsPerYear            253.000000     292.020000     343.000000   \n",
       "TARGET_deathRate            205.600000     208.700000     211.700000   \n",
       "incidenceRate               495.400000     500.100000     504.800000   \n",
       "medIncome                 57369.900000   58833.680000   60387.940000   \n",
       "popEst2015               135968.200000  159437.160000  187286.120000   \n",
       "povertyPercent               23.300000      24.000000      24.900000   \n",
       "studyPerCap                 246.225252     301.416027     376.897577   \n",
       "binnedInc                     1.000000       1.000000       1.000000   \n",
       "MedianAge                    46.100000      46.700000      47.394000   \n",
       "MedianAgeMale                44.600000      45.200000      45.700000   \n",
       "MedianAgeFemale              47.400000      47.900000      48.400000   \n",
       "AvgHouseholdSize              2.740000       2.760000       2.800000   \n",
       "PercentMarried               58.500000      59.100000      59.694000   \n",
       "PctNoHS18_24                 25.800000      26.800000      27.800000   \n",
       "PctHS18_24                   43.800000      44.600000      45.600000   \n",
       "PctBachDeg18_24              10.100000      10.700000      11.300000   \n",
       "PctHS25_Over                 42.100000      42.600000      43.200000   \n",
       "PctBachDeg25_Over            18.700000      19.400000      20.000000   \n",
       "PctEmployed16_Over           62.600000      63.200000      63.800000   \n",
       "PctUnemployed16_Over         11.100000      11.500000      12.000000   \n",
       "PctPrivateCoverage           75.700000      76.300000      77.100000   \n",
       "PctPrivateCoverageAlone      57.600000      58.600000      59.994000   \n",
       "PctEmpPrivCoverage           51.300000      52.100000      53.294000   \n",
       "PctPublicCoverage            44.200000      44.902000      45.700000   \n",
       "PctPublicCoverageAlone       25.510000      26.002000      26.600000   \n",
       "PctWhite                     96.663481      96.844203      97.116938   \n",
       "PctBlack                     21.419755      24.954835      28.663823   \n",
       "PctAsian                      2.024262       2.268152       2.622299   \n",
       "PctOtherRace                  3.508575       4.068502       4.442572   \n",
       "PctMarriedHouseholds         57.359375      57.865607      58.397065   \n",
       "BirthRate                     7.253332       7.474638       7.828893   \n",
       "\n",
       "                                   90%            95%            96%  \\\n",
       "avgAnnCount                1962.667684    1969.200519    1972.000305   \n",
       "avgDeathsPerYear            378.400000     748.980000     749.400000   \n",
       "TARGET_deathRate            213.340000     224.349000     224.370000   \n",
       "incidenceRate               507.340000     525.000000     525.000000   \n",
       "medIncome                 61322.600000   69945.080000   69964.400000   \n",
       "popEst2015               207791.200000  436181.670000  436220.100000   \n",
       "povertyPercent               25.300000      28.700000      28.700000   \n",
       "studyPerCap                 412.808075     746.088358     747.578565   \n",
       "binnedInc                     1.000000       1.000000       1.000000   \n",
       "MedianAge                    47.700000      50.149000      50.170000   \n",
       "MedianAgeMale                46.100000      48.600000      48.600000   \n",
       "MedianAgeFemale              48.600000      50.600000      50.600000   \n",
       "AvgHouseholdSize              2.820000       2.980000       2.980000   \n",
       "PercentMarried               59.940000      61.900000      61.900000   \n",
       "PctNoHS18_24                 28.600000      32.849000      32.870000   \n",
       "PctHS18_24                   46.100000      50.600000      50.600000   \n",
       "PctBachDeg18_24              11.700000      14.300000      14.300000   \n",
       "PctHS25_Over                 43.400000      45.400000      45.400000   \n",
       "PctBachDeg25_Over            20.400000      23.449000      23.470000   \n",
       "PctEmployed16_Over           64.200000      66.249000      66.270000   \n",
       "PctUnemployed16_Over         12.200000      13.800000      13.800000   \n",
       "PctPrivateCoverage           77.600000      80.549000      80.570000   \n",
       "PctPrivateCoverageAlone      60.400000      64.000000      64.000000   \n",
       "PctEmpPrivCoverage           53.740000      56.800000      56.800000   \n",
       "PctPublicCoverage            46.200000      49.000000      49.000000   \n",
       "PctPublicCoverageAlone       27.000000      29.900000      29.900000   \n",
       "PctWhite                     97.200572      97.766562      97.767008   \n",
       "PctBlack                     30.371540      42.162954      42.170255   \n",
       "PctAsian                      2.812328       4.471147       4.471892   \n",
       "PctOtherRace                  4.843935       7.857328       7.858399   \n",
       "PctMarriedHouseholds         58.666986      60.985888      60.994728   \n",
       "BirthRate                     7.983664       9.182984       9.185456   \n",
       "\n",
       "                                   97%            98%            99%  \\\n",
       "avgAnnCount                1972.000305    1972.000305    1972.000305   \n",
       "avgDeathsPerYear            749.400000     749.400000     749.400000   \n",
       "TARGET_deathRate            224.370000     224.370000     224.370000   \n",
       "incidenceRate               525.000000     525.000000     525.000000   \n",
       "medIncome                 69964.400000   69964.400000   69964.400000   \n",
       "popEst2015               436220.100000  436220.100000  436220.100000   \n",
       "povertyPercent               28.700000      28.700000      28.700000   \n",
       "studyPerCap                 747.578565     747.578565     747.578565   \n",
       "binnedInc                     1.000000       1.000000       1.000000   \n",
       "MedianAge                    50.170000      50.170000      50.170000   \n",
       "MedianAgeMale                48.600000      48.600000      48.600000   \n",
       "MedianAgeFemale              50.600000      50.600000      50.600000   \n",
       "AvgHouseholdSize              2.980000       2.980000       2.980000   \n",
       "PercentMarried               61.900000      61.900000      61.900000   \n",
       "PctNoHS18_24                 32.870000      32.870000      32.870000   \n",
       "PctHS18_24                   50.600000      50.600000      50.600000   \n",
       "PctBachDeg18_24              14.300000      14.300000      14.300000   \n",
       "PctHS25_Over                 45.400000      45.400000      45.400000   \n",
       "PctBachDeg25_Over            23.470000      23.470000      23.470000   \n",
       "PctEmployed16_Over           66.270000      66.270000      66.270000   \n",
       "PctUnemployed16_Over         13.800000      13.800000      13.800000   \n",
       "PctPrivateCoverage           80.570000      80.570000      80.570000   \n",
       "PctPrivateCoverageAlone      64.000000      64.000000      64.000000   \n",
       "PctEmpPrivCoverage           56.800000      56.800000      56.800000   \n",
       "PctPublicCoverage            49.000000      49.000000      49.000000   \n",
       "PctPublicCoverageAlone       29.900000      29.900000      29.900000   \n",
       "PctWhite                     97.767008      97.767008      97.767008   \n",
       "PctBlack                     42.170255      42.170255      42.170255   \n",
       "PctAsian                      4.471892       4.471892       4.471892   \n",
       "PctOtherRace                  7.858399       7.858399       7.858399   \n",
       "PctMarriedHouseholds         60.994728      60.994728      60.994728   \n",
       "BirthRate                     9.185456       9.185456       9.185456   \n",
       "\n",
       "                                   max  \n",
       "avgAnnCount                1972.000305  \n",
       "avgDeathsPerYear            749.400000  \n",
       "TARGET_deathRate            224.370000  \n",
       "incidenceRate               525.000000  \n",
       "medIncome                 69964.400000  \n",
       "popEst2015               436220.100000  \n",
       "povertyPercent               28.700000  \n",
       "studyPerCap                 747.578565  \n",
       "binnedInc                     1.000000  \n",
       "MedianAge                    50.170000  \n",
       "MedianAgeMale                48.600000  \n",
       "MedianAgeFemale              50.600000  \n",
       "AvgHouseholdSize              2.980000  \n",
       "PercentMarried               61.900000  \n",
       "PctNoHS18_24                 32.870000  \n",
       "PctHS18_24                   50.600000  \n",
       "PctBachDeg18_24              14.300000  \n",
       "PctHS25_Over                 45.400000  \n",
       "PctBachDeg25_Over            23.470000  \n",
       "PctEmployed16_Over           66.270000  \n",
       "PctUnemployed16_Over         13.800000  \n",
       "PctPrivateCoverage           80.570000  \n",
       "PctPrivateCoverageAlone      64.000000  \n",
       "PctEmpPrivCoverage           56.800000  \n",
       "PctPublicCoverage            49.000000  \n",
       "PctPublicCoverageAlone       29.900000  \n",
       "PctWhite                     97.767008  \n",
       "PctBlack                     42.170255  \n",
       "PctAsian                      4.471892  \n",
       "PctOtherRace                  7.858399  \n",
       "PctMarriedHouseholds         60.994728  \n",
       "BirthRate                     9.185456  "
      ]
     },
     "execution_count": 31,
     "metadata": {},
     "output_type": "execute_result"
    }
   ],
   "source": [
    "df.describe(percentiles=[0.01,.05,.025,.50,.75,.80,.85,.87,.89,.90,.95,.96,.97,.98,.99]).T"
   ]
  },
  {
   "cell_type": "raw",
   "metadata": {},
   "source": [
    "NOW I WILL PLOT THE STUDY VARIABLE TO SEE WHETHER IT IS NORMALLY DISTRIBUTED OR NOT"
   ]
  },
  {
   "cell_type": "code",
   "execution_count": 146,
   "metadata": {},
   "outputs": [
    {
     "name": "stderr",
     "output_type": "stream",
     "text": [
      "C:\\Users\\admin\\anaconda3\\lib\\site-packages\\seaborn\\distributions.py:2551: FutureWarning: `distplot` is a deprecated function and will be removed in a future version. Please adapt your code to use either `displot` (a figure-level function with similar flexibility) or `histplot` (an axes-level function for histograms).\n",
      "  warnings.warn(msg, FutureWarning)\n"
     ]
    },
    {
     "data": {
      "text/plain": [
       "<AxesSubplot:xlabel='TARGET_deathRate', ylabel='Density'>"
      ]
     },
     "execution_count": 146,
     "metadata": {},
     "output_type": "execute_result"
    },
    {
     "data": {
      "image/png": "[encoded data removed]",
      "text/plain": [
       "<Figure size 432x288 with 1 Axes>"
      ]
     },
     "metadata": {
      "needs_background": "light"
     },
     "output_type": "display_data"
    }
   ],
   "source": [
    "sns.distplot(df[(\"TARGET_deathRate\")])"
   ]
  },
  {
   "cell_type": "raw",
   "metadata": {},
   "source": [
    "IT IS NOT COMPLETELY NORMAL BUT SLIGHTLY RIGHT SKEWED\n",
    "BUT I FIRST RUN LINEAR REGRESSION ON IT TO SEE HOW GOOD IT PREDICT \n",
    "THE RESULT"
   ]
  },
  {
   "cell_type": "code",
   "execution_count": 147,
   "metadata": {},
   "outputs": [],
   "source": [
    "corr=df.corr()"
   ]
  },
  {
   "cell_type": "code",
   "execution_count": 148,
   "metadata": {},
   "outputs": [
    {
     "data": {
      "image/png": "[encoded data removed]",
      "text/plain": [
       "<Figure size 1440x1440 with 2 Axes>"
      ]
     },
     "metadata": {
      "needs_background": "light"
     },
     "output_type": "display_data"
    }
   ],
   "source": [
    "# Finding the correlation between the feature column\n",
    "\n",
    "plt.figure(figsize=(20,20))\n",
    "sns.heatmap(corr, annot=True)\n",
    "plt.show()"
   ]
  },
  {
   "cell_type": "raw",
   "metadata": {},
   "source": [
    "FROM THIS PLOT ITSELF WE CAN SEE THAT THERE ARE VARIABLES WHICH HAVE VERY HIGH CORRELATION BETWEEN THEM \n",
    "WHICH LEADS TO THE CHANCE OF MULTICOLLINEARITY BUT I WILL REMOVE IT AT THIS STEP ITSELF BUT IT \n",
    "IS REVEALED BY LINEAR REGRESSION ALSO WHICH VARIABLES ARE INSIGNIFICANT"
   ]
  },
  {
   "cell_type": "markdown",
   "metadata": {},
   "source": [
    "NOW I WILL TRY TO VISUALIZE THE RELATIONSHIP BETWEEN THE VARIBLES AND THEIR BEHAVIOUR"
   ]
  },
  {
   "cell_type": "raw",
   "metadata": {},
   "source": [
    "FROM PAIRPLOT WE HAVR ROUGH IDEA ABOUT THE RLATION BETWEEN VARIABLES AS WE CAN'T TRY AND CHECK FOR EACH VARIABLE SEPARATELY "
   ]
  },
  {
   "cell_type": "code",
   "execution_count": 38,
   "metadata": {},
   "outputs": [
    {
     "data": {
      "text/plain": [
       "<matplotlib.collections.PathCollection at 0x279351cfe50>"
      ]
     },
     "execution_count": 38,
     "metadata": {},
     "output_type": "execute_result"
    },
    {
     "data": {
      "image/png": "[encoded data removed]",
      "text/plain": [
       "<Figure size 432x288 with 1 Axes>"
      ]
     },
     "metadata": {
      "needs_background": "light"
     },
     "output_type": "display_data"
    }
   ],
   "source": [
    "plt.scatter(df['avgDeathsPerYear'],df['avgAnnCount'])"
   ]
  },
  {
   "cell_type": "raw",
   "metadata": {},
   "source": [
    "THIS PLOT SHOWS THERE IS A CLEAR HIGH OSITIVE CORRELATION BETWEEN  avgDeathsPerYear AND avgAnnCount"
   ]
  },
  {
   "cell_type": "code",
   "execution_count": 39,
   "metadata": {},
   "outputs": [
    {
     "data": {
      "text/plain": [
       "<matplotlib.collections.PathCollection at 0x279352344f0>"
      ]
     },
     "execution_count": 39,
     "metadata": {},
     "output_type": "execute_result"
    },
    {
     "data": {
      "image/png": "[encoded data removed]",
      "text/plain": [
       "<Figure size 432x288 with 1 Axes>"
      ]
     },
     "metadata": {
      "needs_background": "light"
     },
     "output_type": "display_data"
    }
   ],
   "source": [
    "plt.scatter(df['popEst2015'],df['avgAnnCount'])"
   ]
  },
  {
   "cell_type": "raw",
   "metadata": {},
   "source": [
    "THIS GRAPH ALSO SHOWS THAT ESTIMATED POPULATION OF 2015 HAS POSITIVE IMPAVCT ON AVERAGE ANUAL COUNT"
   ]
  },
  {
   "cell_type": "code",
   "execution_count": 40,
   "metadata": {},
   "outputs": [
    {
     "data": {
      "text/plain": [
       "<matplotlib.collections.PathCollection at 0x27935203c40>"
      ]
     },
     "execution_count": 40,
     "metadata": {},
     "output_type": "execute_result"
    },
    {
     "data": {
      "image/png": "[encoded data removed]",
      "text/plain": [
       "<Figure size 432x288 with 1 Axes>"
      ]
     },
     "metadata": {
      "needs_background": "light"
     },
     "output_type": "display_data"
    }
   ],
   "source": [
    "plt.scatter(df['MedianAgeFemale'],df['MedianAgeMale'])"
   ]
  },
  {
   "cell_type": "code",
   "execution_count": 41,
   "metadata": {},
   "outputs": [
    {
     "data": {
      "text/plain": [
       "<matplotlib.collections.PathCollection at 0x279352d6d00>"
      ]
     },
     "execution_count": 41,
     "metadata": {},
     "output_type": "execute_result"
    },
    {
     "data": {
      "image/png": "[encoded data removed]",
      "text/plain": [
       "<Figure size 432x288 with 1 Axes>"
      ]
     },
     "metadata": {
      "needs_background": "light"
     },
     "output_type": "display_data"
    }
   ],
   "source": [
    "plt.scatter(df['MedianAgeFemale'],df['MedianAge'])"
   ]
  },
  {
   "cell_type": "code",
   "execution_count": 42,
   "metadata": {},
   "outputs": [
    {
     "data": {
      "text/plain": [
       "<matplotlib.collections.PathCollection at 0x279353301f0>"
      ]
     },
     "execution_count": 42,
     "metadata": {},
     "output_type": "execute_result"
    },
    {
     "data": {
      "image/png": "[encoded data removed]",
      "text/plain": [
       "<Figure size 432x288 with 1 Axes>"
      ]
     },
     "metadata": {
      "needs_background": "light"
     },
     "output_type": "display_data"
    }
   ],
   "source": [
    "plt.scatter(df['MedianAgeMale'],df['MedianAge'])"
   ]
  },
  {
   "cell_type": "raw",
   "metadata": {},
   "source": [
    "FROM ABOVE THREE GRAPHS WE CAN SEE THAT ALL THE THREE VARIABLES MedianAge,MedianAgeFemale,MedianAgeMale \n",
    "are highly correlated with each other so i thought it better to consider one among them for model building"
   ]
  },
  {
   "cell_type": "code",
   "execution_count": 37,
   "metadata": {},
   "outputs": [],
   "source": [
    "df.drop(columns=['popEst2015','MedianAgeMale','MedianAgeFemale','PctPrivateCoverageAlone','PctEmpPrivCoverage',\n",
    "                 'PctMarriedHouseholds','PctPublicCoverageAlone'],inplace=True)\n",
    "#I CHOOSE TO DROP THESE VARIABLES AS THEY ARE HIGHLY CORRELATED WITH OTHER VARIABLES ALSO"
   ]
  },
  {
   "cell_type": "code",
   "execution_count": 38,
   "metadata": {},
   "outputs": [
    {
     "data": {
      "text/plain": [
       "(3047, 25)"
      ]
     },
     "execution_count": 38,
     "metadata": {},
     "output_type": "execute_result"
    }
   ],
   "source": [
    "df.shape"
   ]
  },
  {
   "cell_type": "raw",
   "metadata": {},
   "source": [
    "NOW IMPORT TRAIN TEST SPLIT FROM SKLEARN.MODEL_SELECTION TO SPLIT THE DATA INTO TRAIN AND TEST PART"
   ]
  },
  {
   "cell_type": "code",
   "execution_count": 39,
   "metadata": {},
   "outputs": [],
   "source": [
    "from sklearn.model_selection import train_test_split\n",
    "train,test=train_test_split(df,test_size=0.3,random_state=0)"
   ]
  },
  {
   "cell_type": "code",
   "execution_count": 40,
   "metadata": {},
   "outputs": [],
   "source": [
    "import statsmodels.formula.api as smp"
   ]
  },
  {
   "cell_type": "code",
   "execution_count": 41,
   "metadata": {},
   "outputs": [
    {
     "data": {
      "text/plain": [
       "Index(['avgAnnCount', 'avgDeathsPerYear', 'TARGET_deathRate', 'incidenceRate',\n",
       "       'medIncome', 'povertyPercent', 'studyPerCap', 'binnedInc', 'MedianAge',\n",
       "       'AvgHouseholdSize', 'PercentMarried', 'PctNoHS18_24', 'PctHS18_24',\n",
       "       'PctBachDeg18_24', 'PctHS25_Over', 'PctBachDeg25_Over',\n",
       "       'PctEmployed16_Over', 'PctUnemployed16_Over', 'PctPrivateCoverage',\n",
       "       'PctPublicCoverage', 'PctWhite', 'PctBlack', 'PctAsian', 'PctOtherRace',\n",
       "       'BirthRate'],\n",
       "      dtype='object')"
      ]
     },
     "execution_count": 41,
     "metadata": {},
     "output_type": "execute_result"
    }
   ],
   "source": [
    "df.columns"
   ]
  },
  {
   "cell_type": "code",
   "execution_count": 42,
   "metadata": {},
   "outputs": [],
   "source": [
    "x=df.drop(columns=['TARGET_deathRate'])\n",
    "y=df['TARGET_deathRate']"
   ]
  },
  {
   "cell_type": "code",
   "execution_count": 43,
   "metadata": {},
   "outputs": [],
   "source": [
    "x_train,x_test,y_train,y_test=train_test_split(x,y,test_size=0.3,random_state=0)"
   ]
  },
  {
   "cell_type": "code",
   "execution_count": 44,
   "metadata": {},
   "outputs": [],
   "source": [
    "from sklearn.linear_model import LinearRegression\n",
    "linr=LinearRegression()"
   ]
  },
  {
   "cell_type": "code",
   "execution_count": 45,
   "metadata": {},
   "outputs": [
    {
     "data": {
      "text/plain": [
       "LinearRegression()"
      ]
     },
     "execution_count": 45,
     "metadata": {},
     "output_type": "execute_result"
    }
   ],
   "source": [
    "linr.fit(x_train,y_train)"
   ]
  },
  {
   "cell_type": "code",
   "execution_count": 46,
   "metadata": {},
   "outputs": [
    {
     "data": {
      "text/plain": [
       "0.5070040220845186"
      ]
     },
     "execution_count": 46,
     "metadata": {},
     "output_type": "execute_result"
    }
   ],
   "source": [
    "linr.score(x_train,y_train)"
   ]
  },
  {
   "cell_type": "code",
   "execution_count": 47,
   "metadata": {},
   "outputs": [
    {
     "data": {
      "text/plain": [
       "LinearRegression()"
      ]
     },
     "execution_count": 47,
     "metadata": {},
     "output_type": "execute_result"
    }
   ],
   "source": [
    "linr.fit(x_test,y_test)"
   ]
  },
  {
   "cell_type": "code",
   "execution_count": 48,
   "metadata": {},
   "outputs": [
    {
     "data": {
      "text/plain": [
       "0.5275123159176027"
      ]
     },
     "execution_count": 48,
     "metadata": {},
     "output_type": "execute_result"
    }
   ],
   "source": [
    "linr.score(x_test,y_test)"
   ]
  },
  {
   "cell_type": "raw",
   "metadata": {},
   "source": [
    "since it provide approx 50% of accuracy which is not at all good this is because of non normal data\n",
    "so it's better not to consider this model we will move further with other advanced techniques"
   ]
  },
  {
   "cell_type": "code",
   "execution_count": 57,
   "metadata": {},
   "outputs": [],
   "source": [
    "from sklearn.ensemble import RandomForestRegressor\n",
    "rf=RandomForestRegressor()"
   ]
  },
  {
   "cell_type": "code",
   "execution_count": 58,
   "metadata": {},
   "outputs": [
    {
     "data": {
      "text/plain": [
       "RandomForestRegressor()"
      ]
     },
     "execution_count": 58,
     "metadata": {},
     "output_type": "execute_result"
    }
   ],
   "source": [
    "rf.fit(x_train,y_train)"
   ]
  },
  {
   "cell_type": "code",
   "execution_count": 59,
   "metadata": {},
   "outputs": [
    {
     "name": "stdout",
     "output_type": "stream",
     "text": [
      "Train accuracy 0.9317384631702984\n",
      "Test accuracy: 0.5633375438995245\n"
     ]
    }
   ],
   "source": [
    "print('Train accuracy',rf.score(x_train,y_train))\n",
    "print(\"Test accuracy:\", rf.score(x_test,y_test))"
   ]
  },
  {
   "cell_type": "code",
   "execution_count": 60,
   "metadata": {},
   "outputs": [
    {
     "name": "stdout",
     "output_type": "stream",
     "text": [
      "Fitting 5 folds for each of 96 candidates, totalling 480 fits\n"
     ]
    },
    {
     "data": {
      "text/plain": [
       "GridSearchCV(cv=5, estimator=RandomForestRegressor(), n_jobs=-1,\n",
       "             param_grid={'max_depth': [6, 8, 9, 10],\n",
       "                         'min_samples_leaf': [2, 5, 10],\n",
       "                         'min_samples_split': [2, 3, 4, 5],\n",
       "                         'n_estimators': [100, 150]},\n",
       "             verbose=1)"
      ]
     },
     "execution_count": 60,
     "metadata": {},
     "output_type": "execute_result"
    }
   ],
   "source": [
    "\n",
    "parameters = {'n_estimators':[100,150],\n",
    "              'min_samples_split':[2,3,4,5], \n",
    "              'max_depth':[6,8,9,10],\n",
    "              \"min_samples_leaf\":[2,5,10]\n",
    "             }\n",
    "\n",
    "rf = RandomForestRegressor()\n",
    "gsearch2 = GridSearchCV(rf, parameters, cv=5, verbose=1, n_jobs=-1)\n",
    "gsearch2.fit(x_train, y_train)"
   ]
  },
  {
   "cell_type": "code",
   "execution_count": 61,
   "metadata": {},
   "outputs": [
    {
     "data": {
      "text/plain": [
       "{'max_depth': 10,\n",
       " 'min_samples_leaf': 2,\n",
       " 'min_samples_split': 2,\n",
       " 'n_estimators': 150}"
      ]
     },
     "execution_count": 61,
     "metadata": {},
     "output_type": "execute_result"
    }
   ],
   "source": [
    "gsearch2.best_params_"
   ]
  },
  {
   "cell_type": "code",
   "execution_count": 62,
   "metadata": {},
   "outputs": [
    {
     "data": {
      "text/plain": [
       "RandomForestRegressor(max_depth=6, min_samples_leaf=3, n_estimators=150)"
      ]
     },
     "execution_count": 62,
     "metadata": {},
     "output_type": "execute_result"
    }
   ],
   "source": [
    "rf2=RandomForestRegressor(max_depth= 6, min_samples_leaf= 3, min_samples_split=2,n_estimators=150,max_features='auto')\n",
    "rf2.fit(x_train,y_train)"
   ]
  },
  {
   "cell_type": "code",
   "execution_count": 63,
   "metadata": {},
   "outputs": [
    {
     "name": "stdout",
     "output_type": "stream",
     "text": [
      "Train accuracy 0.6653966673286456\n",
      "Test accuracy: 0.5447305461802786\n"
     ]
    }
   ],
   "source": [
    "print('Train accuracy',rf2.score(x_train,y_train))\n",
    "print(\"Test accuracy:\", rf2.score(x_test,y_test))"
   ]
  },
  {
   "cell_type": "code",
   "execution_count": 64,
   "metadata": {},
   "outputs": [],
   "source": [
    "pred_y_trn=rf2.predict(x_train)"
   ]
  },
  {
   "cell_type": "code",
   "execution_count": 65,
   "metadata": {},
   "outputs": [],
   "source": [
    "pred_y_test=rf2.predict(x_test)"
   ]
  },
  {
   "cell_type": "code",
   "execution_count": 66,
   "metadata": {},
   "outputs": [
    {
     "name": "stdout",
     "output_type": "stream",
     "text": [
      "Mean Absolute Error: 11.411878276323941\n",
      "Mean Absolute Percentage Error: 6.642908095124053\n",
      "Mean Squared Error: 215.50927599514938\n",
      "Root Mean Squared Error: 14.680234194151991\n"
     ]
    }
   ],
   "source": [
    "from sklearn import metrics\n",
    "print('Mean Absolute Error:', metrics.mean_absolute_error(y_train, pred_y_trn))  \n",
    "print('Mean Absolute Percentage Error:', np.mean(np.abs(((pred_y_trn-y_train)/y_train)*100)))\n",
    "print('Mean Squared Error:', metrics.mean_squared_error(y_train, pred_y_trn))  \n",
    "print('Root Mean Squared Error:', np.sqrt(metrics.mean_squared_error(y_train, pred_y_trn)))"
   ]
  },
  {
   "cell_type": "code",
   "execution_count": 67,
   "metadata": {},
   "outputs": [
    {
     "name": "stdout",
     "output_type": "stream",
     "text": [
      "Mean Absolute Error: 12.98987297328543\n",
      "Mean Absolute Percentage Error: 7.574263636846043\n",
      "Mean Squared Error: 287.0757159115351\n",
      "Root Mean Squared Error: 16.943308883200327\n"
     ]
    }
   ],
   "source": [
    "print('Mean Absolute Error:', metrics.mean_absolute_error(y_test, pred_y_test))  \n",
    "print('Mean Absolute Percentage Error:', np.mean(np.abs(((pred_y_test-y_test)/y_test)*100)))\n",
    "print('Mean Squared Error:', metrics.mean_squared_error(y_test, pred_y_test))  \n",
    "print('Root Mean Squared Error:', np.sqrt(metrics.mean_squared_error(y_test, pred_y_test)))"
   ]
  },
  {
   "cell_type": "code",
   "execution_count": 68,
   "metadata": {},
   "outputs": [],
   "source": [
    "import lightgbm as lgb\n",
    "lgbm_model=lgb.LGBMRegressor()"
   ]
  },
  {
   "cell_type": "code",
   "execution_count": 69,
   "metadata": {},
   "outputs": [
    {
     "data": {
      "text/plain": [
       "LGBMRegressor()"
      ]
     },
     "execution_count": 69,
     "metadata": {},
     "output_type": "execute_result"
    }
   ],
   "source": [
    "lgbm_model.fit(x_train,y_train)"
   ]
  },
  {
   "cell_type": "code",
   "execution_count": 70,
   "metadata": {},
   "outputs": [
    {
     "name": "stdout",
     "output_type": "stream",
     "text": [
      "Train accuracy 0.9458876664426674\n",
      "Test accuracy: 0.6770187897624189\n"
     ]
    }
   ],
   "source": [
    "print('Train accuracy',lgbm_model.score(x_train,y_train))\n",
    "print(\"Test accuracy:\", lgbm_model.score(x_test,y_test))"
   ]
  },
  {
   "cell_type": "code",
   "execution_count": 71,
   "metadata": {},
   "outputs": [
    {
     "name": "stdout",
     "output_type": "stream",
     "text": [
      "Fitting 5 folds for each of 60 candidates, totalling 300 fits\n"
     ]
    },
    {
     "name": "stderr",
     "output_type": "stream",
     "text": [
      "C:\\Users\\admin\\anaconda3\\lib\\site-packages\\sklearn\\model_selection\\_validation.py:372: FitFailedWarning: \n",
      "150 fits failed out of a total of 300.\n",
      "The score on these train-test partitions for these parameters will be set to nan.\n",
      "If these failures are not expected, you can try to debug them by setting error_score='raise'.\n",
      "\n",
      "Below are more details about the failures:\n",
      "--------------------------------------------------------------------------------\n",
      "150 fits failed with the following error:\n",
      "Traceback (most recent call last):\n",
      "  File \"C:\\Users\\admin\\anaconda3\\lib\\site-packages\\sklearn\\model_selection\\_validation.py\", line 681, in _fit_and_score\n",
      "    estimator.fit(X_train, y_train, **fit_params)\n",
      "  File \"C:\\Users\\admin\\anaconda3\\lib\\site-packages\\lightgbm\\sklearn.py\", line 895, in fit\n",
      "    super().fit(X, y, sample_weight=sample_weight, init_score=init_score,\n",
      "  File \"C:\\Users\\admin\\anaconda3\\lib\\site-packages\\lightgbm\\sklearn.py\", line 748, in fit\n",
      "    self._Booster = train(\n",
      "  File \"C:\\Users\\admin\\anaconda3\\lib\\site-packages\\lightgbm\\engine.py\", line 272, in train\n",
      "    booster = Booster(params=params, train_set=train_set)\n",
      "  File \"C:\\Users\\admin\\anaconda3\\lib\\site-packages\\lightgbm\\basic.py\", line 2610, in __init__\n",
      "    _safe_call(_LIB.LGBM_BoosterCreate(\n",
      "  File \"C:\\Users\\admin\\anaconda3\\lib\\site-packages\\lightgbm\\basic.py\", line 125, in _safe_call\n",
      "    raise LightGBMError(_LIB.LGBM_GetLastError().decode('utf-8'))\n",
      "lightgbm.basic.LightGBMError: Check failed: config->bagging_freq > 0 && config->bagging_fraction < 1.0f && config->bagging_fraction > 0.0f at d:\\a\\1\\s\\python-package\\compile\\src\\boosting\\rf.hpp, line 35 .\n",
      "\n",
      "\n",
      "  warnings.warn(some_fits_failed_message, FitFailedWarning)\n",
      "C:\\Users\\admin\\anaconda3\\lib\\site-packages\\sklearn\\model_selection\\_search.py:969: UserWarning: One or more of the test scores are non-finite: [       nan        nan        nan        nan        nan        nan\n",
      "        nan        nan        nan        nan        nan        nan\n",
      "        nan        nan        nan        nan        nan        nan\n",
      "        nan        nan        nan        nan        nan        nan\n",
      "        nan        nan        nan        nan        nan        nan\n",
      " 0.19589982 0.30528434 0.37184057 0.29075939 0.41295344 0.46765174\n",
      " 0.29220505 0.41479376 0.47190969 0.29217814 0.41382704 0.46983022\n",
      " 0.29217814 0.41415248 0.47030572 0.02658755 0.05174278 0.07462923\n",
      " 0.04270538 0.08098259 0.11585725 0.04279025 0.08111223 0.11636471\n",
      " 0.04276767 0.08113098 0.11640934 0.04276767 0.08113098 0.11640934]\n",
      "  warnings.warn(\n"
     ]
    },
    {
     "data": {
      "text/plain": [
       "GridSearchCV(cv=5, estimator=LGBMRegressor(), n_jobs=-1,\n",
       "             param_grid={'boosting_type': ['rf', 'gbdt'],\n",
       "                         'learning_rate': [0.01, 0.001],\n",
       "                         'max_depth': [2, 6, 8, 10, 12],\n",
       "                         'n_estimators': [50, 100, 150]},\n",
       "             verbose=1)"
      ]
     },
     "execution_count": 71,
     "metadata": {},
     "output_type": "execute_result"
    }
   ],
   "source": [
    "\n",
    "parameters = {'n_estimators':[50,100,150],\n",
    "              'max_depth':[2,6,8,10,12],\n",
    "              \"boosting_type\":['rf','gbdt'],\n",
    "            'learning_rate':[0.01,.001]\n",
    "             }\n",
    "\n",
    "lgbm = lgb.LGBMRegressor()\n",
    "gsearch3 = GridSearchCV(lgbm, parameters, cv=5, verbose=1, n_jobs=-1)\n",
    "gsearch3.fit(x_train, y_train)"
   ]
  },
  {
   "cell_type": "code",
   "execution_count": 72,
   "metadata": {},
   "outputs": [
    {
     "data": {
      "text/plain": [
       "{'boosting_type': 'gbdt',\n",
       " 'learning_rate': 0.01,\n",
       " 'max_depth': 8,\n",
       " 'n_estimators': 150}"
      ]
     },
     "execution_count": 72,
     "metadata": {},
     "output_type": "execute_result"
    }
   ],
   "source": [
    "gsearch3.best_params_"
   ]
  },
  {
   "cell_type": "code",
   "execution_count": 73,
   "metadata": {},
   "outputs": [],
   "source": [
    "lgbm_model2=lgb.LGBMRegressor(boosting_type='gbdt',learning_rate=0.1,max_depth=2,n_estimators=150)"
   ]
  },
  {
   "cell_type": "code",
   "execution_count": 74,
   "metadata": {},
   "outputs": [
    {
     "data": {
      "text/plain": [
       "LGBMRegressor(max_depth=2, n_estimators=150)"
      ]
     },
     "execution_count": 74,
     "metadata": {},
     "output_type": "execute_result"
    }
   ],
   "source": [
    "lgbm_model2.fit(x_train,y_train)"
   ]
  },
  {
   "cell_type": "code",
   "execution_count": 75,
   "metadata": {},
   "outputs": [
    {
     "name": "stdout",
     "output_type": "stream",
     "text": [
      "Train accuracy 0.6610086738647086\n",
      "Test accuracy: 0.5910476604403221\n"
     ]
    }
   ],
   "source": [
    "print('Train accuracy',lgbm_model2.score(x_train,y_train))\n",
    "print(\"Test accuracy:\", lgbm_model2.score(x_test,y_test))"
   ]
  },
  {
   "cell_type": "code",
   "execution_count": 76,
   "metadata": {},
   "outputs": [],
   "source": [
    "pred_trn_lgbm=lgbm_model2.predict(x_train)"
   ]
  },
  {
   "cell_type": "code",
   "execution_count": 77,
   "metadata": {},
   "outputs": [],
   "source": [
    "pred_test_lgbm=lgbm_model2.predict(x_test)"
   ]
  },
  {
   "cell_type": "code",
   "execution_count": 78,
   "metadata": {},
   "outputs": [
    {
     "name": "stdout",
     "output_type": "stream",
     "text": [
      "Mean Absolute Error: 11.3691667098729\n",
      "Mean Absolute Percentage Error: nan\n",
      "Mean Squared Error: 218.3354680923253\n",
      "Root Mean Squared Error: 14.776179076213353\n"
     ]
    }
   ],
   "source": [
    "print('Mean Absolute Error:', metrics.mean_absolute_error(y_train, pred_trn_lgbm))  \n",
    "print('Mean Absolute Percentage Error:', np.mean(np.abs(((pred_trn_lgbm-y_train)/y_test)*100)))\n",
    "print('Mean Squared Error:', metrics.mean_squared_error(y_train, pred_trn_lgbm))  \n",
    "print('Root Mean Squared Error:', np.sqrt(metrics.mean_squared_error(y_train, pred_trn_lgbm)))"
   ]
  },
  {
   "cell_type": "code",
   "execution_count": 79,
   "metadata": {},
   "outputs": [
    {
     "name": "stdout",
     "output_type": "stream",
     "text": [
      "Mean Absolute Error: 12.196520535324236\n",
      "Mean Absolute Percentage Error: 7.053175555404568\n",
      "Mean Squared Error: 257.8698936812048\n",
      "Root Mean Squared Error: 16.058327860683526\n"
     ]
    }
   ],
   "source": [
    "print('Mean Absolute Error:', metrics.mean_absolute_error(y_test, pred_test_lgbm))  \n",
    "print('Mean Absolute Percentage Error:', np.mean(np.abs(((pred_test_lgbm-y_test)/y_test)*100)))\n",
    "print('Mean Squared Error:', metrics.mean_squared_error(y_test, pred_test_lgbm))  \n",
    "print('Root Mean Squared Error:', np.sqrt(metrics.mean_squared_error(y_test, pred_test_lgbm)))"
   ]
  },
  {
   "cell_type": "code",
   "execution_count": 80,
   "metadata": {},
   "outputs": [
    {
     "data": {
      "text/plain": [
       "GridSearchCV(cv=5, estimator=Ridge(),\n",
       "             param_grid={'alpha': [1e-15, 1e-10, 1e-08, 0.0001, 0.001, 0.01, 1,\n",
       "                                   5, 10, 20]},\n",
       "             scoring='neg_mean_squared_error')"
      ]
     },
     "execution_count": 80,
     "metadata": {},
     "output_type": "execute_result"
    }
   ],
   "source": [
    "#Ridge Regression\n",
    "from sklearn.linear_model import Ridge\n",
    "ridge = Ridge()\n",
    "\n",
    "parameters = {\"alpha\":[1e-15, 1e-10, 1e-8, 1e-4, 1e-3, 1e-2, 1, 5, 10, 20]}\n",
    "ridge_regression = GridSearchCV(ridge, parameters, scoring='neg_mean_squared_error', cv=5)\n",
    "ridge_regression.fit(x_train, y_train)"
   ]
  },
  {
   "cell_type": "code",
   "execution_count": 81,
   "metadata": {},
   "outputs": [
    {
     "name": "stdout",
     "output_type": "stream",
     "text": [
      "{'alpha': 20}\n",
      "-328.0351254946205\n"
     ]
    }
   ],
   "source": [
    "print(ridge_regression.best_params_)\n",
    "print(ridge_regression.best_score_)"
   ]
  },
  {
   "cell_type": "code",
   "execution_count": 82,
   "metadata": {},
   "outputs": [],
   "source": [
    "y_ridge_trn=ridge_regression.predict(x_train)\n",
    "y_ridge_test=ridge_regression.predict(x_test)"
   ]
  },
  {
   "cell_type": "code",
   "execution_count": 83,
   "metadata": {},
   "outputs": [
    {
     "name": "stdout",
     "output_type": "stream",
     "text": [
      "Mean Absolute Error: 13.50779775446951\n",
      "Mean Absolute Percentage Error: 2.963703598358157\n",
      "Mean Squared Error: 45.88598365606863\n",
      "Root Mean Squared Error: 6.7739193718310995\n"
     ]
    }
   ],
   "source": [
    "\n",
    "print('Mean Absolute Error:', metrics.mean_absolute_error(y_train, y_ridge_trn))  \n",
    "print('Mean Absolute Percentage Error:', np.mean(np.abs(((pred_y_trn-y_ridge_trn)/y_train)*100)))\n",
    "print('Mean Squared Error:', metrics.mean_squared_error(y_ridge_trn, pred_y_trn))  \n",
    "print('Root Mean Squared Error:', np.sqrt(metrics.mean_squared_error(y_ridge_trn, pred_y_trn)))\n"
   ]
  },
  {
   "cell_type": "code",
   "execution_count": 84,
   "metadata": {},
   "outputs": [
    {
     "name": "stdout",
     "output_type": "stream",
     "text": [
      "Mean Absolute Error: 4.662783102437293\n",
      "Mean Absolute Percentage Error: 2.7281202783403344\n",
      "Mean Squared Error: 35.8574332808894\n",
      "Root Mean Squared Error: 5.988107654417162\n"
     ]
    }
   ],
   "source": [
    "print('Mean Absolute Error:', metrics.mean_absolute_error(y_ridge_test, pred_y_test))  \n",
    "print('Mean Absolute Percentage Error:', np.mean(np.abs(((pred_y_test-y_ridge_test)/y_test)*100)))\n",
    "print('Mean Squared Error:', metrics.mean_squared_error(y_ridge_test, pred_y_test))  \n",
    "print('Root Mean Squared Error:', np.sqrt(metrics.mean_squared_error(y_ridge_test, pred_y_test)))"
   ]
  },
  {
   "cell_type": "raw",
   "metadata": {},
   "source": [
    "NOW IF WE COMPARE ALL THE MODEL WHICH I RAN ABOVE \n",
    "IN TERMS OF THEIR PERFORMANCE IF I TALK IN TERMS OF ROOT MEAN SQUARE ERROR \n",
    "ONLY THE RIDGE MODEL HAS LEAST RMSE OF ABOUT 6% FOR BOTH TRAIN AND TEST\n",
    "SO I CONSIDER RIDGE MODEL FOR PREDICTION"
   ]
  },
  {
   "cell_type": "raw",
   "metadata": {},
   "source": [
    "NOW I WILL CHECK FOR DEEP LEARNING MODEL HOW IT PREDICT THE RESULT"
   ]
  },
  {
   "cell_type": "code",
   "execution_count": 85,
   "metadata": {},
   "outputs": [],
   "source": [
    "from sklearn.preprocessing import StandardScaler\n",
    "sc=StandardScaler()"
   ]
  },
  {
   "cell_type": "code",
   "execution_count": 86,
   "metadata": {},
   "outputs": [],
   "source": [
    "x_train=sc.fit_transform(x_train)\n",
    "x_test=sc.transform(x_test)"
   ]
  },
  {
   "cell_type": "code",
   "execution_count": 87,
   "metadata": {},
   "outputs": [
    {
     "data": {
      "text/plain": [
       "(2132, 24)"
      ]
     },
     "execution_count": 87,
     "metadata": {},
     "output_type": "execute_result"
    }
   ],
   "source": [
    "x_train.shape"
   ]
  },
  {
   "cell_type": "code",
   "execution_count": 88,
   "metadata": {},
   "outputs": [],
   "source": [
    "from keras.models import Sequential\n",
    "from keras.layers import Dense, LSTM\n"
   ]
  },
  {
   "cell_type": "code",
   "execution_count": 108,
   "metadata": {},
   "outputs": [],
   "source": [
    "def build_model(hp):\n",
    "    model=keras.Sequential()\n",
    "    for i in range(hp.Int('num_layers',2,20)):\n",
    "        model.add(layers.Dense(units=hp.Int('units_'+ str(i),\n",
    "                                           min_value=32,max_value=256,\n",
    "                                           step=32),\n",
    "                               activation='relu'))\n",
    "    model.add(layers.Dense(1,activation='linear'))\n",
    "    model.compile(\n",
    "        optimizer=keras.optimizers.Adam(\n",
    "            hp.Choice('learning_rate',[0.1,.01,.001])),\n",
    "        loss='mean_absolute_error',\n",
    "        metrics=['mean_absolute_error'])\n",
    "    return model\n",
    "        "
   ]
  },
  {
   "cell_type": "code",
   "execution_count": 109,
   "metadata": {},
   "outputs": [],
   "source": [
    "\n",
    "from tensorflow import keras\n",
    "from tensorflow.keras import layers\n",
    "from kerastuner.tuners import RandomSearch"
   ]
  },
  {
   "cell_type": "code",
   "execution_count": 110,
   "metadata": {},
   "outputs": [],
   "source": [
    "tuner=RandomSearch(\n",
    "    build_model,\n",
    "    objective='val_mean_absolute_error',\n",
    "    max_trials=5,\n",
    "    executions_per_trial=3,\n",
    "    directory='Desktop',\n",
    "    project_name='internship')"
   ]
  },
  {
   "cell_type": "code",
   "execution_count": 111,
   "metadata": {},
   "outputs": [
    {
     "name": "stdout",
     "output_type": "stream",
     "text": [
      "Search space summary\n",
      "Default search space size: 4\n",
      "num_layers (Int)\n",
      "{'default': None, 'conditions': [], 'min_value': 2, 'max_value': 20, 'step': 1, 'sampling': None}\n",
      "units_0 (Int)\n",
      "{'default': None, 'conditions': [], 'min_value': 32, 'max_value': 256, 'step': 32, 'sampling': None}\n",
      "units_1 (Int)\n",
      "{'default': None, 'conditions': [], 'min_value': 32, 'max_value': 256, 'step': 32, 'sampling': None}\n",
      "learning_rate (Choice)\n",
      "{'default': 0.1, 'conditions': [], 'values': [0.1, 0.01, 0.001], 'ordered': True}\n"
     ]
    }
   ],
   "source": [
    "tuner.search_space_summary()"
   ]
  },
  {
   "cell_type": "code",
   "execution_count": 112,
   "metadata": {},
   "outputs": [
    {
     "name": "stdout",
     "output_type": "stream",
     "text": [
      "Trial 5 Complete [00h 00m 33s]\n",
      "val_mean_absolute_error: 14.774851481119791\n",
      "\n",
      "Best val_mean_absolute_error So Far: 13.656865755716959\n",
      "Total elapsed time: 00h 02m 06s\n",
      "INFO:tensorflow:Oracle triggered exit\n"
     ]
    },
    {
     "name": "stderr",
     "output_type": "stream",
     "text": [
      "INFO:tensorflow:Oracle triggered exit\n"
     ]
    }
   ],
   "source": [
    "tuner.search(x_train,y_train,\n",
    "             epochs=5,\n",
    "            validation_data=(x_test,y_test))"
   ]
  },
  {
   "cell_type": "code",
   "execution_count": 113,
   "metadata": {},
   "outputs": [
    {
     "name": "stdout",
     "output_type": "stream",
     "text": [
      "Results summary\n",
      "Results in Desktop\\internship\n",
      "Showing 10 best trials\n",
      "Objective(name='val_mean_absolute_error', direction='min')\n",
      "Trial summary\n",
      "Hyperparameters:\n",
      "num_layers: 17\n",
      "units_0: 160\n",
      "units_1: 192\n",
      "learning_rate: 0.01\n",
      "units_2: 32\n",
      "units_3: 32\n",
      "units_4: 32\n",
      "units_5: 32\n",
      "units_6: 32\n",
      "units_7: 32\n",
      "units_8: 32\n",
      "units_9: 32\n",
      "units_10: 32\n",
      "units_11: 32\n",
      "units_12: 32\n",
      "units_13: 32\n",
      "units_14: 32\n",
      "units_15: 32\n",
      "units_16: 32\n",
      "Score: 13.656865755716959\n",
      "Trial summary\n",
      "Hyperparameters:\n",
      "num_layers: 17\n",
      "units_0: 96\n",
      "units_1: 96\n",
      "learning_rate: 0.01\n",
      "units_2: 224\n",
      "units_3: 224\n",
      "units_4: 192\n",
      "units_5: 160\n",
      "units_6: 224\n",
      "units_7: 32\n",
      "units_8: 96\n",
      "units_9: 32\n",
      "units_10: 32\n",
      "units_11: 192\n",
      "units_12: 192\n",
      "units_13: 64\n",
      "units_14: 192\n",
      "units_15: 64\n",
      "units_16: 96\n",
      "Score: 14.698711395263672\n",
      "Trial summary\n",
      "Hyperparameters:\n",
      "num_layers: 16\n",
      "units_0: 160\n",
      "units_1: 64\n",
      "learning_rate: 0.001\n",
      "units_2: 128\n",
      "units_3: 224\n",
      "units_4: 192\n",
      "units_5: 96\n",
      "units_6: 128\n",
      "units_7: 64\n",
      "units_8: 224\n",
      "units_9: 96\n",
      "units_10: 64\n",
      "units_11: 160\n",
      "units_12: 192\n",
      "units_13: 128\n",
      "units_14: 96\n",
      "units_15: 64\n",
      "units_16: 192\n",
      "Score: 14.774851481119791\n",
      "Trial summary\n",
      "Hyperparameters:\n",
      "num_layers: 4\n",
      "units_0: 160\n",
      "units_1: 256\n",
      "learning_rate: 0.001\n",
      "units_2: 160\n",
      "units_3: 256\n",
      "units_4: 256\n",
      "units_5: 96\n",
      "units_6: 160\n",
      "units_7: 192\n",
      "units_8: 160\n",
      "units_9: 64\n",
      "units_10: 192\n",
      "units_11: 224\n",
      "units_12: 96\n",
      "units_13: 256\n",
      "units_14: 224\n",
      "units_15: 128\n",
      "units_16: 128\n",
      "Score: 18.631938298543293\n",
      "Trial summary\n",
      "Hyperparameters:\n",
      "num_layers: 7\n",
      "units_0: 96\n",
      "units_1: 96\n",
      "learning_rate: 0.1\n",
      "units_2: 160\n",
      "units_3: 256\n",
      "units_4: 224\n",
      "units_5: 224\n",
      "units_6: 96\n",
      "units_7: 96\n",
      "units_8: 256\n",
      "units_9: 64\n",
      "units_10: 32\n",
      "units_11: 224\n",
      "units_12: 224\n",
      "units_13: 128\n",
      "units_14: 160\n",
      "units_15: 96\n",
      "units_16: 128\n",
      "Score: 20.262939453125\n"
     ]
    }
   ],
   "source": [
    "tuner.results_summary()"
   ]
  },
  {
   "cell_type": "raw",
   "metadata": {},
   "source": [
    "FROM SUMMARY WE CAN SEE THAT NUM_LAYERS=17,LEARNING_RATE=0.01,UNITS=32 FOR EACH LAYER\n",
    "SCORE=13.656 i.e MEAN_ABSOLUTE_ERROR = 13.65 MINIMUM AMONG ALL THE TRIALS  "
   ]
  }
 ],
 "metadata": {
  "kernelspec": {
   "display_name": "Python 3",
   "language": "python",
   "name": "python3"
  },
  "language_info": {
   "codemirror_mode": {
    "name": "ipython",
    "version": 3
   },
   "file_extension": ".py",
   "mimetype": "text/x-python",
   "name": "python",
   "nbconvert_exporter": "python",
   "pygments_lexer": "ipython3",
   "version": "3.8.5"
  }
 },
 "nbformat": 4,
 "nbformat_minor": 4
}
